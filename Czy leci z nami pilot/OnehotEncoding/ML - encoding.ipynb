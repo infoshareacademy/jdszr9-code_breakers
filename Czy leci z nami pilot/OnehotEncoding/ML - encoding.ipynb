{
 "cells": [
  {
   "cell_type": "code",
   "execution_count": 1,
   "metadata": {},
   "outputs": [],
   "source": [
    "import pandas as pd\n",
    "import category_encoders as ce\n",
    "from sklearn.preprocessing import OneHotEncoder\n",
    "import numpy as np"
   ]
  },
  {
   "cell_type": "code",
   "execution_count": 2,
   "metadata": {},
   "outputs": [],
   "source": [
    "fly = pd.read_csv('aviation_accident.csv')"
   ]
  },
  {
   "cell_type": "code",
   "execution_count": 3,
   "metadata": {},
   "outputs": [
    {
     "data": {
      "text/html": [
       "<div>\n",
       "<style scoped>\n",
       "    .dataframe tbody tr th:only-of-type {\n",
       "        vertical-align: middle;\n",
       "    }\n",
       "\n",
       "    .dataframe tbody tr th {\n",
       "        vertical-align: top;\n",
       "    }\n",
       "\n",
       "    .dataframe thead th {\n",
       "        text-align: right;\n",
       "    }\n",
       "</style>\n",
       "<table border=\"1\" class=\"dataframe\">\n",
       "  <thead>\n",
       "    <tr style=\"text-align: right;\">\n",
       "      <th></th>\n",
       "      <th>Unnamed: 0</th>\n",
       "      <th>Event.Date</th>\n",
       "      <th>Injury.Severity</th>\n",
       "      <th>Aircraft.damage</th>\n",
       "      <th>Make</th>\n",
       "      <th>Number.of.Engines</th>\n",
       "      <th>Engine.Type</th>\n",
       "      <th>Total.Fatal.Injuries</th>\n",
       "      <th>Total.Serious.Injuries</th>\n",
       "      <th>Total.Minor.Injuries</th>\n",
       "      <th>Total.Uninjured</th>\n",
       "      <th>Weather.Condition</th>\n",
       "      <th>Broad.phase.of.flight</th>\n",
       "    </tr>\n",
       "  </thead>\n",
       "  <tbody>\n",
       "    <tr>\n",
       "      <th>0</th>\n",
       "      <td>0</td>\n",
       "      <td>1948-10-24</td>\n",
       "      <td>Fatal(2)</td>\n",
       "      <td>Destroyed</td>\n",
       "      <td>Stinson</td>\n",
       "      <td>1.0</td>\n",
       "      <td>Reciprocating</td>\n",
       "      <td>2.0</td>\n",
       "      <td>0.0</td>\n",
       "      <td>0.0</td>\n",
       "      <td>0.0</td>\n",
       "      <td>UNK</td>\n",
       "      <td>Cruise</td>\n",
       "    </tr>\n",
       "    <tr>\n",
       "      <th>1</th>\n",
       "      <td>1</td>\n",
       "      <td>1962-07-19</td>\n",
       "      <td>Fatal(4)</td>\n",
       "      <td>Destroyed</td>\n",
       "      <td>Piper</td>\n",
       "      <td>1.0</td>\n",
       "      <td>Reciprocating</td>\n",
       "      <td>4.0</td>\n",
       "      <td>0.0</td>\n",
       "      <td>0.0</td>\n",
       "      <td>0.0</td>\n",
       "      <td>UNK</td>\n",
       "      <td>Unknown</td>\n",
       "    </tr>\n",
       "    <tr>\n",
       "      <th>2</th>\n",
       "      <td>2</td>\n",
       "      <td>1974-08-30</td>\n",
       "      <td>Fatal(3)</td>\n",
       "      <td>Destroyed</td>\n",
       "      <td>Cessna</td>\n",
       "      <td>1.0</td>\n",
       "      <td>Reciprocating</td>\n",
       "      <td>3.0</td>\n",
       "      <td>NaN</td>\n",
       "      <td>NaN</td>\n",
       "      <td>NaN</td>\n",
       "      <td>IMC</td>\n",
       "      <td>Cruise</td>\n",
       "    </tr>\n",
       "    <tr>\n",
       "      <th>3</th>\n",
       "      <td>3</td>\n",
       "      <td>1977-06-19</td>\n",
       "      <td>Fatal(2)</td>\n",
       "      <td>Destroyed</td>\n",
       "      <td>Rockwell</td>\n",
       "      <td>1.0</td>\n",
       "      <td>Reciprocating</td>\n",
       "      <td>2.0</td>\n",
       "      <td>0.0</td>\n",
       "      <td>0.0</td>\n",
       "      <td>0.0</td>\n",
       "      <td>IMC</td>\n",
       "      <td>Cruise</td>\n",
       "    </tr>\n",
       "    <tr>\n",
       "      <th>4</th>\n",
       "      <td>4</td>\n",
       "      <td>1979-08-02</td>\n",
       "      <td>Fatal(1)</td>\n",
       "      <td>Destroyed</td>\n",
       "      <td>Cessna</td>\n",
       "      <td>1.0</td>\n",
       "      <td>unknown</td>\n",
       "      <td>1.0</td>\n",
       "      <td>2.0</td>\n",
       "      <td>NaN</td>\n",
       "      <td>0.0</td>\n",
       "      <td>VMC</td>\n",
       "      <td>Approach</td>\n",
       "    </tr>\n",
       "    <tr>\n",
       "      <th>...</th>\n",
       "      <td>...</td>\n",
       "      <td>...</td>\n",
       "      <td>...</td>\n",
       "      <td>...</td>\n",
       "      <td>...</td>\n",
       "      <td>...</td>\n",
       "      <td>...</td>\n",
       "      <td>...</td>\n",
       "      <td>...</td>\n",
       "      <td>...</td>\n",
       "      <td>...</td>\n",
       "      <td>...</td>\n",
       "      <td>...</td>\n",
       "    </tr>\n",
       "    <tr>\n",
       "      <th>84171</th>\n",
       "      <td>88869</td>\n",
       "      <td>2022-12-13</td>\n",
       "      <td>Non-Fatal</td>\n",
       "      <td>Substantial</td>\n",
       "      <td>PIPER</td>\n",
       "      <td>2.0</td>\n",
       "      <td>unknown</td>\n",
       "      <td>0.0</td>\n",
       "      <td>0.0</td>\n",
       "      <td>0.0</td>\n",
       "      <td>1.0</td>\n",
       "      <td>unknown</td>\n",
       "      <td>unknown</td>\n",
       "    </tr>\n",
       "    <tr>\n",
       "      <th>84172</th>\n",
       "      <td>88873</td>\n",
       "      <td>2022-12-14</td>\n",
       "      <td>Non-Fatal</td>\n",
       "      <td>Substantial</td>\n",
       "      <td>CIRRUS DESIGN CORP</td>\n",
       "      <td>1.0</td>\n",
       "      <td>unknown</td>\n",
       "      <td>0.0</td>\n",
       "      <td>0.0</td>\n",
       "      <td>0.0</td>\n",
       "      <td>1.0</td>\n",
       "      <td>VMC</td>\n",
       "      <td>unknown</td>\n",
       "    </tr>\n",
       "    <tr>\n",
       "      <th>84173</th>\n",
       "      <td>88876</td>\n",
       "      <td>2022-12-15</td>\n",
       "      <td>Non-Fatal</td>\n",
       "      <td>Substantial</td>\n",
       "      <td>SWEARINGEN</td>\n",
       "      <td>2.0</td>\n",
       "      <td>unknown</td>\n",
       "      <td>0.0</td>\n",
       "      <td>0.0</td>\n",
       "      <td>0.0</td>\n",
       "      <td>1.0</td>\n",
       "      <td>unknown</td>\n",
       "      <td>unknown</td>\n",
       "    </tr>\n",
       "    <tr>\n",
       "      <th>84174</th>\n",
       "      <td>88877</td>\n",
       "      <td>2022-12-16</td>\n",
       "      <td>Minor</td>\n",
       "      <td>Substantial</td>\n",
       "      <td>CESSNA</td>\n",
       "      <td>1.0</td>\n",
       "      <td>unknown</td>\n",
       "      <td>0.0</td>\n",
       "      <td>1.0</td>\n",
       "      <td>0.0</td>\n",
       "      <td>0.0</td>\n",
       "      <td>VMC</td>\n",
       "      <td>unknown</td>\n",
       "    </tr>\n",
       "    <tr>\n",
       "      <th>84175</th>\n",
       "      <td>88886</td>\n",
       "      <td>2022-12-26</td>\n",
       "      <td>Non-Fatal</td>\n",
       "      <td>Substantial</td>\n",
       "      <td>AMERICAN CHAMPION AIRCRAFT</td>\n",
       "      <td>1.0</td>\n",
       "      <td>unknown</td>\n",
       "      <td>0.0</td>\n",
       "      <td>0.0</td>\n",
       "      <td>0.0</td>\n",
       "      <td>1.0</td>\n",
       "      <td>VMC</td>\n",
       "      <td>unknown</td>\n",
       "    </tr>\n",
       "  </tbody>\n",
       "</table>\n",
       "<p>84176 rows × 13 columns</p>\n",
       "</div>"
      ],
      "text/plain": [
       "       Unnamed: 0  Event.Date Injury.Severity Aircraft.damage  \\\n",
       "0               0  1948-10-24        Fatal(2)       Destroyed   \n",
       "1               1  1962-07-19        Fatal(4)       Destroyed   \n",
       "2               2  1974-08-30        Fatal(3)       Destroyed   \n",
       "3               3  1977-06-19        Fatal(2)       Destroyed   \n",
       "4               4  1979-08-02        Fatal(1)       Destroyed   \n",
       "...           ...         ...             ...             ...   \n",
       "84171       88869  2022-12-13       Non-Fatal     Substantial   \n",
       "84172       88873  2022-12-14       Non-Fatal     Substantial   \n",
       "84173       88876  2022-12-15       Non-Fatal     Substantial   \n",
       "84174       88877  2022-12-16           Minor     Substantial   \n",
       "84175       88886  2022-12-26       Non-Fatal     Substantial   \n",
       "\n",
       "                             Make  Number.of.Engines    Engine.Type  \\\n",
       "0                         Stinson                1.0  Reciprocating   \n",
       "1                           Piper                1.0  Reciprocating   \n",
       "2                          Cessna                1.0  Reciprocating   \n",
       "3                        Rockwell                1.0  Reciprocating   \n",
       "4                          Cessna                1.0        unknown   \n",
       "...                           ...                ...            ...   \n",
       "84171                       PIPER                2.0        unknown   \n",
       "84172          CIRRUS DESIGN CORP                1.0        unknown   \n",
       "84173                  SWEARINGEN                2.0        unknown   \n",
       "84174                      CESSNA                1.0        unknown   \n",
       "84175  AMERICAN CHAMPION AIRCRAFT                1.0        unknown   \n",
       "\n",
       "       Total.Fatal.Injuries  Total.Serious.Injuries  Total.Minor.Injuries  \\\n",
       "0                       2.0                     0.0                   0.0   \n",
       "1                       4.0                     0.0                   0.0   \n",
       "2                       3.0                     NaN                   NaN   \n",
       "3                       2.0                     0.0                   0.0   \n",
       "4                       1.0                     2.0                   NaN   \n",
       "...                     ...                     ...                   ...   \n",
       "84171                   0.0                     0.0                   0.0   \n",
       "84172                   0.0                     0.0                   0.0   \n",
       "84173                   0.0                     0.0                   0.0   \n",
       "84174                   0.0                     1.0                   0.0   \n",
       "84175                   0.0                     0.0                   0.0   \n",
       "\n",
       "       Total.Uninjured Weather.Condition Broad.phase.of.flight  \n",
       "0                  0.0               UNK                Cruise  \n",
       "1                  0.0               UNK               Unknown  \n",
       "2                  NaN               IMC                Cruise  \n",
       "3                  0.0               IMC                Cruise  \n",
       "4                  0.0               VMC              Approach  \n",
       "...                ...               ...                   ...  \n",
       "84171              1.0           unknown               unknown  \n",
       "84172              1.0               VMC               unknown  \n",
       "84173              1.0           unknown               unknown  \n",
       "84174              0.0               VMC               unknown  \n",
       "84175              1.0               VMC               unknown  \n",
       "\n",
       "[84176 rows x 13 columns]"
      ]
     },
     "execution_count": 3,
     "metadata": {},
     "output_type": "execute_result"
    }
   ],
   "source": [
    "fly "
   ]
  },
  {
   "cell_type": "code",
   "execution_count": 4,
   "metadata": {},
   "outputs": [
    {
     "data": {
      "text/plain": [
       "Injury.Severity            77\n",
       "Aircraft.damage             5\n",
       "Make                     8043\n",
       "Number.of.Engines           7\n",
       "Engine.Type                14\n",
       "Weather.Condition           5\n",
       "Broad.phase.of.flight      13\n",
       "dtype: int64"
      ]
     },
     "execution_count": 4,
     "metadata": {},
     "output_type": "execute_result"
    }
   ],
   "source": [
    "fly[['Injury.Severity', 'Aircraft.damage', 'Make', 'Number.of.Engines', 'Engine.Type', 'Weather.Condition', 'Broad.phase.of.flight']].nunique() # sprawdzam liczbę poszczególnych wartości występujących w kolumnach "
   ]
  },
  {
   "cell_type": "code",
   "execution_count": 6,
   "metadata": {},
   "outputs": [
    {
     "data": {
      "text/plain": [
       "Cessna     21860\n",
       "Piper      11857\n",
       "CESSNA      4525\n",
       "Beech       4237\n",
       "PIPER       2652\n",
       "Bell        2025\n",
       "Boeing      1227\n",
       "Grumman     1089\n",
       "Mooney      1081\n",
       "BEECH        954\n",
       "Name: Make, dtype: int64"
      ]
     },
     "execution_count": 6,
     "metadata": {},
     "output_type": "execute_result"
    }
   ],
   "source": [
    "fly['Make'].value_counts().head(10) # chcę wydobyć tylko te marki, których ilość powtarza się więcej niż 1000 razy "
   ]
  },
  {
   "cell_type": "code",
   "execution_count": 7,
   "metadata": {},
   "outputs": [],
   "source": [
    "mask=fly.Make.map(fly.Make.value_counts())< 1000 # wydobywam wartości, które powtarzają się mniej niż 1000 razy"
   ]
  },
  {
   "cell_type": "code",
   "execution_count": 8,
   "metadata": {},
   "outputs": [],
   "source": [
    "fly.Make = fly.Make.mask(mask, 'other') # zamieniam wartości, które powtarzają się mniej niż 1000 razy na 'other'"
   ]
  },
  {
   "cell_type": "code",
   "execution_count": 9,
   "metadata": {},
   "outputs": [
    {
     "data": {
      "text/plain": [
       "10"
      ]
     },
     "execution_count": 9,
     "metadata": {},
     "output_type": "execute_result"
    }
   ],
   "source": [
    "fly['Make'].value_counts().count() # uzyskuję liczbę marek 9, a 10 marka reprezentuje 'other'"
   ]
  },
  {
   "cell_type": "code",
   "execution_count": 10,
   "metadata": {},
   "outputs": [
    {
     "data": {
      "text/plain": [
       "Non-Fatal     65640\n",
       "Fatal(1)       5968\n",
       "Fatal          4487\n",
       "Fatal(2)       3536\n",
       "Incident       1800\n",
       "              ...  \n",
       "Fatal(265)        1\n",
       "Fatal(21)         1\n",
       "Fatal(49)         1\n",
       "Fatal(78)         1\n",
       "Fatal(30)         1\n",
       "Name: Injury.Severity, Length: 77, dtype: int64"
      ]
     },
     "execution_count": 10,
     "metadata": {},
     "output_type": "execute_result"
    }
   ],
   "source": [
    "fly['Injury.Severity'].value_counts().sort_values(ascending=False) # sprawdzam ile jest rodzjaów \"Injury.Severity\", chce aby powtarzające się Fatal(1,2, itd.) były przypisane do głównego Fatal"
   ]
  },
  {
   "cell_type": "code",
   "execution_count": 11,
   "metadata": {},
   "outputs": [],
   "source": [
    "fly[\"Injury.Severity\"].mask(fly['Injury.Severity'].str.startswith('Fatal'), 'Fatal', inplace=True) # zastępuje wartości powtarzające się wartości Fatal(1, 2, itd) na Fatal"
   ]
  },
  {
   "cell_type": "code",
   "execution_count": 77,
   "metadata": {},
   "outputs": [
    {
     "data": {
      "text/plain": [
       "Broad.phase.of.flight\n",
       "unknown                  23537\n",
       "Landing                  15278\n",
       "Takeoff                  12418\n",
       "Cruise                   10190\n",
       "Maneuvering               8092\n",
       "Approach                  6470\n",
       "Climb                     2008\n",
       "Taxi                      1941\n",
       "Descent                   1852\n",
       "Go-around                 1352\n",
       "Standing                   921\n",
       "Other                      117\n",
       "Unknown                      0\n",
       "dtype: int64"
      ]
     },
     "execution_count": 77,
     "metadata": {},
     "output_type": "execute_result"
    }
   ],
   "source": [
    "fly[['Broad.phase.of.flight']].value_counts() # w kolumnie \"Broad.phase.of.flight\"  są dwie wartości \"unknown\", chce je zmienić aby była tylko jedna wartość unknwon"
   ]
  },
  {
   "cell_type": "code",
   "execution_count": 78,
   "metadata": {},
   "outputs": [],
   "source": [
    "fly[\"Broad.phase.of.flight\"].mask(fly['Broad.phase.of.flight'].str.startswith('Unknown'), 'unknown', inplace=True) # zamieniam wartość \"Unknown\" na \"unknown\""
   ]
  },
  {
   "cell_type": "code",
   "execution_count": 79,
   "metadata": {},
   "outputs": [
    {
     "data": {
      "text/plain": [
       "Broad.phase.of.flight\n",
       "unknown                  23537\n",
       "Landing                  15278\n",
       "Takeoff                  12418\n",
       "Cruise                   10190\n",
       "Maneuvering               8092\n",
       "Approach                  6470\n",
       "Climb                     2008\n",
       "Taxi                      1941\n",
       "Descent                   1852\n",
       "Go-around                 1352\n",
       "Standing                   921\n",
       "Other                      117\n",
       "Unknown                      0\n",
       "dtype: int64"
      ]
     },
     "execution_count": 79,
     "metadata": {},
     "output_type": "execute_result"
    }
   ],
   "source": [
    "fly[[\"Broad.phase.of.flight\"]].value_counts()"
   ]
  },
  {
   "cell_type": "code",
   "execution_count": 81,
   "metadata": {},
   "outputs": [
    {
     "data": {
      "text/plain": [
       "Aircraft.damage\n",
       "Substantial        62599\n",
       "Destroyed          17487\n",
       "Minor               2266\n",
       "unknown             1767\n",
       "Unknown               57\n",
       "dtype: int64"
      ]
     },
     "execution_count": 81,
     "metadata": {},
     "output_type": "execute_result"
    }
   ],
   "source": [
    "fly[['Aircraft.damage']].value_counts() # w kolumnie \"Aircraft.damage\"  są dwie wartości \"unknown\", chce je zmienić aby była tylko jedna wartość unknwon"
   ]
  },
  {
   "cell_type": "code",
   "execution_count": 82,
   "metadata": {},
   "outputs": [],
   "source": [
    "fly[\"Aircraft.damage\"].mask(fly['Aircraft.damage'].str.startswith('Unknown'), 'unknown', inplace=True) # zamieniam wartość \"Unknown\" na \"unknown\""
   ]
  },
  {
   "cell_type": "code",
   "execution_count": 83,
   "metadata": {},
   "outputs": [
    {
     "data": {
      "text/plain": [
       "Aircraft.damage\n",
       "Substantial        62599\n",
       "Destroyed          17487\n",
       "Minor               2266\n",
       "unknown             1824\n",
       "Unknown                0\n",
       "dtype: int64"
      ]
     },
     "execution_count": 83,
     "metadata": {},
     "output_type": "execute_result"
    }
   ],
   "source": [
    "fly[[\"Aircraft.damage\"]].value_counts()"
   ]
  },
  {
   "cell_type": "code",
   "execution_count": 89,
   "metadata": {},
   "outputs": [
    {
     "data": {
      "text/plain": [
       "Engine.Type    \n",
       "Reciprocating      69366\n",
       "unknown             4934\n",
       "Turbo Shaft         3577\n",
       "Turbo Prop          3335\n",
       "Turbo Fan           2250\n",
       "Turbo Jet            680\n",
       "None                  21\n",
       "Electric               8\n",
       "LR                     2\n",
       "Geared Turbofan        1\n",
       "Hybrid Rocket          1\n",
       "UNK                    1\n",
       "NONE                   0\n",
       "Unknown                0\n",
       "dtype: int64"
      ]
     },
     "execution_count": 89,
     "metadata": {},
     "output_type": "execute_result"
    }
   ],
   "source": [
    "fly[['Engine.Type']].value_counts() # w kolumnie \"Engine.Type\"  są trzy wartości \"unknown\": unknown, UNK, Unknown, oraz dwie wartości \"None\" chce je zmienić aby było tylko po jednej odpowaiadającej wartości "
   ]
  },
  {
   "cell_type": "code",
   "execution_count": 116,
   "metadata": {},
   "outputs": [],
   "source": [
    "fly[\"Engine.Type\"].mask(fly['Engine.Type'].str.startswith('Unknown'), 'unknown', inplace=True)\n",
    "fly[\"Engine.Type\"].mask(fly['Engine.Type'].str.startswith('NONE'), 'None', inplace=True) # zamieniam na jednolite wartości w kolumnie\n",
    "fly[\"Engine.Type\"].mask(fly['Engine.Type'].str.startswith('UNK'), 'unknown', inplace=True)"
   ]
  },
  {
   "cell_type": "code",
   "execution_count": 117,
   "metadata": {},
   "outputs": [
    {
     "data": {
      "text/plain": [
       "Engine.Type    \n",
       "Reciprocating      69366\n",
       "unknown             4935\n",
       "Turbo Shaft         3577\n",
       "Turbo Prop          3335\n",
       "Turbo Fan           2250\n",
       "Turbo Jet            680\n",
       "None                  21\n",
       "Electric               8\n",
       "LR                     2\n",
       "Geared Turbofan        1\n",
       "Hybrid Rocket          1\n",
       "NONE                   0\n",
       "UNK                    0\n",
       "Unknown                0\n",
       "dtype: int64"
      ]
     },
     "execution_count": 117,
     "metadata": {},
     "output_type": "execute_result"
    }
   ],
   "source": [
    "fly[['Engine.Type']].value_counts()"
   ]
  },
  {
   "cell_type": "code",
   "execution_count": 102,
   "metadata": {},
   "outputs": [
    {
     "data": {
      "text/plain": [
       "Weather.Condition\n",
       "VMC                  76103\n",
       "IMC                   5797\n",
       "unknown               1308\n",
       "UNK                    737\n",
       "Unk                    231\n",
       "dtype: int64"
      ]
     },
     "execution_count": 102,
     "metadata": {},
     "output_type": "execute_result"
    }
   ],
   "source": [
    "fly[['Weather.Condition']].value_counts() # w kolumnie \"Weather.Condition\"  są 3 wartości, przyporządkowane do \"unknown\": UNK, unk, unknown, chce je zmienić aby była tylko jedna odpowaidająca wartość  "
   ]
  },
  {
   "cell_type": "code",
   "execution_count": 103,
   "metadata": {},
   "outputs": [],
   "source": [
    "fly[\"Weather.Condition\"].mask(fly['Weather.Condition'].str.startswith('UNK'), 'unknown', inplace=True)\n",
    "fly[\"Weather.Condition\"].mask(fly['Weather.Condition'].str.startswith('Unk'), 'unknown', inplace=True) # zamieniam na jednolite wartości w kolumnie"
   ]
  },
  {
   "cell_type": "code",
   "execution_count": 104,
   "metadata": {},
   "outputs": [
    {
     "data": {
      "text/plain": [
       "Weather.Condition\n",
       "VMC                  76103\n",
       "IMC                   5797\n",
       "unknown               2276\n",
       "UNK                      0\n",
       "Unk                      0\n",
       "dtype: int64"
      ]
     },
     "execution_count": 104,
     "metadata": {},
     "output_type": "execute_result"
    }
   ],
   "source": [
    "fly[['Weather.Condition']].value_counts()"
   ]
  },
  {
   "cell_type": "code",
   "execution_count": 12,
   "metadata": {},
   "outputs": [],
   "source": [
    "list_str_obj_cols = fly.columns[fly.dtypes == \"object\"].tolist()"
   ]
  },
  {
   "cell_type": "code",
   "execution_count": 13,
   "metadata": {},
   "outputs": [],
   "source": [
    "for str_obj_col in list_str_obj_cols:\n",
    "    fly[str_obj_col] = fly[str_obj_col].astype(\"category\") # zastępuje kolumny 'object' na typ 'category'"
   ]
  },
  {
   "cell_type": "code",
   "execution_count": 14,
   "metadata": {},
   "outputs": [
    {
     "data": {
      "text/plain": [
       "Unnamed: 0                   int64\n",
       "Event.Date                category\n",
       "Injury.Severity           category\n",
       "Aircraft.damage           category\n",
       "Make                      category\n",
       "Number.of.Engines          float64\n",
       "Engine.Type               category\n",
       "Total.Fatal.Injuries       float64\n",
       "Total.Serious.Injuries     float64\n",
       "Total.Minor.Injuries       float64\n",
       "Total.Uninjured            float64\n",
       "Weather.Condition         category\n",
       "Broad.phase.of.flight     category\n",
       "dtype: object"
      ]
     },
     "execution_count": 14,
     "metadata": {},
     "output_type": "execute_result"
    }
   ],
   "source": [
    "fly.dtypes"
   ]
  },
  {
   "cell_type": "code",
   "execution_count": 15,
   "metadata": {},
   "outputs": [
    {
     "data": {
      "text/plain": [
       "Injury.Severity           6\n",
       "Aircraft.damage           5\n",
       "Make                     10\n",
       "Number.of.Engines         7\n",
       "Engine.Type              14\n",
       "Weather.Condition         5\n",
       "Broad.phase.of.flight    13\n",
       "dtype: int64"
      ]
     },
     "execution_count": 15,
     "metadata": {},
     "output_type": "execute_result"
    }
   ],
   "source": [
    "fly[['Injury.Severity', 'Aircraft.damage', 'Make', 'Number.of.Engines', 'Engine.Type', 'Weather.Condition', 'Broad.phase.of.flight']].nunique() # końcowa liczba unikalnych wartości w kolumnach do kodowania"
   ]
  },
  {
   "attachments": {},
   "cell_type": "markdown",
   "metadata": {},
   "source": [
    "# OneHotEncoding"
   ]
  },
  {
   "cell_type": "code",
   "execution_count": 64,
   "metadata": {},
   "outputs": [],
   "source": [
    "from sklearn.compose import make_column_transformer"
   ]
  },
  {
   "cell_type": "code",
   "execution_count": 118,
   "metadata": {},
   "outputs": [
    {
     "name": "stderr",
     "output_type": "stream",
     "text": [
      "c:\\Users\\magda\\anaconda3\\envs\\machine_learning\\lib\\site-packages\\sklearn\\preprocessing\\_encoders.py:808: FutureWarning: `sparse` was renamed to `sparse_output` in version 1.2 and will be removed in 1.4. `sparse_output` is ignored unless you leave `sparse` to its default value.\n",
      "  warnings.warn(\n"
     ]
    }
   ],
   "source": [
    "ohc = OneHotEncoder(sparse=False).fit(fly[['Injury.Severity','Aircraft.damage', 'Make', 'Number.of.Engines', 'Engine.Type', 'Weather.Condition', 'Broad.phase.of.flight']])"
   ]
  },
  {
   "cell_type": "code",
   "execution_count": 119,
   "metadata": {},
   "outputs": [],
   "source": [
    "encoded = ohc.transform(fly[['Injury.Severity','Aircraft.damage', 'Make', 'Number.of.Engines', 'Engine.Type', 'Weather.Condition', 'Broad.phase.of.flight']])"
   ]
  },
  {
   "cell_type": "code",
   "execution_count": 120,
   "metadata": {},
   "outputs": [],
   "source": [
    "encoded_df = pd.DataFrame(encoded, columns = ohc.get_feature_names_out())"
   ]
  },
  {
   "cell_type": "code",
   "execution_count": 121,
   "metadata": {},
   "outputs": [
    {
     "data": {
      "text/html": [
       "<div>\n",
       "<style scoped>\n",
       "    .dataframe tbody tr th:only-of-type {\n",
       "        vertical-align: middle;\n",
       "    }\n",
       "\n",
       "    .dataframe tbody tr th {\n",
       "        vertical-align: top;\n",
       "    }\n",
       "\n",
       "    .dataframe thead th {\n",
       "        text-align: right;\n",
       "    }\n",
       "</style>\n",
       "<table border=\"1\" class=\"dataframe\">\n",
       "  <thead>\n",
       "    <tr style=\"text-align: right;\">\n",
       "      <th></th>\n",
       "      <th>Injury.Severity_Fatal</th>\n",
       "      <th>Injury.Severity_Incident</th>\n",
       "      <th>Injury.Severity_Minor</th>\n",
       "      <th>Injury.Severity_Non-Fatal</th>\n",
       "      <th>Injury.Severity_Serious</th>\n",
       "      <th>Injury.Severity_Unavailable</th>\n",
       "      <th>Aircraft.damage_Destroyed</th>\n",
       "      <th>Aircraft.damage_Minor</th>\n",
       "      <th>Aircraft.damage_Substantial</th>\n",
       "      <th>Aircraft.damage_unknown</th>\n",
       "      <th>...</th>\n",
       "      <th>Broad.phase.of.flight_Cruise</th>\n",
       "      <th>Broad.phase.of.flight_Descent</th>\n",
       "      <th>Broad.phase.of.flight_Go-around</th>\n",
       "      <th>Broad.phase.of.flight_Landing</th>\n",
       "      <th>Broad.phase.of.flight_Maneuvering</th>\n",
       "      <th>Broad.phase.of.flight_Other</th>\n",
       "      <th>Broad.phase.of.flight_Standing</th>\n",
       "      <th>Broad.phase.of.flight_Takeoff</th>\n",
       "      <th>Broad.phase.of.flight_Taxi</th>\n",
       "      <th>Broad.phase.of.flight_unknown</th>\n",
       "    </tr>\n",
       "  </thead>\n",
       "  <tbody>\n",
       "    <tr>\n",
       "      <th>0</th>\n",
       "      <td>1.0</td>\n",
       "      <td>0.0</td>\n",
       "      <td>0.0</td>\n",
       "      <td>0.0</td>\n",
       "      <td>0.0</td>\n",
       "      <td>0.0</td>\n",
       "      <td>1.0</td>\n",
       "      <td>0.0</td>\n",
       "      <td>0.0</td>\n",
       "      <td>0.0</td>\n",
       "      <td>...</td>\n",
       "      <td>1.0</td>\n",
       "      <td>0.0</td>\n",
       "      <td>0.0</td>\n",
       "      <td>0.0</td>\n",
       "      <td>0.0</td>\n",
       "      <td>0.0</td>\n",
       "      <td>0.0</td>\n",
       "      <td>0.0</td>\n",
       "      <td>0.0</td>\n",
       "      <td>0.0</td>\n",
       "    </tr>\n",
       "    <tr>\n",
       "      <th>1</th>\n",
       "      <td>1.0</td>\n",
       "      <td>0.0</td>\n",
       "      <td>0.0</td>\n",
       "      <td>0.0</td>\n",
       "      <td>0.0</td>\n",
       "      <td>0.0</td>\n",
       "      <td>1.0</td>\n",
       "      <td>0.0</td>\n",
       "      <td>0.0</td>\n",
       "      <td>0.0</td>\n",
       "      <td>...</td>\n",
       "      <td>0.0</td>\n",
       "      <td>0.0</td>\n",
       "      <td>0.0</td>\n",
       "      <td>0.0</td>\n",
       "      <td>0.0</td>\n",
       "      <td>0.0</td>\n",
       "      <td>0.0</td>\n",
       "      <td>0.0</td>\n",
       "      <td>0.0</td>\n",
       "      <td>1.0</td>\n",
       "    </tr>\n",
       "    <tr>\n",
       "      <th>2</th>\n",
       "      <td>1.0</td>\n",
       "      <td>0.0</td>\n",
       "      <td>0.0</td>\n",
       "      <td>0.0</td>\n",
       "      <td>0.0</td>\n",
       "      <td>0.0</td>\n",
       "      <td>1.0</td>\n",
       "      <td>0.0</td>\n",
       "      <td>0.0</td>\n",
       "      <td>0.0</td>\n",
       "      <td>...</td>\n",
       "      <td>1.0</td>\n",
       "      <td>0.0</td>\n",
       "      <td>0.0</td>\n",
       "      <td>0.0</td>\n",
       "      <td>0.0</td>\n",
       "      <td>0.0</td>\n",
       "      <td>0.0</td>\n",
       "      <td>0.0</td>\n",
       "      <td>0.0</td>\n",
       "      <td>0.0</td>\n",
       "    </tr>\n",
       "    <tr>\n",
       "      <th>3</th>\n",
       "      <td>1.0</td>\n",
       "      <td>0.0</td>\n",
       "      <td>0.0</td>\n",
       "      <td>0.0</td>\n",
       "      <td>0.0</td>\n",
       "      <td>0.0</td>\n",
       "      <td>1.0</td>\n",
       "      <td>0.0</td>\n",
       "      <td>0.0</td>\n",
       "      <td>0.0</td>\n",
       "      <td>...</td>\n",
       "      <td>1.0</td>\n",
       "      <td>0.0</td>\n",
       "      <td>0.0</td>\n",
       "      <td>0.0</td>\n",
       "      <td>0.0</td>\n",
       "      <td>0.0</td>\n",
       "      <td>0.0</td>\n",
       "      <td>0.0</td>\n",
       "      <td>0.0</td>\n",
       "      <td>0.0</td>\n",
       "    </tr>\n",
       "    <tr>\n",
       "      <th>4</th>\n",
       "      <td>1.0</td>\n",
       "      <td>0.0</td>\n",
       "      <td>0.0</td>\n",
       "      <td>0.0</td>\n",
       "      <td>0.0</td>\n",
       "      <td>0.0</td>\n",
       "      <td>1.0</td>\n",
       "      <td>0.0</td>\n",
       "      <td>0.0</td>\n",
       "      <td>0.0</td>\n",
       "      <td>...</td>\n",
       "      <td>0.0</td>\n",
       "      <td>0.0</td>\n",
       "      <td>0.0</td>\n",
       "      <td>0.0</td>\n",
       "      <td>0.0</td>\n",
       "      <td>0.0</td>\n",
       "      <td>0.0</td>\n",
       "      <td>0.0</td>\n",
       "      <td>0.0</td>\n",
       "      <td>0.0</td>\n",
       "    </tr>\n",
       "    <tr>\n",
       "      <th>...</th>\n",
       "      <td>...</td>\n",
       "      <td>...</td>\n",
       "      <td>...</td>\n",
       "      <td>...</td>\n",
       "      <td>...</td>\n",
       "      <td>...</td>\n",
       "      <td>...</td>\n",
       "      <td>...</td>\n",
       "      <td>...</td>\n",
       "      <td>...</td>\n",
       "      <td>...</td>\n",
       "      <td>...</td>\n",
       "      <td>...</td>\n",
       "      <td>...</td>\n",
       "      <td>...</td>\n",
       "      <td>...</td>\n",
       "      <td>...</td>\n",
       "      <td>...</td>\n",
       "      <td>...</td>\n",
       "      <td>...</td>\n",
       "      <td>...</td>\n",
       "    </tr>\n",
       "    <tr>\n",
       "      <th>84171</th>\n",
       "      <td>0.0</td>\n",
       "      <td>0.0</td>\n",
       "      <td>0.0</td>\n",
       "      <td>1.0</td>\n",
       "      <td>0.0</td>\n",
       "      <td>0.0</td>\n",
       "      <td>0.0</td>\n",
       "      <td>0.0</td>\n",
       "      <td>1.0</td>\n",
       "      <td>0.0</td>\n",
       "      <td>...</td>\n",
       "      <td>0.0</td>\n",
       "      <td>0.0</td>\n",
       "      <td>0.0</td>\n",
       "      <td>0.0</td>\n",
       "      <td>0.0</td>\n",
       "      <td>0.0</td>\n",
       "      <td>0.0</td>\n",
       "      <td>0.0</td>\n",
       "      <td>0.0</td>\n",
       "      <td>1.0</td>\n",
       "    </tr>\n",
       "    <tr>\n",
       "      <th>84172</th>\n",
       "      <td>0.0</td>\n",
       "      <td>0.0</td>\n",
       "      <td>0.0</td>\n",
       "      <td>1.0</td>\n",
       "      <td>0.0</td>\n",
       "      <td>0.0</td>\n",
       "      <td>0.0</td>\n",
       "      <td>0.0</td>\n",
       "      <td>1.0</td>\n",
       "      <td>0.0</td>\n",
       "      <td>...</td>\n",
       "      <td>0.0</td>\n",
       "      <td>0.0</td>\n",
       "      <td>0.0</td>\n",
       "      <td>0.0</td>\n",
       "      <td>0.0</td>\n",
       "      <td>0.0</td>\n",
       "      <td>0.0</td>\n",
       "      <td>0.0</td>\n",
       "      <td>0.0</td>\n",
       "      <td>1.0</td>\n",
       "    </tr>\n",
       "    <tr>\n",
       "      <th>84173</th>\n",
       "      <td>0.0</td>\n",
       "      <td>0.0</td>\n",
       "      <td>0.0</td>\n",
       "      <td>1.0</td>\n",
       "      <td>0.0</td>\n",
       "      <td>0.0</td>\n",
       "      <td>0.0</td>\n",
       "      <td>0.0</td>\n",
       "      <td>1.0</td>\n",
       "      <td>0.0</td>\n",
       "      <td>...</td>\n",
       "      <td>0.0</td>\n",
       "      <td>0.0</td>\n",
       "      <td>0.0</td>\n",
       "      <td>0.0</td>\n",
       "      <td>0.0</td>\n",
       "      <td>0.0</td>\n",
       "      <td>0.0</td>\n",
       "      <td>0.0</td>\n",
       "      <td>0.0</td>\n",
       "      <td>1.0</td>\n",
       "    </tr>\n",
       "    <tr>\n",
       "      <th>84174</th>\n",
       "      <td>0.0</td>\n",
       "      <td>0.0</td>\n",
       "      <td>1.0</td>\n",
       "      <td>0.0</td>\n",
       "      <td>0.0</td>\n",
       "      <td>0.0</td>\n",
       "      <td>0.0</td>\n",
       "      <td>0.0</td>\n",
       "      <td>1.0</td>\n",
       "      <td>0.0</td>\n",
       "      <td>...</td>\n",
       "      <td>0.0</td>\n",
       "      <td>0.0</td>\n",
       "      <td>0.0</td>\n",
       "      <td>0.0</td>\n",
       "      <td>0.0</td>\n",
       "      <td>0.0</td>\n",
       "      <td>0.0</td>\n",
       "      <td>0.0</td>\n",
       "      <td>0.0</td>\n",
       "      <td>1.0</td>\n",
       "    </tr>\n",
       "    <tr>\n",
       "      <th>84175</th>\n",
       "      <td>0.0</td>\n",
       "      <td>0.0</td>\n",
       "      <td>0.0</td>\n",
       "      <td>1.0</td>\n",
       "      <td>0.0</td>\n",
       "      <td>0.0</td>\n",
       "      <td>0.0</td>\n",
       "      <td>0.0</td>\n",
       "      <td>1.0</td>\n",
       "      <td>0.0</td>\n",
       "      <td>...</td>\n",
       "      <td>0.0</td>\n",
       "      <td>0.0</td>\n",
       "      <td>0.0</td>\n",
       "      <td>0.0</td>\n",
       "      <td>0.0</td>\n",
       "      <td>0.0</td>\n",
       "      <td>0.0</td>\n",
       "      <td>0.0</td>\n",
       "      <td>0.0</td>\n",
       "      <td>1.0</td>\n",
       "    </tr>\n",
       "  </tbody>\n",
       "</table>\n",
       "<p>84176 rows × 53 columns</p>\n",
       "</div>"
      ],
      "text/plain": [
       "       Injury.Severity_Fatal  Injury.Severity_Incident  Injury.Severity_Minor  \\\n",
       "0                        1.0                       0.0                    0.0   \n",
       "1                        1.0                       0.0                    0.0   \n",
       "2                        1.0                       0.0                    0.0   \n",
       "3                        1.0                       0.0                    0.0   \n",
       "4                        1.0                       0.0                    0.0   \n",
       "...                      ...                       ...                    ...   \n",
       "84171                    0.0                       0.0                    0.0   \n",
       "84172                    0.0                       0.0                    0.0   \n",
       "84173                    0.0                       0.0                    0.0   \n",
       "84174                    0.0                       0.0                    1.0   \n",
       "84175                    0.0                       0.0                    0.0   \n",
       "\n",
       "       Injury.Severity_Non-Fatal  Injury.Severity_Serious  \\\n",
       "0                            0.0                      0.0   \n",
       "1                            0.0                      0.0   \n",
       "2                            0.0                      0.0   \n",
       "3                            0.0                      0.0   \n",
       "4                            0.0                      0.0   \n",
       "...                          ...                      ...   \n",
       "84171                        1.0                      0.0   \n",
       "84172                        1.0                      0.0   \n",
       "84173                        1.0                      0.0   \n",
       "84174                        0.0                      0.0   \n",
       "84175                        1.0                      0.0   \n",
       "\n",
       "       Injury.Severity_Unavailable  Aircraft.damage_Destroyed  \\\n",
       "0                              0.0                        1.0   \n",
       "1                              0.0                        1.0   \n",
       "2                              0.0                        1.0   \n",
       "3                              0.0                        1.0   \n",
       "4                              0.0                        1.0   \n",
       "...                            ...                        ...   \n",
       "84171                          0.0                        0.0   \n",
       "84172                          0.0                        0.0   \n",
       "84173                          0.0                        0.0   \n",
       "84174                          0.0                        0.0   \n",
       "84175                          0.0                        0.0   \n",
       "\n",
       "       Aircraft.damage_Minor  Aircraft.damage_Substantial  \\\n",
       "0                        0.0                          0.0   \n",
       "1                        0.0                          0.0   \n",
       "2                        0.0                          0.0   \n",
       "3                        0.0                          0.0   \n",
       "4                        0.0                          0.0   \n",
       "...                      ...                          ...   \n",
       "84171                    0.0                          1.0   \n",
       "84172                    0.0                          1.0   \n",
       "84173                    0.0                          1.0   \n",
       "84174                    0.0                          1.0   \n",
       "84175                    0.0                          1.0   \n",
       "\n",
       "       Aircraft.damage_unknown  ...  Broad.phase.of.flight_Cruise  \\\n",
       "0                          0.0  ...                           1.0   \n",
       "1                          0.0  ...                           0.0   \n",
       "2                          0.0  ...                           1.0   \n",
       "3                          0.0  ...                           1.0   \n",
       "4                          0.0  ...                           0.0   \n",
       "...                        ...  ...                           ...   \n",
       "84171                      0.0  ...                           0.0   \n",
       "84172                      0.0  ...                           0.0   \n",
       "84173                      0.0  ...                           0.0   \n",
       "84174                      0.0  ...                           0.0   \n",
       "84175                      0.0  ...                           0.0   \n",
       "\n",
       "       Broad.phase.of.flight_Descent  Broad.phase.of.flight_Go-around  \\\n",
       "0                                0.0                              0.0   \n",
       "1                                0.0                              0.0   \n",
       "2                                0.0                              0.0   \n",
       "3                                0.0                              0.0   \n",
       "4                                0.0                              0.0   \n",
       "...                              ...                              ...   \n",
       "84171                            0.0                              0.0   \n",
       "84172                            0.0                              0.0   \n",
       "84173                            0.0                              0.0   \n",
       "84174                            0.0                              0.0   \n",
       "84175                            0.0                              0.0   \n",
       "\n",
       "       Broad.phase.of.flight_Landing  Broad.phase.of.flight_Maneuvering  \\\n",
       "0                                0.0                                0.0   \n",
       "1                                0.0                                0.0   \n",
       "2                                0.0                                0.0   \n",
       "3                                0.0                                0.0   \n",
       "4                                0.0                                0.0   \n",
       "...                              ...                                ...   \n",
       "84171                            0.0                                0.0   \n",
       "84172                            0.0                                0.0   \n",
       "84173                            0.0                                0.0   \n",
       "84174                            0.0                                0.0   \n",
       "84175                            0.0                                0.0   \n",
       "\n",
       "       Broad.phase.of.flight_Other  Broad.phase.of.flight_Standing  \\\n",
       "0                              0.0                             0.0   \n",
       "1                              0.0                             0.0   \n",
       "2                              0.0                             0.0   \n",
       "3                              0.0                             0.0   \n",
       "4                              0.0                             0.0   \n",
       "...                            ...                             ...   \n",
       "84171                          0.0                             0.0   \n",
       "84172                          0.0                             0.0   \n",
       "84173                          0.0                             0.0   \n",
       "84174                          0.0                             0.0   \n",
       "84175                          0.0                             0.0   \n",
       "\n",
       "       Broad.phase.of.flight_Takeoff  Broad.phase.of.flight_Taxi  \\\n",
       "0                                0.0                         0.0   \n",
       "1                                0.0                         0.0   \n",
       "2                                0.0                         0.0   \n",
       "3                                0.0                         0.0   \n",
       "4                                0.0                         0.0   \n",
       "...                              ...                         ...   \n",
       "84171                            0.0                         0.0   \n",
       "84172                            0.0                         0.0   \n",
       "84173                            0.0                         0.0   \n",
       "84174                            0.0                         0.0   \n",
       "84175                            0.0                         0.0   \n",
       "\n",
       "       Broad.phase.of.flight_unknown  \n",
       "0                                0.0  \n",
       "1                                1.0  \n",
       "2                                0.0  \n",
       "3                                0.0  \n",
       "4                                0.0  \n",
       "...                              ...  \n",
       "84171                            1.0  \n",
       "84172                            1.0  \n",
       "84173                            1.0  \n",
       "84174                            1.0  \n",
       "84175                            1.0  \n",
       "\n",
       "[84176 rows x 53 columns]"
      ]
     },
     "execution_count": 121,
     "metadata": {},
     "output_type": "execute_result"
    }
   ],
   "source": [
    "encoded_df"
   ]
  },
  {
   "cell_type": "code",
   "execution_count": 124,
   "metadata": {},
   "outputs": [],
   "source": [
    "aviation_accident_encoded = fly.join(encoded_df )"
   ]
  },
  {
   "cell_type": "code",
   "execution_count": 126,
   "metadata": {},
   "outputs": [],
   "source": [
    "aviation_accident_encoded = aviation_accident_encoded[[\"Event.Date\", 'Injury.Severity_Fatal', 'Injury.Severity_Incident',\n",
    "       'Injury.Severity_Minor', 'Injury.Severity_Non-Fatal',\n",
    "       'Injury.Severity_Serious', 'Injury.Severity_Unavailable',\n",
    "       'Aircraft.damage_Destroyed', 'Aircraft.damage_Minor',\n",
    "       'Aircraft.damage_Substantial',\n",
    "       'Aircraft.damage_unknown', 'Make_Beech', 'Make_Bell', 'Make_Boeing',\n",
    "       'Make_CESSNA', 'Make_Cessna', 'Make_Grumman', 'Make_Mooney',\n",
    "       'Make_PIPER', 'Make_Piper', 'Make_other', 'Number.of.Engines_0.0',\n",
    "       'Number.of.Engines_1.0', 'Number.of.Engines_2.0',\n",
    "       'Number.of.Engines_3.0', 'Number.of.Engines_4.0',\n",
    "       'Number.of.Engines_6.0', 'Number.of.Engines_8.0',\n",
    "       'Engine.Type_Electric', 'Engine.Type_Geared Turbofan',\n",
    "       'Engine.Type_Hybrid Rocket', 'Engine.Type_LR', \n",
    "       'Engine.Type_None', 'Engine.Type_Reciprocating',\n",
    "       'Engine.Type_Turbo Fan', 'Engine.Type_Turbo Jet',\n",
    "       'Engine.Type_Turbo Prop', 'Engine.Type_Turbo Shaft', \n",
    "       'Engine.Type_unknown', 'Total.Fatal.Injuries',\n",
    "       'Total.Serious.Injuries', 'Total.Minor.Injuries', 'Total.Uninjured', 'Weather.Condition_IMC',\n",
    "       'Weather.Condition_VMC', 'Weather.Condition_unknown',\n",
    "       'Broad.phase.of.flight_Approach', 'Broad.phase.of.flight_Climb',\n",
    "       'Broad.phase.of.flight_Cruise', 'Broad.phase.of.flight_Descent',\n",
    "       'Broad.phase.of.flight_Go-around', 'Broad.phase.of.flight_Landing',\n",
    "       'Broad.phase.of.flight_Maneuvering', 'Broad.phase.of.flight_Other',\n",
    "       'Broad.phase.of.flight_Standing', 'Broad.phase.of.flight_Takeoff',\n",
    "       'Broad.phase.of.flight_Taxi',\n",
    "       'Broad.phase.of.flight_unknown' ]]"
   ]
  },
  {
   "cell_type": "code",
   "execution_count": 127,
   "metadata": {},
   "outputs": [
    {
     "data": {
      "text/plain": [
       "Index(['Event.Date', 'Injury.Severity_Fatal', 'Injury.Severity_Incident',\n",
       "       'Injury.Severity_Minor', 'Injury.Severity_Non-Fatal',\n",
       "       'Injury.Severity_Serious', 'Injury.Severity_Unavailable',\n",
       "       'Aircraft.damage_Destroyed', 'Aircraft.damage_Minor',\n",
       "       'Aircraft.damage_Substantial', 'Aircraft.damage_unknown', 'Make_Beech',\n",
       "       'Make_Bell', 'Make_Boeing', 'Make_CESSNA', 'Make_Cessna',\n",
       "       'Make_Grumman', 'Make_Mooney', 'Make_PIPER', 'Make_Piper', 'Make_other',\n",
       "       'Number.of.Engines_0.0', 'Number.of.Engines_1.0',\n",
       "       'Number.of.Engines_2.0', 'Number.of.Engines_3.0',\n",
       "       'Number.of.Engines_4.0', 'Number.of.Engines_6.0',\n",
       "       'Number.of.Engines_8.0', 'Engine.Type_Electric',\n",
       "       'Engine.Type_Geared Turbofan', 'Engine.Type_Hybrid Rocket',\n",
       "       'Engine.Type_LR', 'Engine.Type_None', 'Engine.Type_Reciprocating',\n",
       "       'Engine.Type_Turbo Fan', 'Engine.Type_Turbo Jet',\n",
       "       'Engine.Type_Turbo Prop', 'Engine.Type_Turbo Shaft',\n",
       "       'Engine.Type_unknown', 'Total.Fatal.Injuries', 'Total.Serious.Injuries',\n",
       "       'Total.Minor.Injuries', 'Total.Uninjured', 'Weather.Condition_IMC',\n",
       "       'Weather.Condition_VMC', 'Weather.Condition_unknown',\n",
       "       'Broad.phase.of.flight_Approach', 'Broad.phase.of.flight_Climb',\n",
       "       'Broad.phase.of.flight_Cruise', 'Broad.phase.of.flight_Descent',\n",
       "       'Broad.phase.of.flight_Go-around', 'Broad.phase.of.flight_Landing',\n",
       "       'Broad.phase.of.flight_Maneuvering', 'Broad.phase.of.flight_Other',\n",
       "       'Broad.phase.of.flight_Standing', 'Broad.phase.of.flight_Takeoff',\n",
       "       'Broad.phase.of.flight_Taxi', 'Broad.phase.of.flight_unknown'],\n",
       "      dtype='object')"
      ]
     },
     "execution_count": 127,
     "metadata": {},
     "output_type": "execute_result"
    }
   ],
   "source": [
    "aviation_accident_encoded.columns"
   ]
  },
  {
   "cell_type": "code",
   "execution_count": 128,
   "metadata": {},
   "outputs": [],
   "source": [
    "aviation_accident_encoded.to_csv('Aviation_accident.encoded.csv') # zapisuję encodowany plik do csv. "
   ]
  }
 ],
 "metadata": {
  "kernelspec": {
   "display_name": "machine_learning",
   "language": "python",
   "name": "python3"
  },
  "language_info": {
   "codemirror_mode": {
    "name": "ipython",
    "version": 3
   },
   "file_extension": ".py",
   "mimetype": "text/x-python",
   "name": "python",
   "nbconvert_exporter": "python",
   "pygments_lexer": "ipython3",
   "version": "3.10.8"
  },
  "orig_nbformat": 4
 },
 "nbformat": 4,
 "nbformat_minor": 2
}
