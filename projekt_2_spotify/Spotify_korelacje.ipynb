{
 "cells": [
  {
   "cell_type": "code",
   "execution_count": 20,
   "id": "3e6f3774",
   "metadata": {},
   "outputs": [],
   "source": [
    "import numpy as np\n",
    "import pandas as pd\n",
    "import matplotlib.pyplot as plt\n",
    "%matplotlib inline"
   ]
  },
  {
   "cell_type": "code",
   "execution_count": 2,
   "id": "5375fb52",
   "metadata": {},
   "outputs": [
    {
     "name": "stderr",
     "output_type": "stream",
     "text": [
      "C:\\Users\\kinga\\AppData\\Local\\Temp\\ipykernel_3488\\1469583000.py:1: DtypeWarning: Columns (7,8,11,12,13,14,15,16,17,18,19,20,21,22,23,24,25) have mixed types. Specify dtype option on import or set low_memory=False.\n",
      "  spotify = pd.read_csv('Final database.csv')\n"
     ]
    },
    {
     "data": {
      "text/html": [
       "<div>\n",
       "<style scoped>\n",
       "    .dataframe tbody tr th:only-of-type {\n",
       "        vertical-align: middle;\n",
       "    }\n",
       "\n",
       "    .dataframe tbody tr th {\n",
       "        vertical-align: top;\n",
       "    }\n",
       "\n",
       "    .dataframe thead th {\n",
       "        text-align: right;\n",
       "    }\n",
       "</style>\n",
       "<table border=\"1\" class=\"dataframe\">\n",
       "  <thead>\n",
       "    <tr style=\"text-align: right;\">\n",
       "      <th></th>\n",
       "      <th>Country</th>\n",
       "      <th>Uri</th>\n",
       "      <th>Popularity</th>\n",
       "      <th>Title</th>\n",
       "      <th>Artist</th>\n",
       "      <th>Album/Single</th>\n",
       "      <th>Genre</th>\n",
       "      <th>Artist_followers</th>\n",
       "      <th>Explicit</th>\n",
       "      <th>Album</th>\n",
       "      <th>...</th>\n",
       "      <th>Sweden</th>\n",
       "      <th>Switzerland</th>\n",
       "      <th>Taiwan</th>\n",
       "      <th>Turkey</th>\n",
       "      <th>UK</th>\n",
       "      <th>USA</th>\n",
       "      <th>Popu_max</th>\n",
       "      <th>Top10_dummy</th>\n",
       "      <th>Top50_dummy</th>\n",
       "      <th>Cluster</th>\n",
       "    </tr>\n",
       "  </thead>\n",
       "  <tbody>\n",
       "    <tr>\n",
       "      <th>0</th>\n",
       "      <td>Global</td>\n",
       "      <td>https://open.spotify.com/track/6FyRXC8tJUh863J...</td>\n",
       "      <td>31833.95</td>\n",
       "      <td>adan y eva</td>\n",
       "      <td>Paulo Londra</td>\n",
       "      <td>single</td>\n",
       "      <td>argentine hip hop</td>\n",
       "      <td>11427104.0</td>\n",
       "      <td>False</td>\n",
       "      <td>Adan y Eva</td>\n",
       "      <td>...</td>\n",
       "      <td>0</td>\n",
       "      <td>0</td>\n",
       "      <td>0</td>\n",
       "      <td>0</td>\n",
       "      <td>0</td>\n",
       "      <td>0</td>\n",
       "      <td>10</td>\n",
       "      <td>1.0</td>\n",
       "      <td>1.0</td>\n",
       "      <td>global</td>\n",
       "    </tr>\n",
       "    <tr>\n",
       "      <th>1</th>\n",
       "      <td>USA</td>\n",
       "      <td>https://open.spotify.com/track/6FyRXC8tJUh863J...</td>\n",
       "      <td>8.00</td>\n",
       "      <td>adan y eva</td>\n",
       "      <td>Paulo Londra</td>\n",
       "      <td>single</td>\n",
       "      <td>argentine hip hop</td>\n",
       "      <td>11427104.0</td>\n",
       "      <td>False</td>\n",
       "      <td>Adan y Eva</td>\n",
       "      <td>...</td>\n",
       "      <td>0</td>\n",
       "      <td>0</td>\n",
       "      <td>0</td>\n",
       "      <td>0</td>\n",
       "      <td>0</td>\n",
       "      <td>1</td>\n",
       "      <td>191</td>\n",
       "      <td>0.0</td>\n",
       "      <td>0.0</td>\n",
       "      <td>english speaking and nordic</td>\n",
       "    </tr>\n",
       "    <tr>\n",
       "      <th>2</th>\n",
       "      <td>Argentina</td>\n",
       "      <td>https://open.spotify.com/track/6FyRXC8tJUh863J...</td>\n",
       "      <td>76924.40</td>\n",
       "      <td>adan y eva</td>\n",
       "      <td>Paulo Londra</td>\n",
       "      <td>single</td>\n",
       "      <td>argentine hip hop</td>\n",
       "      <td>11427104.0</td>\n",
       "      <td>False</td>\n",
       "      <td>Adan y Eva</td>\n",
       "      <td>...</td>\n",
       "      <td>0</td>\n",
       "      <td>0</td>\n",
       "      <td>0</td>\n",
       "      <td>0</td>\n",
       "      <td>0</td>\n",
       "      <td>0</td>\n",
       "      <td>1</td>\n",
       "      <td>1.0</td>\n",
       "      <td>1.0</td>\n",
       "      <td>spanish speaking</td>\n",
       "    </tr>\n",
       "    <tr>\n",
       "      <th>3</th>\n",
       "      <td>Belgium</td>\n",
       "      <td>https://open.spotify.com/track/6FyRXC8tJUh863J...</td>\n",
       "      <td>849.60</td>\n",
       "      <td>adan y eva</td>\n",
       "      <td>Paulo Londra</td>\n",
       "      <td>single</td>\n",
       "      <td>argentine hip hop</td>\n",
       "      <td>11427104.0</td>\n",
       "      <td>False</td>\n",
       "      <td>Adan y Eva</td>\n",
       "      <td>...</td>\n",
       "      <td>0</td>\n",
       "      <td>0</td>\n",
       "      <td>0</td>\n",
       "      <td>0</td>\n",
       "      <td>0</td>\n",
       "      <td>0</td>\n",
       "      <td>126</td>\n",
       "      <td>0.0</td>\n",
       "      <td>0.0</td>\n",
       "      <td>english speaking and nordic</td>\n",
       "    </tr>\n",
       "    <tr>\n",
       "      <th>4</th>\n",
       "      <td>Switzerland</td>\n",
       "      <td>https://open.spotify.com/track/6FyRXC8tJUh863J...</td>\n",
       "      <td>20739.10</td>\n",
       "      <td>adan y eva</td>\n",
       "      <td>Paulo Londra</td>\n",
       "      <td>single</td>\n",
       "      <td>argentine hip hop</td>\n",
       "      <td>11427104.0</td>\n",
       "      <td>False</td>\n",
       "      <td>Adan y Eva</td>\n",
       "      <td>...</td>\n",
       "      <td>0</td>\n",
       "      <td>1</td>\n",
       "      <td>0</td>\n",
       "      <td>0</td>\n",
       "      <td>0</td>\n",
       "      <td>0</td>\n",
       "      <td>21</td>\n",
       "      <td>0.0</td>\n",
       "      <td>1.0</td>\n",
       "      <td>english speaking and nordic</td>\n",
       "    </tr>\n",
       "  </tbody>\n",
       "</table>\n",
       "<p>5 rows × 151 columns</p>\n",
       "</div>"
      ],
      "text/plain": [
       "       Country                                                Uri  Popularity  \\\n",
       "0       Global  https://open.spotify.com/track/6FyRXC8tJUh863J...    31833.95   \n",
       "1          USA  https://open.spotify.com/track/6FyRXC8tJUh863J...        8.00   \n",
       "2    Argentina  https://open.spotify.com/track/6FyRXC8tJUh863J...    76924.40   \n",
       "3      Belgium  https://open.spotify.com/track/6FyRXC8tJUh863J...      849.60   \n",
       "4  Switzerland  https://open.spotify.com/track/6FyRXC8tJUh863J...    20739.10   \n",
       "\n",
       "        Title        Artist Album/Single              Genre Artist_followers  \\\n",
       "0  adan y eva  Paulo Londra       single  argentine hip hop       11427104.0   \n",
       "1  adan y eva  Paulo Londra       single  argentine hip hop       11427104.0   \n",
       "2  adan y eva  Paulo Londra       single  argentine hip hop       11427104.0   \n",
       "3  adan y eva  Paulo Londra       single  argentine hip hop       11427104.0   \n",
       "4  adan y eva  Paulo Londra       single  argentine hip hop       11427104.0   \n",
       "\n",
       "  Explicit       Album  ... Sweden Switzerland Taiwan Turkey UK USA Popu_max  \\\n",
       "0    False  Adan y Eva  ...      0           0      0      0  0   0       10   \n",
       "1    False  Adan y Eva  ...      0           0      0      0  0   1      191   \n",
       "2    False  Adan y Eva  ...      0           0      0      0  0   0        1   \n",
       "3    False  Adan y Eva  ...      0           0      0      0  0   0      126   \n",
       "4    False  Adan y Eva  ...      0           1      0      0  0   0       21   \n",
       "\n",
       "  Top10_dummy Top50_dummy                      Cluster  \n",
       "0         1.0         1.0                       global  \n",
       "1         0.0         0.0  english speaking and nordic  \n",
       "2         1.0         1.0             spanish speaking  \n",
       "3         0.0         0.0  english speaking and nordic  \n",
       "4         0.0         1.0  english speaking and nordic  \n",
       "\n",
       "[5 rows x 151 columns]"
      ]
     },
     "execution_count": 2,
     "metadata": {},
     "output_type": "execute_result"
    }
   ],
   "source": [
    "spotify = pd.read_csv('Final database.csv')\n",
    "spotify.head()"
   ]
  },
  {
   "cell_type": "markdown",
   "id": "e5fe8b44",
   "metadata": {},
   "source": [
    "### Jakie kraje są uwzględnione w zestawieniu "
   ]
  },
  {
   "cell_type": "code",
   "execution_count": 3,
   "id": "c9e26734",
   "metadata": {},
   "outputs": [
    {
     "name": "stdout",
     "output_type": "stream",
     "text": [
      "['Global' 'USA' 'Argentina' 'Belgium' 'Switzerland' 'Chile' 'Colombia'\n",
      " 'Costa Rica' 'Germany' 'Ecuador' 'Spain' 'Italy' 'Mexico' 'Peru'\n",
      " 'Portugal' 'Taiwan' 'UK' 'Austria' 'Australia' 'Canada' 'Finland'\n",
      " 'France' 'Indonesia' 'Ireland' 'Malaysia' 'Netherlands' 'Norway'\n",
      " 'New Zealand' 'Philippines' 'Poland' 'Sweden' 'Singapore' 'Turkey'\n",
      " 'Brazil' 'Denmark']\n"
     ]
    }
   ],
   "source": [
    "print(spotify['Country'].unique())"
   ]
  },
  {
   "cell_type": "markdown",
   "id": "a835a676",
   "metadata": {},
   "source": [
    "### Wartość maksymalna, minimalna, średnia dla Popularity w \"kraju\" Global"
   ]
  },
  {
   "cell_type": "code",
   "execution_count": 4,
   "id": "951c01a4",
   "metadata": {},
   "outputs": [
    {
     "data": {
      "text/html": [
       "<div>\n",
       "<style scoped>\n",
       "    .dataframe tbody tr th:only-of-type {\n",
       "        vertical-align: middle;\n",
       "    }\n",
       "\n",
       "    .dataframe tbody tr th {\n",
       "        vertical-align: top;\n",
       "    }\n",
       "\n",
       "    .dataframe thead th {\n",
       "        text-align: right;\n",
       "    }\n",
       "</style>\n",
       "<table border=\"1\" class=\"dataframe\">\n",
       "  <thead>\n",
       "    <tr style=\"text-align: right;\">\n",
       "      <th></th>\n",
       "      <th>Country</th>\n",
       "      <th>Uri</th>\n",
       "      <th>Popularity</th>\n",
       "      <th>Title</th>\n",
       "      <th>Artist</th>\n",
       "      <th>Album/Single</th>\n",
       "      <th>Genre</th>\n",
       "      <th>Artist_followers</th>\n",
       "      <th>Explicit</th>\n",
       "      <th>Album</th>\n",
       "      <th>...</th>\n",
       "      <th>Sweden</th>\n",
       "      <th>Switzerland</th>\n",
       "      <th>Taiwan</th>\n",
       "      <th>Turkey</th>\n",
       "      <th>UK</th>\n",
       "      <th>USA</th>\n",
       "      <th>Popu_max</th>\n",
       "      <th>Top10_dummy</th>\n",
       "      <th>Top50_dummy</th>\n",
       "      <th>Cluster</th>\n",
       "    </tr>\n",
       "  </thead>\n",
       "  <tbody>\n",
       "    <tr>\n",
       "      <th>0</th>\n",
       "      <td>Global</td>\n",
       "      <td>https://open.spotify.com/track/6FyRXC8tJUh863J...</td>\n",
       "      <td>31833.95</td>\n",
       "      <td>adan y eva</td>\n",
       "      <td>Paulo Londra</td>\n",
       "      <td>single</td>\n",
       "      <td>argentine hip hop</td>\n",
       "      <td>11427104.0</td>\n",
       "      <td>False</td>\n",
       "      <td>Adan y Eva</td>\n",
       "      <td>...</td>\n",
       "      <td>0</td>\n",
       "      <td>0</td>\n",
       "      <td>0</td>\n",
       "      <td>0</td>\n",
       "      <td>0</td>\n",
       "      <td>0</td>\n",
       "      <td>10</td>\n",
       "      <td>1.0</td>\n",
       "      <td>1.0</td>\n",
       "      <td>global</td>\n",
       "    </tr>\n",
       "    <tr>\n",
       "      <th>16</th>\n",
       "      <td>Global</td>\n",
       "      <td>https://open.spotify.com/track/5xhJmd0I15jFcEd...</td>\n",
       "      <td>418.00</td>\n",
       "      <td>it wont kill ya</td>\n",
       "      <td>The Chainsmokers - Louane</td>\n",
       "      <td>album</td>\n",
       "      <td>dance pop</td>\n",
       "      <td>16931568.0</td>\n",
       "      <td>False</td>\n",
       "      <td>Memories...Do Not Open</td>\n",
       "      <td>...</td>\n",
       "      <td>0</td>\n",
       "      <td>0</td>\n",
       "      <td>0</td>\n",
       "      <td>0</td>\n",
       "      <td>0</td>\n",
       "      <td>0</td>\n",
       "      <td>72</td>\n",
       "      <td>0.0</td>\n",
       "      <td>0.0</td>\n",
       "      <td>global</td>\n",
       "    </tr>\n",
       "    <tr>\n",
       "      <th>39</th>\n",
       "      <td>Global</td>\n",
       "      <td>https://open.spotify.com/track/0wJJhRgdHhT93Z3...</td>\n",
       "      <td>56.00</td>\n",
       "      <td>hymn</td>\n",
       "      <td>Kesha</td>\n",
       "      <td>single</td>\n",
       "      <td>dance pop</td>\n",
       "      <td>5910376.0</td>\n",
       "      <td>True</td>\n",
       "      <td>Hymn</td>\n",
       "      <td>...</td>\n",
       "      <td>0</td>\n",
       "      <td>0</td>\n",
       "      <td>0</td>\n",
       "      <td>0</td>\n",
       "      <td>0</td>\n",
       "      <td>0</td>\n",
       "      <td>131</td>\n",
       "      <td>0.0</td>\n",
       "      <td>0.0</td>\n",
       "      <td>global</td>\n",
       "    </tr>\n",
       "    <tr>\n",
       "      <th>58</th>\n",
       "      <td>Global</td>\n",
       "      <td>https://open.spotify.com/track/6JSryEdVJTZq6YB...</td>\n",
       "      <td>78.40</td>\n",
       "      <td>arrows</td>\n",
       "      <td>Foo Fighters</td>\n",
       "      <td>album</td>\n",
       "      <td>alternative metal</td>\n",
       "      <td>8092392.0</td>\n",
       "      <td>False</td>\n",
       "      <td>Concrete and Gold</td>\n",
       "      <td>...</td>\n",
       "      <td>0</td>\n",
       "      <td>0</td>\n",
       "      <td>0</td>\n",
       "      <td>0</td>\n",
       "      <td>0</td>\n",
       "      <td>0</td>\n",
       "      <td>103</td>\n",
       "      <td>0.0</td>\n",
       "      <td>0.0</td>\n",
       "      <td>global</td>\n",
       "    </tr>\n",
       "    <tr>\n",
       "      <th>80</th>\n",
       "      <td>Global</td>\n",
       "      <td>https://open.spotify.com/track/7nAfXgeHfDO50up...</td>\n",
       "      <td>244.95</td>\n",
       "      <td>talking to myself</td>\n",
       "      <td>Linkin Park</td>\n",
       "      <td>album</td>\n",
       "      <td>alternative metal</td>\n",
       "      <td>17132813.0</td>\n",
       "      <td>False</td>\n",
       "      <td>One More Light</td>\n",
       "      <td>...</td>\n",
       "      <td>0</td>\n",
       "      <td>0</td>\n",
       "      <td>0</td>\n",
       "      <td>0</td>\n",
       "      <td>0</td>\n",
       "      <td>0</td>\n",
       "      <td>86</td>\n",
       "      <td>0.0</td>\n",
       "      <td>0.0</td>\n",
       "      <td>global</td>\n",
       "    </tr>\n",
       "    <tr>\n",
       "      <th>...</th>\n",
       "      <td>...</td>\n",
       "      <td>...</td>\n",
       "      <td>...</td>\n",
       "      <td>...</td>\n",
       "      <td>...</td>\n",
       "      <td>...</td>\n",
       "      <td>...</td>\n",
       "      <td>...</td>\n",
       "      <td>...</td>\n",
       "      <td>...</td>\n",
       "      <td>...</td>\n",
       "      <td>...</td>\n",
       "      <td>...</td>\n",
       "      <td>...</td>\n",
       "      <td>...</td>\n",
       "      <td>...</td>\n",
       "      <td>...</td>\n",
       "      <td>...</td>\n",
       "      <td>...</td>\n",
       "      <td>...</td>\n",
       "      <td>...</td>\n",
       "    </tr>\n",
       "    <tr>\n",
       "      <th>83794</th>\n",
       "      <td>Global</td>\n",
       "      <td>https://open.spotify.com/track/1rIKgCH4H52lrvD...</td>\n",
       "      <td>1896.00</td>\n",
       "      <td>lush life</td>\n",
       "      <td>Zara Larsson</td>\n",
       "      <td>album</td>\n",
       "      <td>dance pop</td>\n",
       "      <td>7920553</td>\n",
       "      <td>False</td>\n",
       "      <td>So Good</td>\n",
       "      <td>...</td>\n",
       "      <td>0</td>\n",
       "      <td>0</td>\n",
       "      <td>0</td>\n",
       "      <td>0</td>\n",
       "      <td>0</td>\n",
       "      <td>0</td>\n",
       "      <td>104</td>\n",
       "      <td>0.0</td>\n",
       "      <td>0.0</td>\n",
       "      <td>global</td>\n",
       "    </tr>\n",
       "    <tr>\n",
       "      <th>83826</th>\n",
       "      <td>Global</td>\n",
       "      <td>https://open.spotify.com/track/6f3Slt0GbA2bPZl...</td>\n",
       "      <td>141.60</td>\n",
       "      <td>the business</td>\n",
       "      <td>Tiësto</td>\n",
       "      <td>single</td>\n",
       "      <td>big room</td>\n",
       "      <td>5177309</td>\n",
       "      <td>False</td>\n",
       "      <td>The Business</td>\n",
       "      <td>...</td>\n",
       "      <td>0</td>\n",
       "      <td>0</td>\n",
       "      <td>0</td>\n",
       "      <td>0</td>\n",
       "      <td>0</td>\n",
       "      <td>0</td>\n",
       "      <td>160</td>\n",
       "      <td>0.0</td>\n",
       "      <td>0.0</td>\n",
       "      <td>global</td>\n",
       "    </tr>\n",
       "    <tr>\n",
       "      <th>83839</th>\n",
       "      <td>Global</td>\n",
       "      <td>https://open.spotify.com/track/1xndOD8CreR5ctk...</td>\n",
       "      <td>672.25</td>\n",
       "      <td>scooby doo pa pa</td>\n",
       "      <td>Dj Kass</td>\n",
       "      <td>single</td>\n",
       "      <td>chilean hardcore</td>\n",
       "      <td>30456</td>\n",
       "      <td>False</td>\n",
       "      <td>Scooby Doo Pa Pa</td>\n",
       "      <td>...</td>\n",
       "      <td>0</td>\n",
       "      <td>0</td>\n",
       "      <td>0</td>\n",
       "      <td>0</td>\n",
       "      <td>0</td>\n",
       "      <td>0</td>\n",
       "      <td>88</td>\n",
       "      <td>0.0</td>\n",
       "      <td>0.0</td>\n",
       "      <td>global</td>\n",
       "    </tr>\n",
       "    <tr>\n",
       "      <th>83845</th>\n",
       "      <td>Global</td>\n",
       "      <td>https://open.spotify.com/track/35mvY5S1H3J2QZy...</td>\n",
       "      <td>3713.40</td>\n",
       "      <td>positions</td>\n",
       "      <td>Ariana Grande</td>\n",
       "      <td>album</td>\n",
       "      <td>dance pop</td>\n",
       "      <td>52571724</td>\n",
       "      <td>True</td>\n",
       "      <td>Positions</td>\n",
       "      <td>...</td>\n",
       "      <td>0</td>\n",
       "      <td>0</td>\n",
       "      <td>0</td>\n",
       "      <td>0</td>\n",
       "      <td>0</td>\n",
       "      <td>0</td>\n",
       "      <td>1</td>\n",
       "      <td>1.0</td>\n",
       "      <td>1.0</td>\n",
       "      <td>global</td>\n",
       "    </tr>\n",
       "    <tr>\n",
       "      <th>83880</th>\n",
       "      <td>Global</td>\n",
       "      <td>https://open.spotify.com/track/7cfvP13Bqb1EyCZ...</td>\n",
       "      <td>3003.85</td>\n",
       "      <td>can’t take a joke</td>\n",
       "      <td>Drake</td>\n",
       "      <td>album</td>\n",
       "      <td>canadian hip hop</td>\n",
       "      <td>50593376</td>\n",
       "      <td>True</td>\n",
       "      <td>Scorpion</td>\n",
       "      <td>...</td>\n",
       "      <td>0</td>\n",
       "      <td>0</td>\n",
       "      <td>0</td>\n",
       "      <td>0</td>\n",
       "      <td>0</td>\n",
       "      <td>0</td>\n",
       "      <td>11</td>\n",
       "      <td>0.0</td>\n",
       "      <td>1.0</td>\n",
       "      <td>global</td>\n",
       "    </tr>\n",
       "  </tbody>\n",
       "</table>\n",
       "<p>5461 rows × 151 columns</p>\n",
       "</div>"
      ],
      "text/plain": [
       "      Country                                                Uri  Popularity  \\\n",
       "0      Global  https://open.spotify.com/track/6FyRXC8tJUh863J...    31833.95   \n",
       "16     Global  https://open.spotify.com/track/5xhJmd0I15jFcEd...      418.00   \n",
       "39     Global  https://open.spotify.com/track/0wJJhRgdHhT93Z3...       56.00   \n",
       "58     Global  https://open.spotify.com/track/6JSryEdVJTZq6YB...       78.40   \n",
       "80     Global  https://open.spotify.com/track/7nAfXgeHfDO50up...      244.95   \n",
       "...       ...                                                ...         ...   \n",
       "83794  Global  https://open.spotify.com/track/1rIKgCH4H52lrvD...     1896.00   \n",
       "83826  Global  https://open.spotify.com/track/6f3Slt0GbA2bPZl...      141.60   \n",
       "83839  Global  https://open.spotify.com/track/1xndOD8CreR5ctk...      672.25   \n",
       "83845  Global  https://open.spotify.com/track/35mvY5S1H3J2QZy...     3713.40   \n",
       "83880  Global  https://open.spotify.com/track/7cfvP13Bqb1EyCZ...     3003.85   \n",
       "\n",
       "                   Title                     Artist Album/Single  \\\n",
       "0             adan y eva               Paulo Londra       single   \n",
       "16       it wont kill ya  The Chainsmokers - Louane        album   \n",
       "39                  hymn                      Kesha       single   \n",
       "58                arrows               Foo Fighters        album   \n",
       "80     talking to myself                Linkin Park        album   \n",
       "...                  ...                        ...          ...   \n",
       "83794          lush life               Zara Larsson        album   \n",
       "83826       the business                     Tiësto       single   \n",
       "83839   scooby doo pa pa                    Dj Kass       single   \n",
       "83845          positions              Ariana Grande        album   \n",
       "83880  can’t take a joke                      Drake        album   \n",
       "\n",
       "                   Genre Artist_followers Explicit                   Album  \\\n",
       "0      argentine hip hop       11427104.0    False              Adan y Eva   \n",
       "16             dance pop       16931568.0    False  Memories...Do Not Open   \n",
       "39             dance pop        5910376.0     True                    Hymn   \n",
       "58     alternative metal        8092392.0    False       Concrete and Gold   \n",
       "80     alternative metal       17132813.0    False          One More Light   \n",
       "...                  ...              ...      ...                     ...   \n",
       "83794          dance pop          7920553    False                 So Good   \n",
       "83826           big room          5177309    False            The Business   \n",
       "83839   chilean hardcore            30456    False        Scooby Doo Pa Pa   \n",
       "83845          dance pop         52571724     True               Positions   \n",
       "83880   canadian hip hop         50593376     True                Scorpion   \n",
       "\n",
       "       ... Sweden Switzerland Taiwan Turkey UK USA Popu_max Top10_dummy  \\\n",
       "0      ...      0           0      0      0  0   0       10         1.0   \n",
       "16     ...      0           0      0      0  0   0       72         0.0   \n",
       "39     ...      0           0      0      0  0   0      131         0.0   \n",
       "58     ...      0           0      0      0  0   0      103         0.0   \n",
       "80     ...      0           0      0      0  0   0       86         0.0   \n",
       "...    ...    ...         ...    ...    ... ..  ..      ...         ...   \n",
       "83794  ...      0           0      0      0  0   0      104         0.0   \n",
       "83826  ...      0           0      0      0  0   0      160         0.0   \n",
       "83839  ...      0           0      0      0  0   0       88         0.0   \n",
       "83845  ...      0           0      0      0  0   0        1         1.0   \n",
       "83880  ...      0           0      0      0  0   0       11         0.0   \n",
       "\n",
       "      Top50_dummy Cluster  \n",
       "0             1.0  global  \n",
       "16            0.0  global  \n",
       "39            0.0  global  \n",
       "58            0.0  global  \n",
       "80            0.0  global  \n",
       "...           ...     ...  \n",
       "83794         0.0  global  \n",
       "83826         0.0  global  \n",
       "83839         0.0  global  \n",
       "83845         1.0  global  \n",
       "83880         1.0  global  \n",
       "\n",
       "[5461 rows x 151 columns]"
      ]
     },
     "execution_count": 4,
     "metadata": {},
     "output_type": "execute_result"
    }
   ],
   "source": [
    "global_only = spotify[spotify.Country == 'Global']\n",
    "global_only"
   ]
  },
  {
   "cell_type": "code",
   "execution_count": 5,
   "id": "8105f994",
   "metadata": {},
   "outputs": [
    {
     "data": {
      "text/plain": [
       "0        31833.95\n",
       "16         418.00\n",
       "39          56.00\n",
       "58          78.40\n",
       "80         244.95\n",
       "           ...   \n",
       "83794     1896.00\n",
       "83826      141.60\n",
       "83839      672.25\n",
       "83845     3713.40\n",
       "83880     3003.85\n",
       "Name: Popularity, Length: 5461, dtype: float64"
      ]
     },
     "execution_count": 5,
     "metadata": {},
     "output_type": "execute_result"
    }
   ],
   "source": [
    "popularity_global_only = global_only[\"Popularity\"]\n",
    "popularity_global_only"
   ]
  },
  {
   "cell_type": "code",
   "execution_count": 6,
   "id": "929b42ad",
   "metadata": {},
   "outputs": [
    {
     "data": {
      "text/plain": [
       "221570.99999999988"
      ]
     },
     "execution_count": 6,
     "metadata": {},
     "output_type": "execute_result"
    }
   ],
   "source": [
    "popularity_global_only.max()"
   ]
  },
  {
   "cell_type": "code",
   "execution_count": 7,
   "id": "411d70f9",
   "metadata": {},
   "outputs": [
    {
     "data": {
      "text/plain": [
       "0.8"
      ]
     },
     "execution_count": 7,
     "metadata": {},
     "output_type": "execute_result"
    }
   ],
   "source": [
    "popularity_global_only.min()"
   ]
  },
  {
   "cell_type": "code",
   "execution_count": 8,
   "id": "edc62e65",
   "metadata": {},
   "outputs": [
    {
     "data": {
      "text/plain": [
       "4818.5621589452485"
      ]
     },
     "execution_count": 8,
     "metadata": {},
     "output_type": "execute_result"
    }
   ],
   "source": [
    "popularity_global_only.mean()"
   ]
  },
  {
   "cell_type": "markdown",
   "id": "ad8dd36d",
   "metadata": {},
   "source": [
    "##### Opis ststystyczny Popularity dla \"kraju\" Global"
   ]
  },
  {
   "cell_type": "code",
   "execution_count": 9,
   "id": "473b0eb8",
   "metadata": {},
   "outputs": [
    {
     "data": {
      "text/plain": [
       "count      5461.000000\n",
       "mean       4818.562159\n",
       "std       12194.645344\n",
       "min           0.800000\n",
       "25%          67.200000\n",
       "50%         464.300000\n",
       "75%        3235.950000\n",
       "max      221571.000000\n",
       "Name: Popularity, dtype: float64"
      ]
     },
     "execution_count": 9,
     "metadata": {},
     "output_type": "execute_result"
    }
   ],
   "source": [
    "popularity_global_only.describe()"
   ]
  },
  {
   "cell_type": "markdown",
   "id": "fd18786a",
   "metadata": {},
   "source": [
    "#### Lista utworów dla kraju \"Global\", w 4 kwartylu dla Popularity"
   ]
  },
  {
   "cell_type": "code",
   "execution_count": 10,
   "id": "1b171216",
   "metadata": {},
   "outputs": [
    {
     "data": {
      "text/html": [
       "<div>\n",
       "<style scoped>\n",
       "    .dataframe tbody tr th:only-of-type {\n",
       "        vertical-align: middle;\n",
       "    }\n",
       "\n",
       "    .dataframe tbody tr th {\n",
       "        vertical-align: top;\n",
       "    }\n",
       "\n",
       "    .dataframe thead th {\n",
       "        text-align: right;\n",
       "    }\n",
       "</style>\n",
       "<table border=\"1\" class=\"dataframe\">\n",
       "  <thead>\n",
       "    <tr style=\"text-align: right;\">\n",
       "      <th></th>\n",
       "      <th>Popularity</th>\n",
       "      <th>Title</th>\n",
       "      <th>Artist</th>\n",
       "      <th>Genre</th>\n",
       "    </tr>\n",
       "  </thead>\n",
       "  <tbody>\n",
       "    <tr>\n",
       "      <th>0</th>\n",
       "      <td>31833.95</td>\n",
       "      <td>adan y eva</td>\n",
       "      <td>Paulo Londra</td>\n",
       "      <td>argentine hip hop</td>\n",
       "    </tr>\n",
       "    <tr>\n",
       "      <th>16</th>\n",
       "      <td>418.00</td>\n",
       "      <td>it wont kill ya</td>\n",
       "      <td>The Chainsmokers - Louane</td>\n",
       "      <td>dance pop</td>\n",
       "    </tr>\n",
       "    <tr>\n",
       "      <th>39</th>\n",
       "      <td>56.00</td>\n",
       "      <td>hymn</td>\n",
       "      <td>Kesha</td>\n",
       "      <td>dance pop</td>\n",
       "    </tr>\n",
       "    <tr>\n",
       "      <th>58</th>\n",
       "      <td>78.40</td>\n",
       "      <td>arrows</td>\n",
       "      <td>Foo Fighters</td>\n",
       "      <td>alternative metal</td>\n",
       "    </tr>\n",
       "    <tr>\n",
       "      <th>80</th>\n",
       "      <td>244.95</td>\n",
       "      <td>talking to myself</td>\n",
       "      <td>Linkin Park</td>\n",
       "      <td>alternative metal</td>\n",
       "    </tr>\n",
       "    <tr>\n",
       "      <th>...</th>\n",
       "      <td>...</td>\n",
       "      <td>...</td>\n",
       "      <td>...</td>\n",
       "      <td>...</td>\n",
       "    </tr>\n",
       "    <tr>\n",
       "      <th>83794</th>\n",
       "      <td>1896.00</td>\n",
       "      <td>lush life</td>\n",
       "      <td>Zara Larsson</td>\n",
       "      <td>dance pop</td>\n",
       "    </tr>\n",
       "    <tr>\n",
       "      <th>83826</th>\n",
       "      <td>141.60</td>\n",
       "      <td>the business</td>\n",
       "      <td>Tiësto</td>\n",
       "      <td>big room</td>\n",
       "    </tr>\n",
       "    <tr>\n",
       "      <th>83839</th>\n",
       "      <td>672.25</td>\n",
       "      <td>scooby doo pa pa</td>\n",
       "      <td>Dj Kass</td>\n",
       "      <td>chilean hardcore</td>\n",
       "    </tr>\n",
       "    <tr>\n",
       "      <th>83845</th>\n",
       "      <td>3713.40</td>\n",
       "      <td>positions</td>\n",
       "      <td>Ariana Grande</td>\n",
       "      <td>dance pop</td>\n",
       "    </tr>\n",
       "    <tr>\n",
       "      <th>83880</th>\n",
       "      <td>3003.85</td>\n",
       "      <td>can’t take a joke</td>\n",
       "      <td>Drake</td>\n",
       "      <td>canadian hip hop</td>\n",
       "    </tr>\n",
       "  </tbody>\n",
       "</table>\n",
       "<p>5461 rows × 4 columns</p>\n",
       "</div>"
      ],
      "text/plain": [
       "       Popularity              Title                     Artist  \\\n",
       "0        31833.95         adan y eva               Paulo Londra   \n",
       "16         418.00    it wont kill ya  The Chainsmokers - Louane   \n",
       "39          56.00               hymn                      Kesha   \n",
       "58          78.40             arrows               Foo Fighters   \n",
       "80         244.95  talking to myself                Linkin Park   \n",
       "...           ...                ...                        ...   \n",
       "83794     1896.00          lush life               Zara Larsson   \n",
       "83826      141.60       the business                     Tiësto   \n",
       "83839      672.25   scooby doo pa pa                    Dj Kass   \n",
       "83845     3713.40          positions              Ariana Grande   \n",
       "83880     3003.85  can’t take a joke                      Drake   \n",
       "\n",
       "                   Genre  \n",
       "0      argentine hip hop  \n",
       "16             dance pop  \n",
       "39             dance pop  \n",
       "58     alternative metal  \n",
       "80     alternative metal  \n",
       "...                  ...  \n",
       "83794          dance pop  \n",
       "83826           big room  \n",
       "83839   chilean hardcore  \n",
       "83845          dance pop  \n",
       "83880   canadian hip hop  \n",
       "\n",
       "[5461 rows x 4 columns]"
      ]
     },
     "execution_count": 10,
     "metadata": {},
     "output_type": "execute_result"
    }
   ],
   "source": [
    "less_info_global_only = global_only[[\"Popularity\", \"Title\", \"Artist\", \"Genre\"]]\n",
    "less_info_global_only"
   ]
  },
  {
   "cell_type": "code",
   "execution_count": 11,
   "id": "92fc671f",
   "metadata": {},
   "outputs": [
    {
     "data": {
      "text/html": [
       "<div>\n",
       "<style scoped>\n",
       "    .dataframe tbody tr th:only-of-type {\n",
       "        vertical-align: middle;\n",
       "    }\n",
       "\n",
       "    .dataframe tbody tr th {\n",
       "        vertical-align: top;\n",
       "    }\n",
       "\n",
       "    .dataframe thead th {\n",
       "        text-align: right;\n",
       "    }\n",
       "</style>\n",
       "<table border=\"1\" class=\"dataframe\">\n",
       "  <thead>\n",
       "    <tr style=\"text-align: right;\">\n",
       "      <th></th>\n",
       "      <th>Popularity</th>\n",
       "      <th>Title</th>\n",
       "      <th>Artist</th>\n",
       "      <th>Genre</th>\n",
       "    </tr>\n",
       "  </thead>\n",
       "  <tbody>\n",
       "    <tr>\n",
       "      <th>0</th>\n",
       "      <td>31833.95</td>\n",
       "      <td>adan y eva</td>\n",
       "      <td>Paulo Londra</td>\n",
       "      <td>argentine hip hop</td>\n",
       "    </tr>\n",
       "    <tr>\n",
       "      <th>122</th>\n",
       "      <td>7959.50</td>\n",
       "      <td>versace on the floor</td>\n",
       "      <td>Bruno Mars</td>\n",
       "      <td>dance pop</td>\n",
       "    </tr>\n",
       "    <tr>\n",
       "      <th>156</th>\n",
       "      <td>6575.75</td>\n",
       "      <td>sixteen</td>\n",
       "      <td>Ellie Goulding</td>\n",
       "      <td>dance pop</td>\n",
       "    </tr>\n",
       "    <tr>\n",
       "      <th>233</th>\n",
       "      <td>6459.65</td>\n",
       "      <td>to die for</td>\n",
       "      <td>Sam Smith</td>\n",
       "      <td>pop</td>\n",
       "    </tr>\n",
       "    <tr>\n",
       "      <th>344</th>\n",
       "      <td>18495.25</td>\n",
       "      <td>physical</td>\n",
       "      <td>Dua Lipa</td>\n",
       "      <td>dance pop</td>\n",
       "    </tr>\n",
       "    <tr>\n",
       "      <th>...</th>\n",
       "      <td>...</td>\n",
       "      <td>...</td>\n",
       "      <td>...</td>\n",
       "      <td>...</td>\n",
       "    </tr>\n",
       "    <tr>\n",
       "      <th>83475</th>\n",
       "      <td>9758.80</td>\n",
       "      <td>got it on me</td>\n",
       "      <td>Pop Smoke</td>\n",
       "      <td>brooklyn drill</td>\n",
       "    </tr>\n",
       "    <tr>\n",
       "      <th>83497</th>\n",
       "      <td>25299.65</td>\n",
       "      <td>yes indeed</td>\n",
       "      <td>Lil Baby - Drake</td>\n",
       "      <td>atl hip hop</td>\n",
       "    </tr>\n",
       "    <tr>\n",
       "      <th>83534</th>\n",
       "      <td>7320.20</td>\n",
       "      <td>me!</td>\n",
       "      <td>Taylor Swift - Brendon Urie</td>\n",
       "      <td>dance pop</td>\n",
       "    </tr>\n",
       "    <tr>\n",
       "      <th>83752</th>\n",
       "      <td>7389.65</td>\n",
       "      <td>rich &amp; sad</td>\n",
       "      <td>Post Malone</td>\n",
       "      <td>dfw rap</td>\n",
       "    </tr>\n",
       "    <tr>\n",
       "      <th>83845</th>\n",
       "      <td>3713.40</td>\n",
       "      <td>positions</td>\n",
       "      <td>Ariana Grande</td>\n",
       "      <td>dance pop</td>\n",
       "    </tr>\n",
       "  </tbody>\n",
       "</table>\n",
       "<p>1366 rows × 4 columns</p>\n",
       "</div>"
      ],
      "text/plain": [
       "       Popularity                 Title                       Artist  \\\n",
       "0        31833.95            adan y eva                 Paulo Londra   \n",
       "122       7959.50  versace on the floor                   Bruno Mars   \n",
       "156       6575.75               sixteen               Ellie Goulding   \n",
       "233       6459.65            to die for                    Sam Smith   \n",
       "344      18495.25              physical                     Dua Lipa   \n",
       "...           ...                   ...                          ...   \n",
       "83475     9758.80          got it on me                    Pop Smoke   \n",
       "83497    25299.65            yes indeed             Lil Baby - Drake   \n",
       "83534     7320.20                   me!  Taylor Swift - Brendon Urie   \n",
       "83752     7389.65            rich & sad                  Post Malone   \n",
       "83845     3713.40             positions                Ariana Grande   \n",
       "\n",
       "                   Genre  \n",
       "0      argentine hip hop  \n",
       "122            dance pop  \n",
       "156            dance pop  \n",
       "233                  pop  \n",
       "344            dance pop  \n",
       "...                  ...  \n",
       "83475     brooklyn drill  \n",
       "83497        atl hip hop  \n",
       "83534          dance pop  \n",
       "83752            dfw rap  \n",
       "83845          dance pop  \n",
       "\n",
       "[1366 rows x 4 columns]"
      ]
     },
     "execution_count": 11,
     "metadata": {},
     "output_type": "execute_result"
    }
   ],
   "source": [
    "less_info_global_only[less_info_global_only[\"Popularity\"] > 3235.95]"
   ]
  },
  {
   "cell_type": "markdown",
   "id": "9184825f",
   "metadata": {},
   "source": []
  },
  {
   "cell_type": "markdown",
   "id": "ce96621a",
   "metadata": {},
   "source": [
    "### Korelacja "
   ]
  },
  {
   "cell_type": "code",
   "execution_count": 12,
   "id": "2fef65de",
   "metadata": {},
   "outputs": [
    {
     "name": "stderr",
     "output_type": "stream",
     "text": [
      "C:\\Users\\kinga\\AppData\\Local\\Temp\\ipykernel_3488\\3663519986.py:1: FutureWarning: The default value of numeric_only in DataFrame.corr is deprecated. In a future version, it will default to False. Select only valid columns or specify the value of numeric_only to silence this warning.\n",
      "  global_only_correlation = global_only.corr()\n"
     ]
    },
    {
     "data": {
      "text/html": [
       "<div>\n",
       "<style scoped>\n",
       "    .dataframe tbody tr th:only-of-type {\n",
       "        vertical-align: middle;\n",
       "    }\n",
       "\n",
       "    .dataframe tbody tr th {\n",
       "        vertical-align: top;\n",
       "    }\n",
       "\n",
       "    .dataframe thead th {\n",
       "        text-align: right;\n",
       "    }\n",
       "</style>\n",
       "<table border=\"1\" class=\"dataframe\">\n",
       "  <thead>\n",
       "    <tr style=\"text-align: right;\">\n",
       "      <th></th>\n",
       "      <th>Popularity</th>\n",
       "      <th>Days_since_release</th>\n",
       "      <th>Released_after_2017</th>\n",
       "      <th>Explicit_false</th>\n",
       "      <th>Explicit_true</th>\n",
       "      <th>album</th>\n",
       "      <th>compilation</th>\n",
       "      <th>single</th>\n",
       "      <th>bolero</th>\n",
       "      <th>boy band</th>\n",
       "      <th>...</th>\n",
       "      <th>Spain</th>\n",
       "      <th>Sweden</th>\n",
       "      <th>Switzerland</th>\n",
       "      <th>Taiwan</th>\n",
       "      <th>Turkey</th>\n",
       "      <th>UK</th>\n",
       "      <th>USA</th>\n",
       "      <th>Popu_max</th>\n",
       "      <th>Top10_dummy</th>\n",
       "      <th>Top50_dummy</th>\n",
       "    </tr>\n",
       "  </thead>\n",
       "  <tbody>\n",
       "    <tr>\n",
       "      <th>Popularity</th>\n",
       "      <td>1.000000</td>\n",
       "      <td>-0.026348</td>\n",
       "      <td>-0.002437</td>\n",
       "      <td>0.069128</td>\n",
       "      <td>-0.069128</td>\n",
       "      <td>-0.074593</td>\n",
       "      <td>-0.014746</td>\n",
       "      <td>0.078021</td>\n",
       "      <td>-0.007502</td>\n",
       "      <td>-0.013956</td>\n",
       "      <td>...</td>\n",
       "      <td>NaN</td>\n",
       "      <td>NaN</td>\n",
       "      <td>NaN</td>\n",
       "      <td>NaN</td>\n",
       "      <td>NaN</td>\n",
       "      <td>NaN</td>\n",
       "      <td>NaN</td>\n",
       "      <td>-0.455062</td>\n",
       "      <td>0.561463</td>\n",
       "      <td>0.465273</td>\n",
       "    </tr>\n",
       "    <tr>\n",
       "      <th>Days_since_release</th>\n",
       "      <td>-0.026348</td>\n",
       "      <td>1.000000</td>\n",
       "      <td>-0.605230</td>\n",
       "      <td>0.187773</td>\n",
       "      <td>-0.187773</td>\n",
       "      <td>0.117585</td>\n",
       "      <td>0.094275</td>\n",
       "      <td>-0.136959</td>\n",
       "      <td>0.055773</td>\n",
       "      <td>0.002343</td>\n",
       "      <td>...</td>\n",
       "      <td>NaN</td>\n",
       "      <td>NaN</td>\n",
       "      <td>NaN</td>\n",
       "      <td>NaN</td>\n",
       "      <td>NaN</td>\n",
       "      <td>NaN</td>\n",
       "      <td>NaN</td>\n",
       "      <td>0.048551</td>\n",
       "      <td>-0.010276</td>\n",
       "      <td>-0.028663</td>\n",
       "    </tr>\n",
       "    <tr>\n",
       "      <th>Released_after_2017</th>\n",
       "      <td>-0.002437</td>\n",
       "      <td>-0.605230</td>\n",
       "      <td>1.000000</td>\n",
       "      <td>-0.208048</td>\n",
       "      <td>0.208048</td>\n",
       "      <td>-0.107793</td>\n",
       "      <td>-0.108153</td>\n",
       "      <td>0.129905</td>\n",
       "      <td>-0.038029</td>\n",
       "      <td>-0.071016</td>\n",
       "      <td>...</td>\n",
       "      <td>NaN</td>\n",
       "      <td>NaN</td>\n",
       "      <td>NaN</td>\n",
       "      <td>NaN</td>\n",
       "      <td>NaN</td>\n",
       "      <td>NaN</td>\n",
       "      <td>NaN</td>\n",
       "      <td>-0.061411</td>\n",
       "      <td>0.025813</td>\n",
       "      <td>0.058381</td>\n",
       "    </tr>\n",
       "    <tr>\n",
       "      <th>Explicit_false</th>\n",
       "      <td>0.069128</td>\n",
       "      <td>0.187773</td>\n",
       "      <td>-0.208048</td>\n",
       "      <td>1.000000</td>\n",
       "      <td>-1.000000</td>\n",
       "      <td>-0.162188</td>\n",
       "      <td>0.057380</td>\n",
       "      <td>0.150982</td>\n",
       "      <td>0.018093</td>\n",
       "      <td>0.084214</td>\n",
       "      <td>...</td>\n",
       "      <td>NaN</td>\n",
       "      <td>NaN</td>\n",
       "      <td>NaN</td>\n",
       "      <td>NaN</td>\n",
       "      <td>NaN</td>\n",
       "      <td>NaN</td>\n",
       "      <td>NaN</td>\n",
       "      <td>-0.002749</td>\n",
       "      <td>-0.008640</td>\n",
       "      <td>0.003837</td>\n",
       "    </tr>\n",
       "    <tr>\n",
       "      <th>Explicit_true</th>\n",
       "      <td>-0.069128</td>\n",
       "      <td>-0.187773</td>\n",
       "      <td>0.208048</td>\n",
       "      <td>-1.000000</td>\n",
       "      <td>1.000000</td>\n",
       "      <td>0.162188</td>\n",
       "      <td>-0.057380</td>\n",
       "      <td>-0.150982</td>\n",
       "      <td>-0.018093</td>\n",
       "      <td>-0.084214</td>\n",
       "      <td>...</td>\n",
       "      <td>NaN</td>\n",
       "      <td>NaN</td>\n",
       "      <td>NaN</td>\n",
       "      <td>NaN</td>\n",
       "      <td>NaN</td>\n",
       "      <td>NaN</td>\n",
       "      <td>NaN</td>\n",
       "      <td>0.002749</td>\n",
       "      <td>0.008640</td>\n",
       "      <td>-0.003837</td>\n",
       "    </tr>\n",
       "    <tr>\n",
       "      <th>...</th>\n",
       "      <td>...</td>\n",
       "      <td>...</td>\n",
       "      <td>...</td>\n",
       "      <td>...</td>\n",
       "      <td>...</td>\n",
       "      <td>...</td>\n",
       "      <td>...</td>\n",
       "      <td>...</td>\n",
       "      <td>...</td>\n",
       "      <td>...</td>\n",
       "      <td>...</td>\n",
       "      <td>...</td>\n",
       "      <td>...</td>\n",
       "      <td>...</td>\n",
       "      <td>...</td>\n",
       "      <td>...</td>\n",
       "      <td>...</td>\n",
       "      <td>...</td>\n",
       "      <td>...</td>\n",
       "      <td>...</td>\n",
       "      <td>...</td>\n",
       "    </tr>\n",
       "    <tr>\n",
       "      <th>UK</th>\n",
       "      <td>NaN</td>\n",
       "      <td>NaN</td>\n",
       "      <td>NaN</td>\n",
       "      <td>NaN</td>\n",
       "      <td>NaN</td>\n",
       "      <td>NaN</td>\n",
       "      <td>NaN</td>\n",
       "      <td>NaN</td>\n",
       "      <td>NaN</td>\n",
       "      <td>NaN</td>\n",
       "      <td>...</td>\n",
       "      <td>NaN</td>\n",
       "      <td>NaN</td>\n",
       "      <td>NaN</td>\n",
       "      <td>NaN</td>\n",
       "      <td>NaN</td>\n",
       "      <td>NaN</td>\n",
       "      <td>NaN</td>\n",
       "      <td>NaN</td>\n",
       "      <td>NaN</td>\n",
       "      <td>NaN</td>\n",
       "    </tr>\n",
       "    <tr>\n",
       "      <th>USA</th>\n",
       "      <td>NaN</td>\n",
       "      <td>NaN</td>\n",
       "      <td>NaN</td>\n",
       "      <td>NaN</td>\n",
       "      <td>NaN</td>\n",
       "      <td>NaN</td>\n",
       "      <td>NaN</td>\n",
       "      <td>NaN</td>\n",
       "      <td>NaN</td>\n",
       "      <td>NaN</td>\n",
       "      <td>...</td>\n",
       "      <td>NaN</td>\n",
       "      <td>NaN</td>\n",
       "      <td>NaN</td>\n",
       "      <td>NaN</td>\n",
       "      <td>NaN</td>\n",
       "      <td>NaN</td>\n",
       "      <td>NaN</td>\n",
       "      <td>NaN</td>\n",
       "      <td>NaN</td>\n",
       "      <td>NaN</td>\n",
       "    </tr>\n",
       "    <tr>\n",
       "      <th>Popu_max</th>\n",
       "      <td>-0.455062</td>\n",
       "      <td>0.048551</td>\n",
       "      <td>-0.061411</td>\n",
       "      <td>-0.002749</td>\n",
       "      <td>0.002749</td>\n",
       "      <td>0.002404</td>\n",
       "      <td>0.016776</td>\n",
       "      <td>-0.005915</td>\n",
       "      <td>0.027106</td>\n",
       "      <td>0.035600</td>\n",
       "      <td>...</td>\n",
       "      <td>NaN</td>\n",
       "      <td>NaN</td>\n",
       "      <td>NaN</td>\n",
       "      <td>NaN</td>\n",
       "      <td>NaN</td>\n",
       "      <td>NaN</td>\n",
       "      <td>NaN</td>\n",
       "      <td>1.000000</td>\n",
       "      <td>-0.434910</td>\n",
       "      <td>-0.773244</td>\n",
       "    </tr>\n",
       "    <tr>\n",
       "      <th>Top10_dummy</th>\n",
       "      <td>0.561463</td>\n",
       "      <td>-0.010276</td>\n",
       "      <td>0.025813</td>\n",
       "      <td>-0.008640</td>\n",
       "      <td>0.008640</td>\n",
       "      <td>-0.031717</td>\n",
       "      <td>0.002554</td>\n",
       "      <td>0.031334</td>\n",
       "      <td>-0.005680</td>\n",
       "      <td>-0.015966</td>\n",
       "      <td>...</td>\n",
       "      <td>NaN</td>\n",
       "      <td>NaN</td>\n",
       "      <td>NaN</td>\n",
       "      <td>NaN</td>\n",
       "      <td>NaN</td>\n",
       "      <td>NaN</td>\n",
       "      <td>NaN</td>\n",
       "      <td>-0.434910</td>\n",
       "      <td>1.000000</td>\n",
       "      <td>0.448859</td>\n",
       "    </tr>\n",
       "    <tr>\n",
       "      <th>Top50_dummy</th>\n",
       "      <td>0.465273</td>\n",
       "      <td>-0.028663</td>\n",
       "      <td>0.058381</td>\n",
       "      <td>0.003837</td>\n",
       "      <td>-0.003837</td>\n",
       "      <td>-0.000868</td>\n",
       "      <td>-0.013069</td>\n",
       "      <td>0.003598</td>\n",
       "      <td>-0.012655</td>\n",
       "      <td>-0.029277</td>\n",
       "      <td>...</td>\n",
       "      <td>NaN</td>\n",
       "      <td>NaN</td>\n",
       "      <td>NaN</td>\n",
       "      <td>NaN</td>\n",
       "      <td>NaN</td>\n",
       "      <td>NaN</td>\n",
       "      <td>NaN</td>\n",
       "      <td>-0.773244</td>\n",
       "      <td>0.448859</td>\n",
       "      <td>1.000000</td>\n",
       "    </tr>\n",
       "  </tbody>\n",
       "</table>\n",
       "<p>123 rows × 123 columns</p>\n",
       "</div>"
      ],
      "text/plain": [
       "                     Popularity  Days_since_release  Released_after_2017  \\\n",
       "Popularity             1.000000           -0.026348            -0.002437   \n",
       "Days_since_release    -0.026348            1.000000            -0.605230   \n",
       "Released_after_2017   -0.002437           -0.605230             1.000000   \n",
       "Explicit_false         0.069128            0.187773            -0.208048   \n",
       "Explicit_true         -0.069128           -0.187773             0.208048   \n",
       "...                         ...                 ...                  ...   \n",
       "UK                          NaN                 NaN                  NaN   \n",
       "USA                         NaN                 NaN                  NaN   \n",
       "Popu_max              -0.455062            0.048551            -0.061411   \n",
       "Top10_dummy            0.561463           -0.010276             0.025813   \n",
       "Top50_dummy            0.465273           -0.028663             0.058381   \n",
       "\n",
       "                     Explicit_false  Explicit_true     album  compilation  \\\n",
       "Popularity                 0.069128      -0.069128 -0.074593    -0.014746   \n",
       "Days_since_release         0.187773      -0.187773  0.117585     0.094275   \n",
       "Released_after_2017       -0.208048       0.208048 -0.107793    -0.108153   \n",
       "Explicit_false             1.000000      -1.000000 -0.162188     0.057380   \n",
       "Explicit_true             -1.000000       1.000000  0.162188    -0.057380   \n",
       "...                             ...            ...       ...          ...   \n",
       "UK                              NaN            NaN       NaN          NaN   \n",
       "USA                             NaN            NaN       NaN          NaN   \n",
       "Popu_max                  -0.002749       0.002749  0.002404     0.016776   \n",
       "Top10_dummy               -0.008640       0.008640 -0.031717     0.002554   \n",
       "Top50_dummy                0.003837      -0.003837 -0.000868    -0.013069   \n",
       "\n",
       "                       single    bolero  boy band  ...  Spain  Sweden  \\\n",
       "Popularity           0.078021 -0.007502 -0.013956  ...    NaN     NaN   \n",
       "Days_since_release  -0.136959  0.055773  0.002343  ...    NaN     NaN   \n",
       "Released_after_2017  0.129905 -0.038029 -0.071016  ...    NaN     NaN   \n",
       "Explicit_false       0.150982  0.018093  0.084214  ...    NaN     NaN   \n",
       "Explicit_true       -0.150982 -0.018093 -0.084214  ...    NaN     NaN   \n",
       "...                       ...       ...       ...  ...    ...     ...   \n",
       "UK                        NaN       NaN       NaN  ...    NaN     NaN   \n",
       "USA                       NaN       NaN       NaN  ...    NaN     NaN   \n",
       "Popu_max            -0.005915  0.027106  0.035600  ...    NaN     NaN   \n",
       "Top10_dummy          0.031334 -0.005680 -0.015966  ...    NaN     NaN   \n",
       "Top50_dummy          0.003598 -0.012655 -0.029277  ...    NaN     NaN   \n",
       "\n",
       "                     Switzerland  Taiwan  Turkey  UK  USA  Popu_max  \\\n",
       "Popularity                   NaN     NaN     NaN NaN  NaN -0.455062   \n",
       "Days_since_release           NaN     NaN     NaN NaN  NaN  0.048551   \n",
       "Released_after_2017          NaN     NaN     NaN NaN  NaN -0.061411   \n",
       "Explicit_false               NaN     NaN     NaN NaN  NaN -0.002749   \n",
       "Explicit_true                NaN     NaN     NaN NaN  NaN  0.002749   \n",
       "...                          ...     ...     ...  ..  ...       ...   \n",
       "UK                           NaN     NaN     NaN NaN  NaN       NaN   \n",
       "USA                          NaN     NaN     NaN NaN  NaN       NaN   \n",
       "Popu_max                     NaN     NaN     NaN NaN  NaN  1.000000   \n",
       "Top10_dummy                  NaN     NaN     NaN NaN  NaN -0.434910   \n",
       "Top50_dummy                  NaN     NaN     NaN NaN  NaN -0.773244   \n",
       "\n",
       "                     Top10_dummy  Top50_dummy  \n",
       "Popularity              0.561463     0.465273  \n",
       "Days_since_release     -0.010276    -0.028663  \n",
       "Released_after_2017     0.025813     0.058381  \n",
       "Explicit_false         -0.008640     0.003837  \n",
       "Explicit_true           0.008640    -0.003837  \n",
       "...                          ...          ...  \n",
       "UK                           NaN          NaN  \n",
       "USA                          NaN          NaN  \n",
       "Popu_max               -0.434910    -0.773244  \n",
       "Top10_dummy             1.000000     0.448859  \n",
       "Top50_dummy             0.448859     1.000000  \n",
       "\n",
       "[123 rows x 123 columns]"
      ]
     },
     "execution_count": 12,
     "metadata": {},
     "output_type": "execute_result"
    }
   ],
   "source": [
    "global_only_correlation = global_only.corr()\n",
    "global_only_correlation"
   ]
  },
  {
   "cell_type": "markdown",
   "id": "008b3a79",
   "metadata": {},
   "source": [
    "### Największa popularność ogółem (korelacja), na przestrzeni lat 2017-2020 ze względu na:\n",
    "#### 1. gatunek;\n",
    "#### 2. energię;\n",
    "#### 3. instrumentalność;\n",
    "#### 4. taneczność, skoczność;\n",
    "#### 5. głośność;\n",
    "#### 6. wymowność (obecność słów mówionych w utworze);\n",
    "#### 7. zabarwienie emocjonalne (pozytywne/negatywne uczucia)."
   ]
  },
  {
   "cell_type": "markdown",
   "id": "3ca24380",
   "metadata": {},
   "source": [
    "##### Współczynnik korelacji Pearsona"
   ]
  },
  {
   "cell_type": "code",
   "execution_count": 37,
   "id": "88c7a84d",
   "metadata": {},
   "outputs": [
    {
     "data": {
      "text/html": [
       "<div>\n",
       "<style scoped>\n",
       "    .dataframe tbody tr th:only-of-type {\n",
       "        vertical-align: middle;\n",
       "    }\n",
       "\n",
       "    .dataframe tbody tr th {\n",
       "        vertical-align: top;\n",
       "    }\n",
       "\n",
       "    .dataframe thead th {\n",
       "        text-align: right;\n",
       "    }\n",
       "</style>\n",
       "<table border=\"1\" class=\"dataframe\">\n",
       "  <thead>\n",
       "    <tr style=\"text-align: right;\">\n",
       "      <th></th>\n",
       "      <th>Popularity</th>\n",
       "      <th>danceability</th>\n",
       "      <th>energy</th>\n",
       "      <th>loudness</th>\n",
       "      <th>mode</th>\n",
       "      <th>speechiness</th>\n",
       "      <th>acoustics</th>\n",
       "      <th>instrumentalness</th>\n",
       "      <th>liveliness</th>\n",
       "      <th>valence</th>\n",
       "      <th>tempo</th>\n",
       "    </tr>\n",
       "  </thead>\n",
       "  <tbody>\n",
       "    <tr>\n",
       "      <th>Popularity</th>\n",
       "      <td>1.000000</td>\n",
       "      <td>0.069354</td>\n",
       "      <td>0.000946</td>\n",
       "      <td>0.068350</td>\n",
       "      <td>-0.006227</td>\n",
       "      <td>-0.062338</td>\n",
       "      <td>0.000363</td>\n",
       "      <td>-0.025681</td>\n",
       "      <td>-0.046611</td>\n",
       "      <td>0.044902</td>\n",
       "      <td>-0.039199</td>\n",
       "    </tr>\n",
       "    <tr>\n",
       "      <th>danceability</th>\n",
       "      <td>0.069354</td>\n",
       "      <td>1.000000</td>\n",
       "      <td>0.091156</td>\n",
       "      <td>0.189363</td>\n",
       "      <td>-0.067126</td>\n",
       "      <td>0.200218</td>\n",
       "      <td>-0.252489</td>\n",
       "      <td>-0.111164</td>\n",
       "      <td>-0.096369</td>\n",
       "      <td>0.305143</td>\n",
       "      <td>0.001918</td>\n",
       "    </tr>\n",
       "    <tr>\n",
       "      <th>energy</th>\n",
       "      <td>0.000946</td>\n",
       "      <td>0.091156</td>\n",
       "      <td>1.000000</td>\n",
       "      <td>0.736291</td>\n",
       "      <td>-0.046311</td>\n",
       "      <td>-0.009890</td>\n",
       "      <td>-0.519026</td>\n",
       "      <td>-0.061101</td>\n",
       "      <td>0.141708</td>\n",
       "      <td>0.363507</td>\n",
       "      <td>0.112452</td>\n",
       "    </tr>\n",
       "    <tr>\n",
       "      <th>loudness</th>\n",
       "      <td>0.068350</td>\n",
       "      <td>0.189363</td>\n",
       "      <td>0.736291</td>\n",
       "      <td>1.000000</td>\n",
       "      <td>-0.027407</td>\n",
       "      <td>-0.074865</td>\n",
       "      <td>-0.455919</td>\n",
       "      <td>-0.159047</td>\n",
       "      <td>0.052431</td>\n",
       "      <td>0.285057</td>\n",
       "      <td>0.096538</td>\n",
       "    </tr>\n",
       "    <tr>\n",
       "      <th>mode</th>\n",
       "      <td>-0.006227</td>\n",
       "      <td>-0.067126</td>\n",
       "      <td>-0.046311</td>\n",
       "      <td>-0.027407</td>\n",
       "      <td>1.000000</td>\n",
       "      <td>-0.053317</td>\n",
       "      <td>0.010292</td>\n",
       "      <td>-0.014477</td>\n",
       "      <td>0.000231</td>\n",
       "      <td>-0.030276</td>\n",
       "      <td>0.024767</td>\n",
       "    </tr>\n",
       "    <tr>\n",
       "      <th>speechiness</th>\n",
       "      <td>-0.062338</td>\n",
       "      <td>0.200218</td>\n",
       "      <td>-0.009890</td>\n",
       "      <td>-0.074865</td>\n",
       "      <td>-0.053317</td>\n",
       "      <td>1.000000</td>\n",
       "      <td>-0.059903</td>\n",
       "      <td>-0.066597</td>\n",
       "      <td>0.067694</td>\n",
       "      <td>0.032736</td>\n",
       "      <td>0.139907</td>\n",
       "    </tr>\n",
       "    <tr>\n",
       "      <th>acoustics</th>\n",
       "      <td>0.000363</td>\n",
       "      <td>-0.252489</td>\n",
       "      <td>-0.519026</td>\n",
       "      <td>-0.455919</td>\n",
       "      <td>0.010292</td>\n",
       "      <td>-0.059903</td>\n",
       "      <td>1.000000</td>\n",
       "      <td>0.061901</td>\n",
       "      <td>-0.051709</td>\n",
       "      <td>-0.081778</td>\n",
       "      <td>-0.101143</td>\n",
       "    </tr>\n",
       "    <tr>\n",
       "      <th>instrumentalness</th>\n",
       "      <td>-0.025681</td>\n",
       "      <td>-0.111164</td>\n",
       "      <td>-0.061101</td>\n",
       "      <td>-0.159047</td>\n",
       "      <td>-0.014477</td>\n",
       "      <td>-0.066597</td>\n",
       "      <td>0.061901</td>\n",
       "      <td>1.000000</td>\n",
       "      <td>-0.005662</td>\n",
       "      <td>-0.092466</td>\n",
       "      <td>-0.014961</td>\n",
       "    </tr>\n",
       "    <tr>\n",
       "      <th>liveliness</th>\n",
       "      <td>-0.046611</td>\n",
       "      <td>-0.096369</td>\n",
       "      <td>0.141708</td>\n",
       "      <td>0.052431</td>\n",
       "      <td>0.000231</td>\n",
       "      <td>0.067694</td>\n",
       "      <td>-0.051709</td>\n",
       "      <td>-0.005662</td>\n",
       "      <td>1.000000</td>\n",
       "      <td>0.036282</td>\n",
       "      <td>-0.005530</td>\n",
       "    </tr>\n",
       "    <tr>\n",
       "      <th>valence</th>\n",
       "      <td>0.044902</td>\n",
       "      <td>0.305143</td>\n",
       "      <td>0.363507</td>\n",
       "      <td>0.285057</td>\n",
       "      <td>-0.030276</td>\n",
       "      <td>0.032736</td>\n",
       "      <td>-0.081778</td>\n",
       "      <td>-0.092466</td>\n",
       "      <td>0.036282</td>\n",
       "      <td>1.000000</td>\n",
       "      <td>0.048551</td>\n",
       "    </tr>\n",
       "    <tr>\n",
       "      <th>tempo</th>\n",
       "      <td>-0.039199</td>\n",
       "      <td>0.001918</td>\n",
       "      <td>0.112452</td>\n",
       "      <td>0.096538</td>\n",
       "      <td>0.024767</td>\n",
       "      <td>0.139907</td>\n",
       "      <td>-0.101143</td>\n",
       "      <td>-0.014961</td>\n",
       "      <td>-0.005530</td>\n",
       "      <td>0.048551</td>\n",
       "      <td>1.000000</td>\n",
       "    </tr>\n",
       "  </tbody>\n",
       "</table>\n",
       "</div>"
      ],
      "text/plain": [
       "                  Popularity  danceability    energy  loudness      mode  \\\n",
       "Popularity          1.000000      0.069354  0.000946  0.068350 -0.006227   \n",
       "danceability        0.069354      1.000000  0.091156  0.189363 -0.067126   \n",
       "energy              0.000946      0.091156  1.000000  0.736291 -0.046311   \n",
       "loudness            0.068350      0.189363  0.736291  1.000000 -0.027407   \n",
       "mode               -0.006227     -0.067126 -0.046311 -0.027407  1.000000   \n",
       "speechiness        -0.062338      0.200218 -0.009890 -0.074865 -0.053317   \n",
       "acoustics           0.000363     -0.252489 -0.519026 -0.455919  0.010292   \n",
       "instrumentalness   -0.025681     -0.111164 -0.061101 -0.159047 -0.014477   \n",
       "liveliness         -0.046611     -0.096369  0.141708  0.052431  0.000231   \n",
       "valence             0.044902      0.305143  0.363507  0.285057 -0.030276   \n",
       "tempo              -0.039199      0.001918  0.112452  0.096538  0.024767   \n",
       "\n",
       "                  speechiness  acoustics  instrumentalness  liveliness  \\\n",
       "Popularity          -0.062338   0.000363         -0.025681   -0.046611   \n",
       "danceability         0.200218  -0.252489         -0.111164   -0.096369   \n",
       "energy              -0.009890  -0.519026         -0.061101    0.141708   \n",
       "loudness            -0.074865  -0.455919         -0.159047    0.052431   \n",
       "mode                -0.053317   0.010292         -0.014477    0.000231   \n",
       "speechiness          1.000000  -0.059903         -0.066597    0.067694   \n",
       "acoustics           -0.059903   1.000000          0.061901   -0.051709   \n",
       "instrumentalness    -0.066597   0.061901          1.000000   -0.005662   \n",
       "liveliness           0.067694  -0.051709         -0.005662    1.000000   \n",
       "valence              0.032736  -0.081778         -0.092466    0.036282   \n",
       "tempo                0.139907  -0.101143         -0.014961   -0.005530   \n",
       "\n",
       "                   valence     tempo  \n",
       "Popularity        0.044902 -0.039199  \n",
       "danceability      0.305143  0.001918  \n",
       "energy            0.363507  0.112452  \n",
       "loudness          0.285057  0.096538  \n",
       "mode             -0.030276  0.024767  \n",
       "speechiness       0.032736  0.139907  \n",
       "acoustics        -0.081778 -0.101143  \n",
       "instrumentalness -0.092466 -0.014961  \n",
       "liveliness        0.036282 -0.005530  \n",
       "valence           1.000000  0.048551  \n",
       "tempo             0.048551  1.000000  "
      ]
     },
     "execution_count": 37,
     "metadata": {},
     "output_type": "execute_result"
    }
   ],
   "source": [
    "spotify_correlation = global_only[['Popularity', 'danceability', 'energy', 'loudness', 'mode', 'speechiness', 'acoustics', 'instrumentalness', 'liveliness', 'valence', 'tempo']]\n",
    "spotify_correlation_pearson = spotify_correlation.corr(method='pearson', numeric_only=False)\n",
    "spotify_correlation_pearson"
   ]
  },
  {
   "cell_type": "code",
   "execution_count": 42,
   "id": "ecc9142f",
   "metadata": {},
   "outputs": [
    {
     "data": {
      "application/vnd.plotly.v1+json": {
       "config": {
        "plotlyServerURL": "https://plot.ly"
       },
       "data": [
        {
         "coloraxis": "coloraxis",
         "hovertemplate": "x: %{x}<br>y: %{y}<br>color: %{z}<extra></extra>",
         "name": "0",
         "type": "heatmap",
         "x": [
          "Popularity",
          "danceability",
          "energy",
          "loudness",
          "mode",
          "speechiness",
          "acoustics",
          "instrumentalness",
          "liveliness",
          "valence",
          "tempo"
         ],
         "xaxis": "x",
         "y": [
          "Popularity",
          "danceability",
          "energy",
          "loudness",
          "mode",
          "speechiness",
          "acoustics",
          "instrumentalness",
          "liveliness",
          "valence",
          "tempo"
         ],
         "yaxis": "y",
         "z": [
          [
           1,
           0.06935432912961546,
           0.0009462242830210109,
           0.06834983418311284,
           -0.006227298443868655,
           -0.062338288594286875,
           0.00036336751597690776,
           -0.02568138121312278,
           -0.04661110323073545,
           0.044901578777170874,
           -0.03919875259678458
          ],
          [
           0.06935432912961546,
           1,
           0.09115564404463525,
           0.18936276836386282,
           -0.06712562598667686,
           0.2002178468829642,
           -0.2524886624406539,
           -0.11116391717146513,
           -0.09636899372929017,
           0.3051429101390078,
           0.0019179377430110613
          ],
          [
           0.0009462242830210109,
           0.09115564404463525,
           1,
           0.7362908615001993,
           -0.046311464281765476,
           -0.009890349705235845,
           -0.5190257662690372,
           -0.06110140494748842,
           0.14170760396651316,
           0.3635068765418575,
           0.1124516876983506
          ],
          [
           0.06834983418311284,
           0.18936276836386282,
           0.7362908615001993,
           1,
           -0.027406718974531036,
           -0.07486531310310286,
           -0.45591887713178825,
           -0.1590465492562482,
           0.05243116041220496,
           0.2850570257262261,
           0.0965380714502532
          ],
          [
           -0.006227298443868655,
           -0.06712562598667686,
           -0.046311464281765476,
           -0.027406718974531036,
           1,
           -0.053316953715921975,
           0.010292098022987422,
           -0.014476706504771883,
           0.00023132864040489414,
           -0.030276104127201848,
           0.02476704299054737
          ],
          [
           -0.062338288594286875,
           0.2002178468829642,
           -0.009890349705235845,
           -0.07486531310310286,
           -0.053316953715921975,
           1,
           -0.059903218627653826,
           -0.0665974040427018,
           0.06769375979202592,
           0.03273565317949628,
           0.13990662282231983
          ],
          [
           0.00036336751597690776,
           -0.2524886624406539,
           -0.5190257662690372,
           -0.45591887713178825,
           0.010292098022987422,
           -0.059903218627653826,
           1,
           0.06190102113507931,
           -0.05170948142389463,
           -0.08177807244607613,
           -0.1011432598666312
          ],
          [
           -0.02568138121312278,
           -0.11116391717146513,
           -0.06110140494748842,
           -0.1590465492562482,
           -0.014476706504771883,
           -0.0665974040427018,
           0.06190102113507931,
           1,
           -0.005661950558698165,
           -0.09246582035817734,
           -0.014961139789631574
          ],
          [
           -0.04661110323073545,
           -0.09636899372929017,
           0.14170760396651316,
           0.05243116041220496,
           0.00023132864040489414,
           0.06769375979202592,
           -0.05170948142389463,
           -0.005661950558698165,
           1,
           0.03628204799713365,
           -0.0055296952716945205
          ],
          [
           0.044901578777170874,
           0.3051429101390078,
           0.3635068765418575,
           0.2850570257262261,
           -0.030276104127201848,
           0.03273565317949628,
           -0.08177807244607613,
           -0.09246582035817734,
           0.03628204799713365,
           1,
           0.04855101770428814
          ],
          [
           -0.03919875259678458,
           0.0019179377430110613,
           0.1124516876983506,
           0.0965380714502532,
           0.02476704299054737,
           0.13990662282231983,
           -0.1011432598666312,
           -0.014961139789631574,
           -0.0055296952716945205,
           0.04855101770428814,
           1
          ]
         ]
        }
       ],
       "layout": {
        "coloraxis": {
         "colorscale": [
          [
           0,
           "rgb(5,48,97)"
          ],
          [
           0.1,
           "rgb(33,102,172)"
          ],
          [
           0.2,
           "rgb(67,147,195)"
          ],
          [
           0.3,
           "rgb(146,197,222)"
          ],
          [
           0.4,
           "rgb(209,229,240)"
          ],
          [
           0.5,
           "rgb(247,247,247)"
          ],
          [
           0.6,
           "rgb(253,219,199)"
          ],
          [
           0.7,
           "rgb(244,165,130)"
          ],
          [
           0.8,
           "rgb(214,96,77)"
          ],
          [
           0.9,
           "rgb(178,24,43)"
          ],
          [
           1,
           "rgb(103,0,31)"
          ]
         ]
        },
        "margin": {
         "t": 60
        },
        "template": {
         "data": {
          "bar": [
           {
            "error_x": {
             "color": "#2a3f5f"
            },
            "error_y": {
             "color": "#2a3f5f"
            },
            "marker": {
             "line": {
              "color": "#E5ECF6",
              "width": 0.5
             },
             "pattern": {
              "fillmode": "overlay",
              "size": 10,
              "solidity": 0.2
             }
            },
            "type": "bar"
           }
          ],
          "barpolar": [
           {
            "marker": {
             "line": {
              "color": "#E5ECF6",
              "width": 0.5
             },
             "pattern": {
              "fillmode": "overlay",
              "size": 10,
              "solidity": 0.2
             }
            },
            "type": "barpolar"
           }
          ],
          "carpet": [
           {
            "aaxis": {
             "endlinecolor": "#2a3f5f",
             "gridcolor": "white",
             "linecolor": "white",
             "minorgridcolor": "white",
             "startlinecolor": "#2a3f5f"
            },
            "baxis": {
             "endlinecolor": "#2a3f5f",
             "gridcolor": "white",
             "linecolor": "white",
             "minorgridcolor": "white",
             "startlinecolor": "#2a3f5f"
            },
            "type": "carpet"
           }
          ],
          "choropleth": [
           {
            "colorbar": {
             "outlinewidth": 0,
             "ticks": ""
            },
            "type": "choropleth"
           }
          ],
          "contour": [
           {
            "colorbar": {
             "outlinewidth": 0,
             "ticks": ""
            },
            "colorscale": [
             [
              0,
              "#0d0887"
             ],
             [
              0.1111111111111111,
              "#46039f"
             ],
             [
              0.2222222222222222,
              "#7201a8"
             ],
             [
              0.3333333333333333,
              "#9c179e"
             ],
             [
              0.4444444444444444,
              "#bd3786"
             ],
             [
              0.5555555555555556,
              "#d8576b"
             ],
             [
              0.6666666666666666,
              "#ed7953"
             ],
             [
              0.7777777777777778,
              "#fb9f3a"
             ],
             [
              0.8888888888888888,
              "#fdca26"
             ],
             [
              1,
              "#f0f921"
             ]
            ],
            "type": "contour"
           }
          ],
          "contourcarpet": [
           {
            "colorbar": {
             "outlinewidth": 0,
             "ticks": ""
            },
            "type": "contourcarpet"
           }
          ],
          "heatmap": [
           {
            "colorbar": {
             "outlinewidth": 0,
             "ticks": ""
            },
            "colorscale": [
             [
              0,
              "#0d0887"
             ],
             [
              0.1111111111111111,
              "#46039f"
             ],
             [
              0.2222222222222222,
              "#7201a8"
             ],
             [
              0.3333333333333333,
              "#9c179e"
             ],
             [
              0.4444444444444444,
              "#bd3786"
             ],
             [
              0.5555555555555556,
              "#d8576b"
             ],
             [
              0.6666666666666666,
              "#ed7953"
             ],
             [
              0.7777777777777778,
              "#fb9f3a"
             ],
             [
              0.8888888888888888,
              "#fdca26"
             ],
             [
              1,
              "#f0f921"
             ]
            ],
            "type": "heatmap"
           }
          ],
          "heatmapgl": [
           {
            "colorbar": {
             "outlinewidth": 0,
             "ticks": ""
            },
            "colorscale": [
             [
              0,
              "#0d0887"
             ],
             [
              0.1111111111111111,
              "#46039f"
             ],
             [
              0.2222222222222222,
              "#7201a8"
             ],
             [
              0.3333333333333333,
              "#9c179e"
             ],
             [
              0.4444444444444444,
              "#bd3786"
             ],
             [
              0.5555555555555556,
              "#d8576b"
             ],
             [
              0.6666666666666666,
              "#ed7953"
             ],
             [
              0.7777777777777778,
              "#fb9f3a"
             ],
             [
              0.8888888888888888,
              "#fdca26"
             ],
             [
              1,
              "#f0f921"
             ]
            ],
            "type": "heatmapgl"
           }
          ],
          "histogram": [
           {
            "marker": {
             "pattern": {
              "fillmode": "overlay",
              "size": 10,
              "solidity": 0.2
             }
            },
            "type": "histogram"
           }
          ],
          "histogram2d": [
           {
            "colorbar": {
             "outlinewidth": 0,
             "ticks": ""
            },
            "colorscale": [
             [
              0,
              "#0d0887"
             ],
             [
              0.1111111111111111,
              "#46039f"
             ],
             [
              0.2222222222222222,
              "#7201a8"
             ],
             [
              0.3333333333333333,
              "#9c179e"
             ],
             [
              0.4444444444444444,
              "#bd3786"
             ],
             [
              0.5555555555555556,
              "#d8576b"
             ],
             [
              0.6666666666666666,
              "#ed7953"
             ],
             [
              0.7777777777777778,
              "#fb9f3a"
             ],
             [
              0.8888888888888888,
              "#fdca26"
             ],
             [
              1,
              "#f0f921"
             ]
            ],
            "type": "histogram2d"
           }
          ],
          "histogram2dcontour": [
           {
            "colorbar": {
             "outlinewidth": 0,
             "ticks": ""
            },
            "colorscale": [
             [
              0,
              "#0d0887"
             ],
             [
              0.1111111111111111,
              "#46039f"
             ],
             [
              0.2222222222222222,
              "#7201a8"
             ],
             [
              0.3333333333333333,
              "#9c179e"
             ],
             [
              0.4444444444444444,
              "#bd3786"
             ],
             [
              0.5555555555555556,
              "#d8576b"
             ],
             [
              0.6666666666666666,
              "#ed7953"
             ],
             [
              0.7777777777777778,
              "#fb9f3a"
             ],
             [
              0.8888888888888888,
              "#fdca26"
             ],
             [
              1,
              "#f0f921"
             ]
            ],
            "type": "histogram2dcontour"
           }
          ],
          "mesh3d": [
           {
            "colorbar": {
             "outlinewidth": 0,
             "ticks": ""
            },
            "type": "mesh3d"
           }
          ],
          "parcoords": [
           {
            "line": {
             "colorbar": {
              "outlinewidth": 0,
              "ticks": ""
             }
            },
            "type": "parcoords"
           }
          ],
          "pie": [
           {
            "automargin": true,
            "type": "pie"
           }
          ],
          "scatter": [
           {
            "fillpattern": {
             "fillmode": "overlay",
             "size": 10,
             "solidity": 0.2
            },
            "type": "scatter"
           }
          ],
          "scatter3d": [
           {
            "line": {
             "colorbar": {
              "outlinewidth": 0,
              "ticks": ""
             }
            },
            "marker": {
             "colorbar": {
              "outlinewidth": 0,
              "ticks": ""
             }
            },
            "type": "scatter3d"
           }
          ],
          "scattercarpet": [
           {
            "marker": {
             "colorbar": {
              "outlinewidth": 0,
              "ticks": ""
             }
            },
            "type": "scattercarpet"
           }
          ],
          "scattergeo": [
           {
            "marker": {
             "colorbar": {
              "outlinewidth": 0,
              "ticks": ""
             }
            },
            "type": "scattergeo"
           }
          ],
          "scattergl": [
           {
            "marker": {
             "colorbar": {
              "outlinewidth": 0,
              "ticks": ""
             }
            },
            "type": "scattergl"
           }
          ],
          "scattermapbox": [
           {
            "marker": {
             "colorbar": {
              "outlinewidth": 0,
              "ticks": ""
             }
            },
            "type": "scattermapbox"
           }
          ],
          "scatterpolar": [
           {
            "marker": {
             "colorbar": {
              "outlinewidth": 0,
              "ticks": ""
             }
            },
            "type": "scatterpolar"
           }
          ],
          "scatterpolargl": [
           {
            "marker": {
             "colorbar": {
              "outlinewidth": 0,
              "ticks": ""
             }
            },
            "type": "scatterpolargl"
           }
          ],
          "scatterternary": [
           {
            "marker": {
             "colorbar": {
              "outlinewidth": 0,
              "ticks": ""
             }
            },
            "type": "scatterternary"
           }
          ],
          "surface": [
           {
            "colorbar": {
             "outlinewidth": 0,
             "ticks": ""
            },
            "colorscale": [
             [
              0,
              "#0d0887"
             ],
             [
              0.1111111111111111,
              "#46039f"
             ],
             [
              0.2222222222222222,
              "#7201a8"
             ],
             [
              0.3333333333333333,
              "#9c179e"
             ],
             [
              0.4444444444444444,
              "#bd3786"
             ],
             [
              0.5555555555555556,
              "#d8576b"
             ],
             [
              0.6666666666666666,
              "#ed7953"
             ],
             [
              0.7777777777777778,
              "#fb9f3a"
             ],
             [
              0.8888888888888888,
              "#fdca26"
             ],
             [
              1,
              "#f0f921"
             ]
            ],
            "type": "surface"
           }
          ],
          "table": [
           {
            "cells": {
             "fill": {
              "color": "#EBF0F8"
             },
             "line": {
              "color": "white"
             }
            },
            "header": {
             "fill": {
              "color": "#C8D4E3"
             },
             "line": {
              "color": "white"
             }
            },
            "type": "table"
           }
          ]
         },
         "layout": {
          "annotationdefaults": {
           "arrowcolor": "#2a3f5f",
           "arrowhead": 0,
           "arrowwidth": 1
          },
          "autotypenumbers": "strict",
          "coloraxis": {
           "colorbar": {
            "outlinewidth": 0,
            "ticks": ""
           }
          },
          "colorscale": {
           "diverging": [
            [
             0,
             "#8e0152"
            ],
            [
             0.1,
             "#c51b7d"
            ],
            [
             0.2,
             "#de77ae"
            ],
            [
             0.3,
             "#f1b6da"
            ],
            [
             0.4,
             "#fde0ef"
            ],
            [
             0.5,
             "#f7f7f7"
            ],
            [
             0.6,
             "#e6f5d0"
            ],
            [
             0.7,
             "#b8e186"
            ],
            [
             0.8,
             "#7fbc41"
            ],
            [
             0.9,
             "#4d9221"
            ],
            [
             1,
             "#276419"
            ]
           ],
           "sequential": [
            [
             0,
             "#0d0887"
            ],
            [
             0.1111111111111111,
             "#46039f"
            ],
            [
             0.2222222222222222,
             "#7201a8"
            ],
            [
             0.3333333333333333,
             "#9c179e"
            ],
            [
             0.4444444444444444,
             "#bd3786"
            ],
            [
             0.5555555555555556,
             "#d8576b"
            ],
            [
             0.6666666666666666,
             "#ed7953"
            ],
            [
             0.7777777777777778,
             "#fb9f3a"
            ],
            [
             0.8888888888888888,
             "#fdca26"
            ],
            [
             1,
             "#f0f921"
            ]
           ],
           "sequentialminus": [
            [
             0,
             "#0d0887"
            ],
            [
             0.1111111111111111,
             "#46039f"
            ],
            [
             0.2222222222222222,
             "#7201a8"
            ],
            [
             0.3333333333333333,
             "#9c179e"
            ],
            [
             0.4444444444444444,
             "#bd3786"
            ],
            [
             0.5555555555555556,
             "#d8576b"
            ],
            [
             0.6666666666666666,
             "#ed7953"
            ],
            [
             0.7777777777777778,
             "#fb9f3a"
            ],
            [
             0.8888888888888888,
             "#fdca26"
            ],
            [
             1,
             "#f0f921"
            ]
           ]
          },
          "colorway": [
           "#636efa",
           "#EF553B",
           "#00cc96",
           "#ab63fa",
           "#FFA15A",
           "#19d3f3",
           "#FF6692",
           "#B6E880",
           "#FF97FF",
           "#FECB52"
          ],
          "font": {
           "color": "#2a3f5f"
          },
          "geo": {
           "bgcolor": "white",
           "lakecolor": "white",
           "landcolor": "#E5ECF6",
           "showlakes": true,
           "showland": true,
           "subunitcolor": "white"
          },
          "hoverlabel": {
           "align": "left"
          },
          "hovermode": "closest",
          "mapbox": {
           "style": "light"
          },
          "paper_bgcolor": "white",
          "plot_bgcolor": "#E5ECF6",
          "polar": {
           "angularaxis": {
            "gridcolor": "white",
            "linecolor": "white",
            "ticks": ""
           },
           "bgcolor": "#E5ECF6",
           "radialaxis": {
            "gridcolor": "white",
            "linecolor": "white",
            "ticks": ""
           }
          },
          "scene": {
           "xaxis": {
            "backgroundcolor": "#E5ECF6",
            "gridcolor": "white",
            "gridwidth": 2,
            "linecolor": "white",
            "showbackground": true,
            "ticks": "",
            "zerolinecolor": "white"
           },
           "yaxis": {
            "backgroundcolor": "#E5ECF6",
            "gridcolor": "white",
            "gridwidth": 2,
            "linecolor": "white",
            "showbackground": true,
            "ticks": "",
            "zerolinecolor": "white"
           },
           "zaxis": {
            "backgroundcolor": "#E5ECF6",
            "gridcolor": "white",
            "gridwidth": 2,
            "linecolor": "white",
            "showbackground": true,
            "ticks": "",
            "zerolinecolor": "white"
           }
          },
          "shapedefaults": {
           "line": {
            "color": "#2a3f5f"
           }
          },
          "ternary": {
           "aaxis": {
            "gridcolor": "white",
            "linecolor": "white",
            "ticks": ""
           },
           "baxis": {
            "gridcolor": "white",
            "linecolor": "white",
            "ticks": ""
           },
           "bgcolor": "#E5ECF6",
           "caxis": {
            "gridcolor": "white",
            "linecolor": "white",
            "ticks": ""
           }
          },
          "title": {
           "x": 0.05
          },
          "xaxis": {
           "automargin": true,
           "gridcolor": "white",
           "linecolor": "white",
           "ticks": "",
           "title": {
            "standoff": 15
           },
           "zerolinecolor": "white",
           "zerolinewidth": 2
          },
          "yaxis": {
           "automargin": true,
           "gridcolor": "white",
           "linecolor": "white",
           "ticks": "",
           "title": {
            "standoff": 15
           },
           "zerolinecolor": "white",
           "zerolinewidth": 2
          }
         }
        },
        "xaxis": {
         "anchor": "y",
         "constrain": "domain",
         "domain": [
          0,
          1
         ],
         "scaleanchor": "y"
        },
        "yaxis": {
         "anchor": "x",
         "autorange": "reversed",
         "constrain": "domain",
         "domain": [
          0,
          1
         ]
        }
       }
      },
      "text/html": [
       "<div>                            <div id=\"830d5670-0b51-4e09-acd1-3985fd90de19\" class=\"plotly-graph-div\" style=\"height:525px; width:100%;\"></div>            <script type=\"text/javascript\">                require([\"plotly\"], function(Plotly) {                    window.PLOTLYENV=window.PLOTLYENV || {};                                    if (document.getElementById(\"830d5670-0b51-4e09-acd1-3985fd90de19\")) {                    Plotly.newPlot(                        \"830d5670-0b51-4e09-acd1-3985fd90de19\",                        [{\"coloraxis\":\"coloraxis\",\"name\":\"0\",\"x\":[\"Popularity\",\"danceability\",\"energy\",\"loudness\",\"mode\",\"speechiness\",\"acoustics\",\"instrumentalness\",\"liveliness\",\"valence\",\"tempo\"],\"y\":[\"Popularity\",\"danceability\",\"energy\",\"loudness\",\"mode\",\"speechiness\",\"acoustics\",\"instrumentalness\",\"liveliness\",\"valence\",\"tempo\"],\"z\":[[1.0,0.06935432912961546,0.0009462242830210109,0.06834983418311284,-0.006227298443868655,-0.062338288594286875,0.00036336751597690776,-0.02568138121312278,-0.04661110323073545,0.044901578777170874,-0.03919875259678458],[0.06935432912961546,1.0,0.09115564404463525,0.18936276836386282,-0.06712562598667686,0.2002178468829642,-0.2524886624406539,-0.11116391717146513,-0.09636899372929017,0.3051429101390078,0.0019179377430110613],[0.0009462242830210109,0.09115564404463525,1.0,0.7362908615001993,-0.046311464281765476,-0.009890349705235845,-0.5190257662690372,-0.06110140494748842,0.14170760396651316,0.3635068765418575,0.1124516876983506],[0.06834983418311284,0.18936276836386282,0.7362908615001993,1.0,-0.027406718974531036,-0.07486531310310286,-0.45591887713178825,-0.1590465492562482,0.05243116041220496,0.2850570257262261,0.0965380714502532],[-0.006227298443868655,-0.06712562598667686,-0.046311464281765476,-0.027406718974531036,1.0,-0.053316953715921975,0.010292098022987422,-0.014476706504771883,0.00023132864040489414,-0.030276104127201848,0.02476704299054737],[-0.062338288594286875,0.2002178468829642,-0.009890349705235845,-0.07486531310310286,-0.053316953715921975,1.0,-0.059903218627653826,-0.0665974040427018,0.06769375979202592,0.03273565317949628,0.13990662282231983],[0.00036336751597690776,-0.2524886624406539,-0.5190257662690372,-0.45591887713178825,0.010292098022987422,-0.059903218627653826,1.0,0.06190102113507931,-0.05170948142389463,-0.08177807244607613,-0.1011432598666312],[-0.02568138121312278,-0.11116391717146513,-0.06110140494748842,-0.1590465492562482,-0.014476706504771883,-0.0665974040427018,0.06190102113507931,1.0,-0.005661950558698165,-0.09246582035817734,-0.014961139789631574],[-0.04661110323073545,-0.09636899372929017,0.14170760396651316,0.05243116041220496,0.00023132864040489414,0.06769375979202592,-0.05170948142389463,-0.005661950558698165,1.0,0.03628204799713365,-0.0055296952716945205],[0.044901578777170874,0.3051429101390078,0.3635068765418575,0.2850570257262261,-0.030276104127201848,0.03273565317949628,-0.08177807244607613,-0.09246582035817734,0.03628204799713365,1.0,0.04855101770428814],[-0.03919875259678458,0.0019179377430110613,0.1124516876983506,0.0965380714502532,0.02476704299054737,0.13990662282231983,-0.1011432598666312,-0.014961139789631574,-0.0055296952716945205,0.04855101770428814,1.0]],\"type\":\"heatmap\",\"xaxis\":\"x\",\"yaxis\":\"y\",\"hovertemplate\":\"x: %{x}<br>y: %{y}<br>color: %{z}<extra></extra>\"}],                        {\"template\":{\"data\":{\"histogram2dcontour\":[{\"type\":\"histogram2dcontour\",\"colorbar\":{\"outlinewidth\":0,\"ticks\":\"\"},\"colorscale\":[[0.0,\"#0d0887\"],[0.1111111111111111,\"#46039f\"],[0.2222222222222222,\"#7201a8\"],[0.3333333333333333,\"#9c179e\"],[0.4444444444444444,\"#bd3786\"],[0.5555555555555556,\"#d8576b\"],[0.6666666666666666,\"#ed7953\"],[0.7777777777777778,\"#fb9f3a\"],[0.8888888888888888,\"#fdca26\"],[1.0,\"#f0f921\"]]}],\"choropleth\":[{\"type\":\"choropleth\",\"colorbar\":{\"outlinewidth\":0,\"ticks\":\"\"}}],\"histogram2d\":[{\"type\":\"histogram2d\",\"colorbar\":{\"outlinewidth\":0,\"ticks\":\"\"},\"colorscale\":[[0.0,\"#0d0887\"],[0.1111111111111111,\"#46039f\"],[0.2222222222222222,\"#7201a8\"],[0.3333333333333333,\"#9c179e\"],[0.4444444444444444,\"#bd3786\"],[0.5555555555555556,\"#d8576b\"],[0.6666666666666666,\"#ed7953\"],[0.7777777777777778,\"#fb9f3a\"],[0.8888888888888888,\"#fdca26\"],[1.0,\"#f0f921\"]]}],\"heatmap\":[{\"type\":\"heatmap\",\"colorbar\":{\"outlinewidth\":0,\"ticks\":\"\"},\"colorscale\":[[0.0,\"#0d0887\"],[0.1111111111111111,\"#46039f\"],[0.2222222222222222,\"#7201a8\"],[0.3333333333333333,\"#9c179e\"],[0.4444444444444444,\"#bd3786\"],[0.5555555555555556,\"#d8576b\"],[0.6666666666666666,\"#ed7953\"],[0.7777777777777778,\"#fb9f3a\"],[0.8888888888888888,\"#fdca26\"],[1.0,\"#f0f921\"]]}],\"heatmapgl\":[{\"type\":\"heatmapgl\",\"colorbar\":{\"outlinewidth\":0,\"ticks\":\"\"},\"colorscale\":[[0.0,\"#0d0887\"],[0.1111111111111111,\"#46039f\"],[0.2222222222222222,\"#7201a8\"],[0.3333333333333333,\"#9c179e\"],[0.4444444444444444,\"#bd3786\"],[0.5555555555555556,\"#d8576b\"],[0.6666666666666666,\"#ed7953\"],[0.7777777777777778,\"#fb9f3a\"],[0.8888888888888888,\"#fdca26\"],[1.0,\"#f0f921\"]]}],\"contourcarpet\":[{\"type\":\"contourcarpet\",\"colorbar\":{\"outlinewidth\":0,\"ticks\":\"\"}}],\"contour\":[{\"type\":\"contour\",\"colorbar\":{\"outlinewidth\":0,\"ticks\":\"\"},\"colorscale\":[[0.0,\"#0d0887\"],[0.1111111111111111,\"#46039f\"],[0.2222222222222222,\"#7201a8\"],[0.3333333333333333,\"#9c179e\"],[0.4444444444444444,\"#bd3786\"],[0.5555555555555556,\"#d8576b\"],[0.6666666666666666,\"#ed7953\"],[0.7777777777777778,\"#fb9f3a\"],[0.8888888888888888,\"#fdca26\"],[1.0,\"#f0f921\"]]}],\"surface\":[{\"type\":\"surface\",\"colorbar\":{\"outlinewidth\":0,\"ticks\":\"\"},\"colorscale\":[[0.0,\"#0d0887\"],[0.1111111111111111,\"#46039f\"],[0.2222222222222222,\"#7201a8\"],[0.3333333333333333,\"#9c179e\"],[0.4444444444444444,\"#bd3786\"],[0.5555555555555556,\"#d8576b\"],[0.6666666666666666,\"#ed7953\"],[0.7777777777777778,\"#fb9f3a\"],[0.8888888888888888,\"#fdca26\"],[1.0,\"#f0f921\"]]}],\"mesh3d\":[{\"type\":\"mesh3d\",\"colorbar\":{\"outlinewidth\":0,\"ticks\":\"\"}}],\"scatter\":[{\"fillpattern\":{\"fillmode\":\"overlay\",\"size\":10,\"solidity\":0.2},\"type\":\"scatter\"}],\"parcoords\":[{\"type\":\"parcoords\",\"line\":{\"colorbar\":{\"outlinewidth\":0,\"ticks\":\"\"}}}],\"scatterpolargl\":[{\"type\":\"scatterpolargl\",\"marker\":{\"colorbar\":{\"outlinewidth\":0,\"ticks\":\"\"}}}],\"bar\":[{\"error_x\":{\"color\":\"#2a3f5f\"},\"error_y\":{\"color\":\"#2a3f5f\"},\"marker\":{\"line\":{\"color\":\"#E5ECF6\",\"width\":0.5},\"pattern\":{\"fillmode\":\"overlay\",\"size\":10,\"solidity\":0.2}},\"type\":\"bar\"}],\"scattergeo\":[{\"type\":\"scattergeo\",\"marker\":{\"colorbar\":{\"outlinewidth\":0,\"ticks\":\"\"}}}],\"scatterpolar\":[{\"type\":\"scatterpolar\",\"marker\":{\"colorbar\":{\"outlinewidth\":0,\"ticks\":\"\"}}}],\"histogram\":[{\"marker\":{\"pattern\":{\"fillmode\":\"overlay\",\"size\":10,\"solidity\":0.2}},\"type\":\"histogram\"}],\"scattergl\":[{\"type\":\"scattergl\",\"marker\":{\"colorbar\":{\"outlinewidth\":0,\"ticks\":\"\"}}}],\"scatter3d\":[{\"type\":\"scatter3d\",\"line\":{\"colorbar\":{\"outlinewidth\":0,\"ticks\":\"\"}},\"marker\":{\"colorbar\":{\"outlinewidth\":0,\"ticks\":\"\"}}}],\"scattermapbox\":[{\"type\":\"scattermapbox\",\"marker\":{\"colorbar\":{\"outlinewidth\":0,\"ticks\":\"\"}}}],\"scatterternary\":[{\"type\":\"scatterternary\",\"marker\":{\"colorbar\":{\"outlinewidth\":0,\"ticks\":\"\"}}}],\"scattercarpet\":[{\"type\":\"scattercarpet\",\"marker\":{\"colorbar\":{\"outlinewidth\":0,\"ticks\":\"\"}}}],\"carpet\":[{\"aaxis\":{\"endlinecolor\":\"#2a3f5f\",\"gridcolor\":\"white\",\"linecolor\":\"white\",\"minorgridcolor\":\"white\",\"startlinecolor\":\"#2a3f5f\"},\"baxis\":{\"endlinecolor\":\"#2a3f5f\",\"gridcolor\":\"white\",\"linecolor\":\"white\",\"minorgridcolor\":\"white\",\"startlinecolor\":\"#2a3f5f\"},\"type\":\"carpet\"}],\"table\":[{\"cells\":{\"fill\":{\"color\":\"#EBF0F8\"},\"line\":{\"color\":\"white\"}},\"header\":{\"fill\":{\"color\":\"#C8D4E3\"},\"line\":{\"color\":\"white\"}},\"type\":\"table\"}],\"barpolar\":[{\"marker\":{\"line\":{\"color\":\"#E5ECF6\",\"width\":0.5},\"pattern\":{\"fillmode\":\"overlay\",\"size\":10,\"solidity\":0.2}},\"type\":\"barpolar\"}],\"pie\":[{\"automargin\":true,\"type\":\"pie\"}]},\"layout\":{\"autotypenumbers\":\"strict\",\"colorway\":[\"#636efa\",\"#EF553B\",\"#00cc96\",\"#ab63fa\",\"#FFA15A\",\"#19d3f3\",\"#FF6692\",\"#B6E880\",\"#FF97FF\",\"#FECB52\"],\"font\":{\"color\":\"#2a3f5f\"},\"hovermode\":\"closest\",\"hoverlabel\":{\"align\":\"left\"},\"paper_bgcolor\":\"white\",\"plot_bgcolor\":\"#E5ECF6\",\"polar\":{\"bgcolor\":\"#E5ECF6\",\"angularaxis\":{\"gridcolor\":\"white\",\"linecolor\":\"white\",\"ticks\":\"\"},\"radialaxis\":{\"gridcolor\":\"white\",\"linecolor\":\"white\",\"ticks\":\"\"}},\"ternary\":{\"bgcolor\":\"#E5ECF6\",\"aaxis\":{\"gridcolor\":\"white\",\"linecolor\":\"white\",\"ticks\":\"\"},\"baxis\":{\"gridcolor\":\"white\",\"linecolor\":\"white\",\"ticks\":\"\"},\"caxis\":{\"gridcolor\":\"white\",\"linecolor\":\"white\",\"ticks\":\"\"}},\"coloraxis\":{\"colorbar\":{\"outlinewidth\":0,\"ticks\":\"\"}},\"colorscale\":{\"sequential\":[[0.0,\"#0d0887\"],[0.1111111111111111,\"#46039f\"],[0.2222222222222222,\"#7201a8\"],[0.3333333333333333,\"#9c179e\"],[0.4444444444444444,\"#bd3786\"],[0.5555555555555556,\"#d8576b\"],[0.6666666666666666,\"#ed7953\"],[0.7777777777777778,\"#fb9f3a\"],[0.8888888888888888,\"#fdca26\"],[1.0,\"#f0f921\"]],\"sequentialminus\":[[0.0,\"#0d0887\"],[0.1111111111111111,\"#46039f\"],[0.2222222222222222,\"#7201a8\"],[0.3333333333333333,\"#9c179e\"],[0.4444444444444444,\"#bd3786\"],[0.5555555555555556,\"#d8576b\"],[0.6666666666666666,\"#ed7953\"],[0.7777777777777778,\"#fb9f3a\"],[0.8888888888888888,\"#fdca26\"],[1.0,\"#f0f921\"]],\"diverging\":[[0,\"#8e0152\"],[0.1,\"#c51b7d\"],[0.2,\"#de77ae\"],[0.3,\"#f1b6da\"],[0.4,\"#fde0ef\"],[0.5,\"#f7f7f7\"],[0.6,\"#e6f5d0\"],[0.7,\"#b8e186\"],[0.8,\"#7fbc41\"],[0.9,\"#4d9221\"],[1,\"#276419\"]]},\"xaxis\":{\"gridcolor\":\"white\",\"linecolor\":\"white\",\"ticks\":\"\",\"title\":{\"standoff\":15},\"zerolinecolor\":\"white\",\"automargin\":true,\"zerolinewidth\":2},\"yaxis\":{\"gridcolor\":\"white\",\"linecolor\":\"white\",\"ticks\":\"\",\"title\":{\"standoff\":15},\"zerolinecolor\":\"white\",\"automargin\":true,\"zerolinewidth\":2},\"scene\":{\"xaxis\":{\"backgroundcolor\":\"#E5ECF6\",\"gridcolor\":\"white\",\"linecolor\":\"white\",\"showbackground\":true,\"ticks\":\"\",\"zerolinecolor\":\"white\",\"gridwidth\":2},\"yaxis\":{\"backgroundcolor\":\"#E5ECF6\",\"gridcolor\":\"white\",\"linecolor\":\"white\",\"showbackground\":true,\"ticks\":\"\",\"zerolinecolor\":\"white\",\"gridwidth\":2},\"zaxis\":{\"backgroundcolor\":\"#E5ECF6\",\"gridcolor\":\"white\",\"linecolor\":\"white\",\"showbackground\":true,\"ticks\":\"\",\"zerolinecolor\":\"white\",\"gridwidth\":2}},\"shapedefaults\":{\"line\":{\"color\":\"#2a3f5f\"}},\"annotationdefaults\":{\"arrowcolor\":\"#2a3f5f\",\"arrowhead\":0,\"arrowwidth\":1},\"geo\":{\"bgcolor\":\"white\",\"landcolor\":\"#E5ECF6\",\"subunitcolor\":\"white\",\"showland\":true,\"showlakes\":true,\"lakecolor\":\"white\"},\"title\":{\"x\":0.05},\"mapbox\":{\"style\":\"light\"}}},\"xaxis\":{\"anchor\":\"y\",\"domain\":[0.0,1.0],\"scaleanchor\":\"y\",\"constrain\":\"domain\"},\"yaxis\":{\"anchor\":\"x\",\"domain\":[0.0,1.0],\"autorange\":\"reversed\",\"constrain\":\"domain\"},\"coloraxis\":{\"colorscale\":[[0.0,\"rgb(5,48,97)\"],[0.1,\"rgb(33,102,172)\"],[0.2,\"rgb(67,147,195)\"],[0.3,\"rgb(146,197,222)\"],[0.4,\"rgb(209,229,240)\"],[0.5,\"rgb(247,247,247)\"],[0.6,\"rgb(253,219,199)\"],[0.7,\"rgb(244,165,130)\"],[0.8,\"rgb(214,96,77)\"],[0.9,\"rgb(178,24,43)\"],[1.0,\"rgb(103,0,31)\"]]},\"margin\":{\"t\":60}},                        {\"responsive\": true}                    ).then(function(){\n",
       "                            \n",
       "var gd = document.getElementById('830d5670-0b51-4e09-acd1-3985fd90de19');\n",
       "var x = new MutationObserver(function (mutations, observer) {{\n",
       "        var display = window.getComputedStyle(gd).display;\n",
       "        if (!display || display === 'none') {{\n",
       "            console.log([gd, 'removed!']);\n",
       "            Plotly.purge(gd);\n",
       "            observer.disconnect();\n",
       "        }}\n",
       "}});\n",
       "\n",
       "// Listen for the removal of the full notebook cells\n",
       "var notebookContainer = gd.closest('#notebook-container');\n",
       "if (notebookContainer) {{\n",
       "    x.observe(notebookContainer, {childList: true});\n",
       "}}\n",
       "\n",
       "// Listen for the clearing of the current output cell\n",
       "var outputEl = gd.closest('.output');\n",
       "if (outputEl) {{\n",
       "    x.observe(outputEl, {childList: true});\n",
       "}}\n",
       "\n",
       "                        })                };                });            </script>        </div>"
      ]
     },
     "metadata": {},
     "output_type": "display_data"
    }
   ],
   "source": [
    "import plotly.express as px\n",
    "fig = px.imshow(spotify_correlation.corr(method='pearson', numeric_only=False), color_continuous_scale='RdBu_r')\n",
    "fig.show()"
   ]
  },
  {
   "cell_type": "markdown",
   "id": "76a50dfd",
   "metadata": {},
   "source": [
    "##### Współczynnik korelacji Spearmana"
   ]
  },
  {
   "cell_type": "code",
   "execution_count": 15,
   "id": "ac0de071",
   "metadata": {},
   "outputs": [
    {
     "data": {
      "text/html": [
       "<div>\n",
       "<style scoped>\n",
       "    .dataframe tbody tr th:only-of-type {\n",
       "        vertical-align: middle;\n",
       "    }\n",
       "\n",
       "    .dataframe tbody tr th {\n",
       "        vertical-align: top;\n",
       "    }\n",
       "\n",
       "    .dataframe thead th {\n",
       "        text-align: right;\n",
       "    }\n",
       "</style>\n",
       "<table border=\"1\" class=\"dataframe\">\n",
       "  <thead>\n",
       "    <tr style=\"text-align: right;\">\n",
       "      <th></th>\n",
       "      <th>Popularity</th>\n",
       "      <th>danceability</th>\n",
       "      <th>energy</th>\n",
       "      <th>loudness</th>\n",
       "      <th>mode</th>\n",
       "      <th>speechiness</th>\n",
       "      <th>acoustics</th>\n",
       "      <th>instrumentalness</th>\n",
       "      <th>liveliness</th>\n",
       "      <th>valence</th>\n",
       "      <th>tempo</th>\n",
       "    </tr>\n",
       "  </thead>\n",
       "  <tbody>\n",
       "    <tr>\n",
       "      <th>Popularity</th>\n",
       "      <td>1.000000</td>\n",
       "      <td>0.078037</td>\n",
       "      <td>-0.007591</td>\n",
       "      <td>0.080438</td>\n",
       "      <td>-0.009772</td>\n",
       "      <td>-0.038422</td>\n",
       "      <td>0.033407</td>\n",
       "      <td>-0.064134</td>\n",
       "      <td>-0.029158</td>\n",
       "      <td>0.056355</td>\n",
       "      <td>-0.035090</td>\n",
       "    </tr>\n",
       "    <tr>\n",
       "      <th>danceability</th>\n",
       "      <td>0.078037</td>\n",
       "      <td>1.000000</td>\n",
       "      <td>-0.006865</td>\n",
       "      <td>0.082885</td>\n",
       "      <td>-0.066328</td>\n",
       "      <td>0.310603</td>\n",
       "      <td>-0.137803</td>\n",
       "      <td>-0.053903</td>\n",
       "      <td>-0.085593</td>\n",
       "      <td>0.283052</td>\n",
       "      <td>0.023155</td>\n",
       "    </tr>\n",
       "    <tr>\n",
       "      <th>energy</th>\n",
       "      <td>-0.007591</td>\n",
       "      <td>-0.006865</td>\n",
       "      <td>1.000000</td>\n",
       "      <td>0.704350</td>\n",
       "      <td>-0.040041</td>\n",
       "      <td>0.056955</td>\n",
       "      <td>-0.373315</td>\n",
       "      <td>-0.071802</td>\n",
       "      <td>0.094709</td>\n",
       "      <td>0.362874</td>\n",
       "      <td>0.091368</td>\n",
       "    </tr>\n",
       "    <tr>\n",
       "      <th>loudness</th>\n",
       "      <td>0.080438</td>\n",
       "      <td>0.082885</td>\n",
       "      <td>0.704350</td>\n",
       "      <td>1.000000</td>\n",
       "      <td>-0.019000</td>\n",
       "      <td>-0.007129</td>\n",
       "      <td>-0.274169</td>\n",
       "      <td>-0.195040</td>\n",
       "      <td>0.034345</td>\n",
       "      <td>0.303578</td>\n",
       "      <td>0.069109</td>\n",
       "    </tr>\n",
       "    <tr>\n",
       "      <th>mode</th>\n",
       "      <td>-0.009772</td>\n",
       "      <td>-0.066328</td>\n",
       "      <td>-0.040041</td>\n",
       "      <td>-0.019000</td>\n",
       "      <td>1.000000</td>\n",
       "      <td>-0.082560</td>\n",
       "      <td>-0.022677</td>\n",
       "      <td>0.001626</td>\n",
       "      <td>-0.013931</td>\n",
       "      <td>-0.031104</td>\n",
       "      <td>0.018752</td>\n",
       "    </tr>\n",
       "    <tr>\n",
       "      <th>speechiness</th>\n",
       "      <td>-0.038422</td>\n",
       "      <td>0.310603</td>\n",
       "      <td>0.056955</td>\n",
       "      <td>-0.007129</td>\n",
       "      <td>-0.082560</td>\n",
       "      <td>1.000000</td>\n",
       "      <td>-0.069618</td>\n",
       "      <td>-0.175433</td>\n",
       "      <td>0.065307</td>\n",
       "      <td>0.084215</td>\n",
       "      <td>0.153331</td>\n",
       "    </tr>\n",
       "    <tr>\n",
       "      <th>acoustics</th>\n",
       "      <td>0.033407</td>\n",
       "      <td>-0.137803</td>\n",
       "      <td>-0.373315</td>\n",
       "      <td>-0.274169</td>\n",
       "      <td>-0.022677</td>\n",
       "      <td>-0.069618</td>\n",
       "      <td>1.000000</td>\n",
       "      <td>-0.026997</td>\n",
       "      <td>-0.051450</td>\n",
       "      <td>-0.018903</td>\n",
       "      <td>-0.098166</td>\n",
       "    </tr>\n",
       "    <tr>\n",
       "      <th>instrumentalness</th>\n",
       "      <td>-0.064134</td>\n",
       "      <td>-0.053903</td>\n",
       "      <td>-0.071802</td>\n",
       "      <td>-0.195040</td>\n",
       "      <td>0.001626</td>\n",
       "      <td>-0.175433</td>\n",
       "      <td>-0.026997</td>\n",
       "      <td>1.000000</td>\n",
       "      <td>-0.056795</td>\n",
       "      <td>-0.142701</td>\n",
       "      <td>-0.004039</td>\n",
       "    </tr>\n",
       "    <tr>\n",
       "      <th>liveliness</th>\n",
       "      <td>-0.029158</td>\n",
       "      <td>-0.085593</td>\n",
       "      <td>0.094709</td>\n",
       "      <td>0.034345</td>\n",
       "      <td>-0.013931</td>\n",
       "      <td>0.065307</td>\n",
       "      <td>-0.051450</td>\n",
       "      <td>-0.056795</td>\n",
       "      <td>1.000000</td>\n",
       "      <td>-0.017152</td>\n",
       "      <td>0.003872</td>\n",
       "    </tr>\n",
       "    <tr>\n",
       "      <th>valence</th>\n",
       "      <td>0.056355</td>\n",
       "      <td>0.283052</td>\n",
       "      <td>0.362874</td>\n",
       "      <td>0.303578</td>\n",
       "      <td>-0.031104</td>\n",
       "      <td>0.084215</td>\n",
       "      <td>-0.018903</td>\n",
       "      <td>-0.142701</td>\n",
       "      <td>-0.017152</td>\n",
       "      <td>1.000000</td>\n",
       "      <td>0.038918</td>\n",
       "    </tr>\n",
       "    <tr>\n",
       "      <th>tempo</th>\n",
       "      <td>-0.035090</td>\n",
       "      <td>0.023155</td>\n",
       "      <td>0.091368</td>\n",
       "      <td>0.069109</td>\n",
       "      <td>0.018752</td>\n",
       "      <td>0.153331</td>\n",
       "      <td>-0.098166</td>\n",
       "      <td>-0.004039</td>\n",
       "      <td>0.003872</td>\n",
       "      <td>0.038918</td>\n",
       "      <td>1.000000</td>\n",
       "    </tr>\n",
       "  </tbody>\n",
       "</table>\n",
       "</div>"
      ],
      "text/plain": [
       "                  Popularity  danceability    energy  loudness      mode  \\\n",
       "Popularity          1.000000      0.078037 -0.007591  0.080438 -0.009772   \n",
       "danceability        0.078037      1.000000 -0.006865  0.082885 -0.066328   \n",
       "energy             -0.007591     -0.006865  1.000000  0.704350 -0.040041   \n",
       "loudness            0.080438      0.082885  0.704350  1.000000 -0.019000   \n",
       "mode               -0.009772     -0.066328 -0.040041 -0.019000  1.000000   \n",
       "speechiness        -0.038422      0.310603  0.056955 -0.007129 -0.082560   \n",
       "acoustics           0.033407     -0.137803 -0.373315 -0.274169 -0.022677   \n",
       "instrumentalness   -0.064134     -0.053903 -0.071802 -0.195040  0.001626   \n",
       "liveliness         -0.029158     -0.085593  0.094709  0.034345 -0.013931   \n",
       "valence             0.056355      0.283052  0.362874  0.303578 -0.031104   \n",
       "tempo              -0.035090      0.023155  0.091368  0.069109  0.018752   \n",
       "\n",
       "                  speechiness  acoustics  instrumentalness  liveliness  \\\n",
       "Popularity          -0.038422   0.033407         -0.064134   -0.029158   \n",
       "danceability         0.310603  -0.137803         -0.053903   -0.085593   \n",
       "energy               0.056955  -0.373315         -0.071802    0.094709   \n",
       "loudness            -0.007129  -0.274169         -0.195040    0.034345   \n",
       "mode                -0.082560  -0.022677          0.001626   -0.013931   \n",
       "speechiness          1.000000  -0.069618         -0.175433    0.065307   \n",
       "acoustics           -0.069618   1.000000         -0.026997   -0.051450   \n",
       "instrumentalness    -0.175433  -0.026997          1.000000   -0.056795   \n",
       "liveliness           0.065307  -0.051450         -0.056795    1.000000   \n",
       "valence              0.084215  -0.018903         -0.142701   -0.017152   \n",
       "tempo                0.153331  -0.098166         -0.004039    0.003872   \n",
       "\n",
       "                   valence     tempo  \n",
       "Popularity        0.056355 -0.035090  \n",
       "danceability      0.283052  0.023155  \n",
       "energy            0.362874  0.091368  \n",
       "loudness          0.303578  0.069109  \n",
       "mode             -0.031104  0.018752  \n",
       "speechiness       0.084215  0.153331  \n",
       "acoustics        -0.018903 -0.098166  \n",
       "instrumentalness -0.142701 -0.004039  \n",
       "liveliness       -0.017152  0.003872  \n",
       "valence           1.000000  0.038918  \n",
       "tempo             0.038918  1.000000  "
      ]
     },
     "execution_count": 15,
     "metadata": {},
     "output_type": "execute_result"
    }
   ],
   "source": [
    "spotify_correlation_spearman = spotify_correlation.corr(method='spearman', numeric_only=False)\n",
    "spotify_correlation_spearman"
   ]
  },
  {
   "cell_type": "code",
   "execution_count": 44,
   "id": "bef0ba1e",
   "metadata": {},
   "outputs": [
    {
     "data": {
      "application/vnd.plotly.v1+json": {
       "config": {
        "plotlyServerURL": "https://plot.ly"
       },
       "data": [
        {
         "coloraxis": "coloraxis",
         "hovertemplate": "x: %{x}<br>y: %{y}<br>color: %{z}<extra></extra>",
         "name": "0",
         "type": "heatmap",
         "x": [
          "Popularity",
          "danceability",
          "energy",
          "loudness",
          "mode",
          "speechiness",
          "acoustics",
          "instrumentalness",
          "liveliness",
          "valence",
          "tempo"
         ],
         "xaxis": "x",
         "y": [
          "Popularity",
          "danceability",
          "energy",
          "loudness",
          "mode",
          "speechiness",
          "acoustics",
          "instrumentalness",
          "liveliness",
          "valence",
          "tempo"
         ],
         "yaxis": "y",
         "z": [
          [
           1,
           0.07803665654415694,
           -0.0075910714935142265,
           0.08043842965440615,
           -0.009771882331056247,
           -0.03842243598512973,
           0.033407112222587736,
           -0.06413424477268087,
           -0.02915820478964073,
           0.0563546249539397,
           -0.03508950196711438
          ],
          [
           0.07803665654415694,
           1,
           -0.006865313929324617,
           0.08288505296892476,
           -0.06632832234855938,
           0.31060260674856527,
           -0.13780333150963883,
           -0.05390316001986018,
           -0.08559301900957046,
           0.283052042031962,
           0.023154699677995463
          ],
          [
           -0.0075910714935142265,
           -0.006865313929324617,
           1,
           0.7043498076283979,
           -0.04004091399341651,
           0.05695547654908077,
           -0.3733154977798675,
           -0.07180209446903603,
           0.09470896656549554,
           0.36287410202859016,
           0.09136806157383325
          ],
          [
           0.08043842965440615,
           0.08288505296892476,
           0.7043498076283979,
           1,
           -0.018999786608983726,
           -0.007129446080288082,
           -0.2741689887422716,
           -0.1950400198134399,
           0.03434500216777341,
           0.30357804263418464,
           0.06910905383257147
          ],
          [
           -0.009771882331056247,
           -0.06632832234855938,
           -0.04004091399341651,
           -0.018999786608983726,
           1,
           -0.0825599976170849,
           -0.02267713797654419,
           0.0016262796000930722,
           -0.013930520058922945,
           -0.031103530600805823,
           0.01875182024844386
          ],
          [
           -0.03842243598512973,
           0.31060260674856527,
           0.05695547654908077,
           -0.007129446080288082,
           -0.0825599976170849,
           1,
           -0.06961789313605239,
           -0.17543276861087553,
           0.06530709231418512,
           0.08421464867558774,
           0.15333095193347698
          ],
          [
           0.033407112222587736,
           -0.13780333150963883,
           -0.3733154977798675,
           -0.2741689887422716,
           -0.02267713797654419,
           -0.06961789313605239,
           1,
           -0.02699659120560526,
           -0.05144965568868582,
           -0.01890269158497413,
           -0.09816622239860162
          ],
          [
           -0.06413424477268087,
           -0.05390316001986018,
           -0.07180209446903603,
           -0.1950400198134399,
           0.0016262796000930722,
           -0.17543276861087553,
           -0.02699659120560526,
           1,
           -0.05679450641714455,
           -0.14270141572228628,
           -0.004038731532535294
          ],
          [
           -0.02915820478964073,
           -0.08559301900957046,
           0.09470896656549554,
           0.03434500216777341,
           -0.013930520058922945,
           0.06530709231418512,
           -0.05144965568868582,
           -0.05679450641714455,
           1,
           -0.017152216987382958,
           0.003871735736950172
          ],
          [
           0.0563546249539397,
           0.283052042031962,
           0.36287410202859016,
           0.30357804263418464,
           -0.031103530600805823,
           0.08421464867558774,
           -0.01890269158497413,
           -0.14270141572228628,
           -0.017152216987382958,
           1,
           0.03891771137933578
          ],
          [
           -0.03508950196711438,
           0.023154699677995463,
           0.09136806157383325,
           0.06910905383257147,
           0.01875182024844386,
           0.15333095193347698,
           -0.09816622239860162,
           -0.004038731532535294,
           0.003871735736950172,
           0.03891771137933578,
           1
          ]
         ]
        }
       ],
       "layout": {
        "coloraxis": {
         "colorscale": [
          [
           0,
           "rgb(5,48,97)"
          ],
          [
           0.1,
           "rgb(33,102,172)"
          ],
          [
           0.2,
           "rgb(67,147,195)"
          ],
          [
           0.3,
           "rgb(146,197,222)"
          ],
          [
           0.4,
           "rgb(209,229,240)"
          ],
          [
           0.5,
           "rgb(247,247,247)"
          ],
          [
           0.6,
           "rgb(253,219,199)"
          ],
          [
           0.7,
           "rgb(244,165,130)"
          ],
          [
           0.8,
           "rgb(214,96,77)"
          ],
          [
           0.9,
           "rgb(178,24,43)"
          ],
          [
           1,
           "rgb(103,0,31)"
          ]
         ]
        },
        "margin": {
         "t": 60
        },
        "template": {
         "data": {
          "bar": [
           {
            "error_x": {
             "color": "#2a3f5f"
            },
            "error_y": {
             "color": "#2a3f5f"
            },
            "marker": {
             "line": {
              "color": "#E5ECF6",
              "width": 0.5
             },
             "pattern": {
              "fillmode": "overlay",
              "size": 10,
              "solidity": 0.2
             }
            },
            "type": "bar"
           }
          ],
          "barpolar": [
           {
            "marker": {
             "line": {
              "color": "#E5ECF6",
              "width": 0.5
             },
             "pattern": {
              "fillmode": "overlay",
              "size": 10,
              "solidity": 0.2
             }
            },
            "type": "barpolar"
           }
          ],
          "carpet": [
           {
            "aaxis": {
             "endlinecolor": "#2a3f5f",
             "gridcolor": "white",
             "linecolor": "white",
             "minorgridcolor": "white",
             "startlinecolor": "#2a3f5f"
            },
            "baxis": {
             "endlinecolor": "#2a3f5f",
             "gridcolor": "white",
             "linecolor": "white",
             "minorgridcolor": "white",
             "startlinecolor": "#2a3f5f"
            },
            "type": "carpet"
           }
          ],
          "choropleth": [
           {
            "colorbar": {
             "outlinewidth": 0,
             "ticks": ""
            },
            "type": "choropleth"
           }
          ],
          "contour": [
           {
            "colorbar": {
             "outlinewidth": 0,
             "ticks": ""
            },
            "colorscale": [
             [
              0,
              "#0d0887"
             ],
             [
              0.1111111111111111,
              "#46039f"
             ],
             [
              0.2222222222222222,
              "#7201a8"
             ],
             [
              0.3333333333333333,
              "#9c179e"
             ],
             [
              0.4444444444444444,
              "#bd3786"
             ],
             [
              0.5555555555555556,
              "#d8576b"
             ],
             [
              0.6666666666666666,
              "#ed7953"
             ],
             [
              0.7777777777777778,
              "#fb9f3a"
             ],
             [
              0.8888888888888888,
              "#fdca26"
             ],
             [
              1,
              "#f0f921"
             ]
            ],
            "type": "contour"
           }
          ],
          "contourcarpet": [
           {
            "colorbar": {
             "outlinewidth": 0,
             "ticks": ""
            },
            "type": "contourcarpet"
           }
          ],
          "heatmap": [
           {
            "colorbar": {
             "outlinewidth": 0,
             "ticks": ""
            },
            "colorscale": [
             [
              0,
              "#0d0887"
             ],
             [
              0.1111111111111111,
              "#46039f"
             ],
             [
              0.2222222222222222,
              "#7201a8"
             ],
             [
              0.3333333333333333,
              "#9c179e"
             ],
             [
              0.4444444444444444,
              "#bd3786"
             ],
             [
              0.5555555555555556,
              "#d8576b"
             ],
             [
              0.6666666666666666,
              "#ed7953"
             ],
             [
              0.7777777777777778,
              "#fb9f3a"
             ],
             [
              0.8888888888888888,
              "#fdca26"
             ],
             [
              1,
              "#f0f921"
             ]
            ],
            "type": "heatmap"
           }
          ],
          "heatmapgl": [
           {
            "colorbar": {
             "outlinewidth": 0,
             "ticks": ""
            },
            "colorscale": [
             [
              0,
              "#0d0887"
             ],
             [
              0.1111111111111111,
              "#46039f"
             ],
             [
              0.2222222222222222,
              "#7201a8"
             ],
             [
              0.3333333333333333,
              "#9c179e"
             ],
             [
              0.4444444444444444,
              "#bd3786"
             ],
             [
              0.5555555555555556,
              "#d8576b"
             ],
             [
              0.6666666666666666,
              "#ed7953"
             ],
             [
              0.7777777777777778,
              "#fb9f3a"
             ],
             [
              0.8888888888888888,
              "#fdca26"
             ],
             [
              1,
              "#f0f921"
             ]
            ],
            "type": "heatmapgl"
           }
          ],
          "histogram": [
           {
            "marker": {
             "pattern": {
              "fillmode": "overlay",
              "size": 10,
              "solidity": 0.2
             }
            },
            "type": "histogram"
           }
          ],
          "histogram2d": [
           {
            "colorbar": {
             "outlinewidth": 0,
             "ticks": ""
            },
            "colorscale": [
             [
              0,
              "#0d0887"
             ],
             [
              0.1111111111111111,
              "#46039f"
             ],
             [
              0.2222222222222222,
              "#7201a8"
             ],
             [
              0.3333333333333333,
              "#9c179e"
             ],
             [
              0.4444444444444444,
              "#bd3786"
             ],
             [
              0.5555555555555556,
              "#d8576b"
             ],
             [
              0.6666666666666666,
              "#ed7953"
             ],
             [
              0.7777777777777778,
              "#fb9f3a"
             ],
             [
              0.8888888888888888,
              "#fdca26"
             ],
             [
              1,
              "#f0f921"
             ]
            ],
            "type": "histogram2d"
           }
          ],
          "histogram2dcontour": [
           {
            "colorbar": {
             "outlinewidth": 0,
             "ticks": ""
            },
            "colorscale": [
             [
              0,
              "#0d0887"
             ],
             [
              0.1111111111111111,
              "#46039f"
             ],
             [
              0.2222222222222222,
              "#7201a8"
             ],
             [
              0.3333333333333333,
              "#9c179e"
             ],
             [
              0.4444444444444444,
              "#bd3786"
             ],
             [
              0.5555555555555556,
              "#d8576b"
             ],
             [
              0.6666666666666666,
              "#ed7953"
             ],
             [
              0.7777777777777778,
              "#fb9f3a"
             ],
             [
              0.8888888888888888,
              "#fdca26"
             ],
             [
              1,
              "#f0f921"
             ]
            ],
            "type": "histogram2dcontour"
           }
          ],
          "mesh3d": [
           {
            "colorbar": {
             "outlinewidth": 0,
             "ticks": ""
            },
            "type": "mesh3d"
           }
          ],
          "parcoords": [
           {
            "line": {
             "colorbar": {
              "outlinewidth": 0,
              "ticks": ""
             }
            },
            "type": "parcoords"
           }
          ],
          "pie": [
           {
            "automargin": true,
            "type": "pie"
           }
          ],
          "scatter": [
           {
            "fillpattern": {
             "fillmode": "overlay",
             "size": 10,
             "solidity": 0.2
            },
            "type": "scatter"
           }
          ],
          "scatter3d": [
           {
            "line": {
             "colorbar": {
              "outlinewidth": 0,
              "ticks": ""
             }
            },
            "marker": {
             "colorbar": {
              "outlinewidth": 0,
              "ticks": ""
             }
            },
            "type": "scatter3d"
           }
          ],
          "scattercarpet": [
           {
            "marker": {
             "colorbar": {
              "outlinewidth": 0,
              "ticks": ""
             }
            },
            "type": "scattercarpet"
           }
          ],
          "scattergeo": [
           {
            "marker": {
             "colorbar": {
              "outlinewidth": 0,
              "ticks": ""
             }
            },
            "type": "scattergeo"
           }
          ],
          "scattergl": [
           {
            "marker": {
             "colorbar": {
              "outlinewidth": 0,
              "ticks": ""
             }
            },
            "type": "scattergl"
           }
          ],
          "scattermapbox": [
           {
            "marker": {
             "colorbar": {
              "outlinewidth": 0,
              "ticks": ""
             }
            },
            "type": "scattermapbox"
           }
          ],
          "scatterpolar": [
           {
            "marker": {
             "colorbar": {
              "outlinewidth": 0,
              "ticks": ""
             }
            },
            "type": "scatterpolar"
           }
          ],
          "scatterpolargl": [
           {
            "marker": {
             "colorbar": {
              "outlinewidth": 0,
              "ticks": ""
             }
            },
            "type": "scatterpolargl"
           }
          ],
          "scatterternary": [
           {
            "marker": {
             "colorbar": {
              "outlinewidth": 0,
              "ticks": ""
             }
            },
            "type": "scatterternary"
           }
          ],
          "surface": [
           {
            "colorbar": {
             "outlinewidth": 0,
             "ticks": ""
            },
            "colorscale": [
             [
              0,
              "#0d0887"
             ],
             [
              0.1111111111111111,
              "#46039f"
             ],
             [
              0.2222222222222222,
              "#7201a8"
             ],
             [
              0.3333333333333333,
              "#9c179e"
             ],
             [
              0.4444444444444444,
              "#bd3786"
             ],
             [
              0.5555555555555556,
              "#d8576b"
             ],
             [
              0.6666666666666666,
              "#ed7953"
             ],
             [
              0.7777777777777778,
              "#fb9f3a"
             ],
             [
              0.8888888888888888,
              "#fdca26"
             ],
             [
              1,
              "#f0f921"
             ]
            ],
            "type": "surface"
           }
          ],
          "table": [
           {
            "cells": {
             "fill": {
              "color": "#EBF0F8"
             },
             "line": {
              "color": "white"
             }
            },
            "header": {
             "fill": {
              "color": "#C8D4E3"
             },
             "line": {
              "color": "white"
             }
            },
            "type": "table"
           }
          ]
         },
         "layout": {
          "annotationdefaults": {
           "arrowcolor": "#2a3f5f",
           "arrowhead": 0,
           "arrowwidth": 1
          },
          "autotypenumbers": "strict",
          "coloraxis": {
           "colorbar": {
            "outlinewidth": 0,
            "ticks": ""
           }
          },
          "colorscale": {
           "diverging": [
            [
             0,
             "#8e0152"
            ],
            [
             0.1,
             "#c51b7d"
            ],
            [
             0.2,
             "#de77ae"
            ],
            [
             0.3,
             "#f1b6da"
            ],
            [
             0.4,
             "#fde0ef"
            ],
            [
             0.5,
             "#f7f7f7"
            ],
            [
             0.6,
             "#e6f5d0"
            ],
            [
             0.7,
             "#b8e186"
            ],
            [
             0.8,
             "#7fbc41"
            ],
            [
             0.9,
             "#4d9221"
            ],
            [
             1,
             "#276419"
            ]
           ],
           "sequential": [
            [
             0,
             "#0d0887"
            ],
            [
             0.1111111111111111,
             "#46039f"
            ],
            [
             0.2222222222222222,
             "#7201a8"
            ],
            [
             0.3333333333333333,
             "#9c179e"
            ],
            [
             0.4444444444444444,
             "#bd3786"
            ],
            [
             0.5555555555555556,
             "#d8576b"
            ],
            [
             0.6666666666666666,
             "#ed7953"
            ],
            [
             0.7777777777777778,
             "#fb9f3a"
            ],
            [
             0.8888888888888888,
             "#fdca26"
            ],
            [
             1,
             "#f0f921"
            ]
           ],
           "sequentialminus": [
            [
             0,
             "#0d0887"
            ],
            [
             0.1111111111111111,
             "#46039f"
            ],
            [
             0.2222222222222222,
             "#7201a8"
            ],
            [
             0.3333333333333333,
             "#9c179e"
            ],
            [
             0.4444444444444444,
             "#bd3786"
            ],
            [
             0.5555555555555556,
             "#d8576b"
            ],
            [
             0.6666666666666666,
             "#ed7953"
            ],
            [
             0.7777777777777778,
             "#fb9f3a"
            ],
            [
             0.8888888888888888,
             "#fdca26"
            ],
            [
             1,
             "#f0f921"
            ]
           ]
          },
          "colorway": [
           "#636efa",
           "#EF553B",
           "#00cc96",
           "#ab63fa",
           "#FFA15A",
           "#19d3f3",
           "#FF6692",
           "#B6E880",
           "#FF97FF",
           "#FECB52"
          ],
          "font": {
           "color": "#2a3f5f"
          },
          "geo": {
           "bgcolor": "white",
           "lakecolor": "white",
           "landcolor": "#E5ECF6",
           "showlakes": true,
           "showland": true,
           "subunitcolor": "white"
          },
          "hoverlabel": {
           "align": "left"
          },
          "hovermode": "closest",
          "mapbox": {
           "style": "light"
          },
          "paper_bgcolor": "white",
          "plot_bgcolor": "#E5ECF6",
          "polar": {
           "angularaxis": {
            "gridcolor": "white",
            "linecolor": "white",
            "ticks": ""
           },
           "bgcolor": "#E5ECF6",
           "radialaxis": {
            "gridcolor": "white",
            "linecolor": "white",
            "ticks": ""
           }
          },
          "scene": {
           "xaxis": {
            "backgroundcolor": "#E5ECF6",
            "gridcolor": "white",
            "gridwidth": 2,
            "linecolor": "white",
            "showbackground": true,
            "ticks": "",
            "zerolinecolor": "white"
           },
           "yaxis": {
            "backgroundcolor": "#E5ECF6",
            "gridcolor": "white",
            "gridwidth": 2,
            "linecolor": "white",
            "showbackground": true,
            "ticks": "",
            "zerolinecolor": "white"
           },
           "zaxis": {
            "backgroundcolor": "#E5ECF6",
            "gridcolor": "white",
            "gridwidth": 2,
            "linecolor": "white",
            "showbackground": true,
            "ticks": "",
            "zerolinecolor": "white"
           }
          },
          "shapedefaults": {
           "line": {
            "color": "#2a3f5f"
           }
          },
          "ternary": {
           "aaxis": {
            "gridcolor": "white",
            "linecolor": "white",
            "ticks": ""
           },
           "baxis": {
            "gridcolor": "white",
            "linecolor": "white",
            "ticks": ""
           },
           "bgcolor": "#E5ECF6",
           "caxis": {
            "gridcolor": "white",
            "linecolor": "white",
            "ticks": ""
           }
          },
          "title": {
           "x": 0.05
          },
          "xaxis": {
           "automargin": true,
           "gridcolor": "white",
           "linecolor": "white",
           "ticks": "",
           "title": {
            "standoff": 15
           },
           "zerolinecolor": "white",
           "zerolinewidth": 2
          },
          "yaxis": {
           "automargin": true,
           "gridcolor": "white",
           "linecolor": "white",
           "ticks": "",
           "title": {
            "standoff": 15
           },
           "zerolinecolor": "white",
           "zerolinewidth": 2
          }
         }
        },
        "xaxis": {
         "anchor": "y",
         "constrain": "domain",
         "domain": [
          0,
          1
         ],
         "scaleanchor": "y"
        },
        "yaxis": {
         "anchor": "x",
         "autorange": "reversed",
         "constrain": "domain",
         "domain": [
          0,
          1
         ]
        }
       }
      },
      "text/html": [
       "<div>                            <div id=\"4ca87b6c-fad4-47d8-8af8-de1a29c00fd5\" class=\"plotly-graph-div\" style=\"height:525px; width:100%;\"></div>            <script type=\"text/javascript\">                require([\"plotly\"], function(Plotly) {                    window.PLOTLYENV=window.PLOTLYENV || {};                                    if (document.getElementById(\"4ca87b6c-fad4-47d8-8af8-de1a29c00fd5\")) {                    Plotly.newPlot(                        \"4ca87b6c-fad4-47d8-8af8-de1a29c00fd5\",                        [{\"coloraxis\":\"coloraxis\",\"name\":\"0\",\"x\":[\"Popularity\",\"danceability\",\"energy\",\"loudness\",\"mode\",\"speechiness\",\"acoustics\",\"instrumentalness\",\"liveliness\",\"valence\",\"tempo\"],\"y\":[\"Popularity\",\"danceability\",\"energy\",\"loudness\",\"mode\",\"speechiness\",\"acoustics\",\"instrumentalness\",\"liveliness\",\"valence\",\"tempo\"],\"z\":[[1.0,0.07803665654415694,-0.0075910714935142265,0.08043842965440615,-0.009771882331056247,-0.03842243598512973,0.033407112222587736,-0.06413424477268087,-0.02915820478964073,0.0563546249539397,-0.03508950196711438],[0.07803665654415694,1.0,-0.006865313929324617,0.08288505296892476,-0.06632832234855938,0.31060260674856527,-0.13780333150963883,-0.05390316001986018,-0.08559301900957046,0.283052042031962,0.023154699677995463],[-0.0075910714935142265,-0.006865313929324617,1.0,0.7043498076283979,-0.04004091399341651,0.05695547654908077,-0.3733154977798675,-0.07180209446903603,0.09470896656549554,0.36287410202859016,0.09136806157383325],[0.08043842965440615,0.08288505296892476,0.7043498076283979,1.0,-0.018999786608983726,-0.007129446080288082,-0.2741689887422716,-0.1950400198134399,0.03434500216777341,0.30357804263418464,0.06910905383257147],[-0.009771882331056247,-0.06632832234855938,-0.04004091399341651,-0.018999786608983726,1.0,-0.0825599976170849,-0.02267713797654419,0.0016262796000930722,-0.013930520058922945,-0.031103530600805823,0.01875182024844386],[-0.03842243598512973,0.31060260674856527,0.05695547654908077,-0.007129446080288082,-0.0825599976170849,1.0,-0.06961789313605239,-0.17543276861087553,0.06530709231418512,0.08421464867558774,0.15333095193347698],[0.033407112222587736,-0.13780333150963883,-0.3733154977798675,-0.2741689887422716,-0.02267713797654419,-0.06961789313605239,1.0,-0.02699659120560526,-0.05144965568868582,-0.01890269158497413,-0.09816622239860162],[-0.06413424477268087,-0.05390316001986018,-0.07180209446903603,-0.1950400198134399,0.0016262796000930722,-0.17543276861087553,-0.02699659120560526,1.0,-0.05679450641714455,-0.14270141572228628,-0.004038731532535294],[-0.02915820478964073,-0.08559301900957046,0.09470896656549554,0.03434500216777341,-0.013930520058922945,0.06530709231418512,-0.05144965568868582,-0.05679450641714455,1.0,-0.017152216987382958,0.003871735736950172],[0.0563546249539397,0.283052042031962,0.36287410202859016,0.30357804263418464,-0.031103530600805823,0.08421464867558774,-0.01890269158497413,-0.14270141572228628,-0.017152216987382958,1.0,0.03891771137933578],[-0.03508950196711438,0.023154699677995463,0.09136806157383325,0.06910905383257147,0.01875182024844386,0.15333095193347698,-0.09816622239860162,-0.004038731532535294,0.003871735736950172,0.03891771137933578,1.0]],\"type\":\"heatmap\",\"xaxis\":\"x\",\"yaxis\":\"y\",\"hovertemplate\":\"x: %{x}<br>y: %{y}<br>color: %{z}<extra></extra>\"}],                        {\"template\":{\"data\":{\"histogram2dcontour\":[{\"type\":\"histogram2dcontour\",\"colorbar\":{\"outlinewidth\":0,\"ticks\":\"\"},\"colorscale\":[[0.0,\"#0d0887\"],[0.1111111111111111,\"#46039f\"],[0.2222222222222222,\"#7201a8\"],[0.3333333333333333,\"#9c179e\"],[0.4444444444444444,\"#bd3786\"],[0.5555555555555556,\"#d8576b\"],[0.6666666666666666,\"#ed7953\"],[0.7777777777777778,\"#fb9f3a\"],[0.8888888888888888,\"#fdca26\"],[1.0,\"#f0f921\"]]}],\"choropleth\":[{\"type\":\"choropleth\",\"colorbar\":{\"outlinewidth\":0,\"ticks\":\"\"}}],\"histogram2d\":[{\"type\":\"histogram2d\",\"colorbar\":{\"outlinewidth\":0,\"ticks\":\"\"},\"colorscale\":[[0.0,\"#0d0887\"],[0.1111111111111111,\"#46039f\"],[0.2222222222222222,\"#7201a8\"],[0.3333333333333333,\"#9c179e\"],[0.4444444444444444,\"#bd3786\"],[0.5555555555555556,\"#d8576b\"],[0.6666666666666666,\"#ed7953\"],[0.7777777777777778,\"#fb9f3a\"],[0.8888888888888888,\"#fdca26\"],[1.0,\"#f0f921\"]]}],\"heatmap\":[{\"type\":\"heatmap\",\"colorbar\":{\"outlinewidth\":0,\"ticks\":\"\"},\"colorscale\":[[0.0,\"#0d0887\"],[0.1111111111111111,\"#46039f\"],[0.2222222222222222,\"#7201a8\"],[0.3333333333333333,\"#9c179e\"],[0.4444444444444444,\"#bd3786\"],[0.5555555555555556,\"#d8576b\"],[0.6666666666666666,\"#ed7953\"],[0.7777777777777778,\"#fb9f3a\"],[0.8888888888888888,\"#fdca26\"],[1.0,\"#f0f921\"]]}],\"heatmapgl\":[{\"type\":\"heatmapgl\",\"colorbar\":{\"outlinewidth\":0,\"ticks\":\"\"},\"colorscale\":[[0.0,\"#0d0887\"],[0.1111111111111111,\"#46039f\"],[0.2222222222222222,\"#7201a8\"],[0.3333333333333333,\"#9c179e\"],[0.4444444444444444,\"#bd3786\"],[0.5555555555555556,\"#d8576b\"],[0.6666666666666666,\"#ed7953\"],[0.7777777777777778,\"#fb9f3a\"],[0.8888888888888888,\"#fdca26\"],[1.0,\"#f0f921\"]]}],\"contourcarpet\":[{\"type\":\"contourcarpet\",\"colorbar\":{\"outlinewidth\":0,\"ticks\":\"\"}}],\"contour\":[{\"type\":\"contour\",\"colorbar\":{\"outlinewidth\":0,\"ticks\":\"\"},\"colorscale\":[[0.0,\"#0d0887\"],[0.1111111111111111,\"#46039f\"],[0.2222222222222222,\"#7201a8\"],[0.3333333333333333,\"#9c179e\"],[0.4444444444444444,\"#bd3786\"],[0.5555555555555556,\"#d8576b\"],[0.6666666666666666,\"#ed7953\"],[0.7777777777777778,\"#fb9f3a\"],[0.8888888888888888,\"#fdca26\"],[1.0,\"#f0f921\"]]}],\"surface\":[{\"type\":\"surface\",\"colorbar\":{\"outlinewidth\":0,\"ticks\":\"\"},\"colorscale\":[[0.0,\"#0d0887\"],[0.1111111111111111,\"#46039f\"],[0.2222222222222222,\"#7201a8\"],[0.3333333333333333,\"#9c179e\"],[0.4444444444444444,\"#bd3786\"],[0.5555555555555556,\"#d8576b\"],[0.6666666666666666,\"#ed7953\"],[0.7777777777777778,\"#fb9f3a\"],[0.8888888888888888,\"#fdca26\"],[1.0,\"#f0f921\"]]}],\"mesh3d\":[{\"type\":\"mesh3d\",\"colorbar\":{\"outlinewidth\":0,\"ticks\":\"\"}}],\"scatter\":[{\"fillpattern\":{\"fillmode\":\"overlay\",\"size\":10,\"solidity\":0.2},\"type\":\"scatter\"}],\"parcoords\":[{\"type\":\"parcoords\",\"line\":{\"colorbar\":{\"outlinewidth\":0,\"ticks\":\"\"}}}],\"scatterpolargl\":[{\"type\":\"scatterpolargl\",\"marker\":{\"colorbar\":{\"outlinewidth\":0,\"ticks\":\"\"}}}],\"bar\":[{\"error_x\":{\"color\":\"#2a3f5f\"},\"error_y\":{\"color\":\"#2a3f5f\"},\"marker\":{\"line\":{\"color\":\"#E5ECF6\",\"width\":0.5},\"pattern\":{\"fillmode\":\"overlay\",\"size\":10,\"solidity\":0.2}},\"type\":\"bar\"}],\"scattergeo\":[{\"type\":\"scattergeo\",\"marker\":{\"colorbar\":{\"outlinewidth\":0,\"ticks\":\"\"}}}],\"scatterpolar\":[{\"type\":\"scatterpolar\",\"marker\":{\"colorbar\":{\"outlinewidth\":0,\"ticks\":\"\"}}}],\"histogram\":[{\"marker\":{\"pattern\":{\"fillmode\":\"overlay\",\"size\":10,\"solidity\":0.2}},\"type\":\"histogram\"}],\"scattergl\":[{\"type\":\"scattergl\",\"marker\":{\"colorbar\":{\"outlinewidth\":0,\"ticks\":\"\"}}}],\"scatter3d\":[{\"type\":\"scatter3d\",\"line\":{\"colorbar\":{\"outlinewidth\":0,\"ticks\":\"\"}},\"marker\":{\"colorbar\":{\"outlinewidth\":0,\"ticks\":\"\"}}}],\"scattermapbox\":[{\"type\":\"scattermapbox\",\"marker\":{\"colorbar\":{\"outlinewidth\":0,\"ticks\":\"\"}}}],\"scatterternary\":[{\"type\":\"scatterternary\",\"marker\":{\"colorbar\":{\"outlinewidth\":0,\"ticks\":\"\"}}}],\"scattercarpet\":[{\"type\":\"scattercarpet\",\"marker\":{\"colorbar\":{\"outlinewidth\":0,\"ticks\":\"\"}}}],\"carpet\":[{\"aaxis\":{\"endlinecolor\":\"#2a3f5f\",\"gridcolor\":\"white\",\"linecolor\":\"white\",\"minorgridcolor\":\"white\",\"startlinecolor\":\"#2a3f5f\"},\"baxis\":{\"endlinecolor\":\"#2a3f5f\",\"gridcolor\":\"white\",\"linecolor\":\"white\",\"minorgridcolor\":\"white\",\"startlinecolor\":\"#2a3f5f\"},\"type\":\"carpet\"}],\"table\":[{\"cells\":{\"fill\":{\"color\":\"#EBF0F8\"},\"line\":{\"color\":\"white\"}},\"header\":{\"fill\":{\"color\":\"#C8D4E3\"},\"line\":{\"color\":\"white\"}},\"type\":\"table\"}],\"barpolar\":[{\"marker\":{\"line\":{\"color\":\"#E5ECF6\",\"width\":0.5},\"pattern\":{\"fillmode\":\"overlay\",\"size\":10,\"solidity\":0.2}},\"type\":\"barpolar\"}],\"pie\":[{\"automargin\":true,\"type\":\"pie\"}]},\"layout\":{\"autotypenumbers\":\"strict\",\"colorway\":[\"#636efa\",\"#EF553B\",\"#00cc96\",\"#ab63fa\",\"#FFA15A\",\"#19d3f3\",\"#FF6692\",\"#B6E880\",\"#FF97FF\",\"#FECB52\"],\"font\":{\"color\":\"#2a3f5f\"},\"hovermode\":\"closest\",\"hoverlabel\":{\"align\":\"left\"},\"paper_bgcolor\":\"white\",\"plot_bgcolor\":\"#E5ECF6\",\"polar\":{\"bgcolor\":\"#E5ECF6\",\"angularaxis\":{\"gridcolor\":\"white\",\"linecolor\":\"white\",\"ticks\":\"\"},\"radialaxis\":{\"gridcolor\":\"white\",\"linecolor\":\"white\",\"ticks\":\"\"}},\"ternary\":{\"bgcolor\":\"#E5ECF6\",\"aaxis\":{\"gridcolor\":\"white\",\"linecolor\":\"white\",\"ticks\":\"\"},\"baxis\":{\"gridcolor\":\"white\",\"linecolor\":\"white\",\"ticks\":\"\"},\"caxis\":{\"gridcolor\":\"white\",\"linecolor\":\"white\",\"ticks\":\"\"}},\"coloraxis\":{\"colorbar\":{\"outlinewidth\":0,\"ticks\":\"\"}},\"colorscale\":{\"sequential\":[[0.0,\"#0d0887\"],[0.1111111111111111,\"#46039f\"],[0.2222222222222222,\"#7201a8\"],[0.3333333333333333,\"#9c179e\"],[0.4444444444444444,\"#bd3786\"],[0.5555555555555556,\"#d8576b\"],[0.6666666666666666,\"#ed7953\"],[0.7777777777777778,\"#fb9f3a\"],[0.8888888888888888,\"#fdca26\"],[1.0,\"#f0f921\"]],\"sequentialminus\":[[0.0,\"#0d0887\"],[0.1111111111111111,\"#46039f\"],[0.2222222222222222,\"#7201a8\"],[0.3333333333333333,\"#9c179e\"],[0.4444444444444444,\"#bd3786\"],[0.5555555555555556,\"#d8576b\"],[0.6666666666666666,\"#ed7953\"],[0.7777777777777778,\"#fb9f3a\"],[0.8888888888888888,\"#fdca26\"],[1.0,\"#f0f921\"]],\"diverging\":[[0,\"#8e0152\"],[0.1,\"#c51b7d\"],[0.2,\"#de77ae\"],[0.3,\"#f1b6da\"],[0.4,\"#fde0ef\"],[0.5,\"#f7f7f7\"],[0.6,\"#e6f5d0\"],[0.7,\"#b8e186\"],[0.8,\"#7fbc41\"],[0.9,\"#4d9221\"],[1,\"#276419\"]]},\"xaxis\":{\"gridcolor\":\"white\",\"linecolor\":\"white\",\"ticks\":\"\",\"title\":{\"standoff\":15},\"zerolinecolor\":\"white\",\"automargin\":true,\"zerolinewidth\":2},\"yaxis\":{\"gridcolor\":\"white\",\"linecolor\":\"white\",\"ticks\":\"\",\"title\":{\"standoff\":15},\"zerolinecolor\":\"white\",\"automargin\":true,\"zerolinewidth\":2},\"scene\":{\"xaxis\":{\"backgroundcolor\":\"#E5ECF6\",\"gridcolor\":\"white\",\"linecolor\":\"white\",\"showbackground\":true,\"ticks\":\"\",\"zerolinecolor\":\"white\",\"gridwidth\":2},\"yaxis\":{\"backgroundcolor\":\"#E5ECF6\",\"gridcolor\":\"white\",\"linecolor\":\"white\",\"showbackground\":true,\"ticks\":\"\",\"zerolinecolor\":\"white\",\"gridwidth\":2},\"zaxis\":{\"backgroundcolor\":\"#E5ECF6\",\"gridcolor\":\"white\",\"linecolor\":\"white\",\"showbackground\":true,\"ticks\":\"\",\"zerolinecolor\":\"white\",\"gridwidth\":2}},\"shapedefaults\":{\"line\":{\"color\":\"#2a3f5f\"}},\"annotationdefaults\":{\"arrowcolor\":\"#2a3f5f\",\"arrowhead\":0,\"arrowwidth\":1},\"geo\":{\"bgcolor\":\"white\",\"landcolor\":\"#E5ECF6\",\"subunitcolor\":\"white\",\"showland\":true,\"showlakes\":true,\"lakecolor\":\"white\"},\"title\":{\"x\":0.05},\"mapbox\":{\"style\":\"light\"}}},\"xaxis\":{\"anchor\":\"y\",\"domain\":[0.0,1.0],\"scaleanchor\":\"y\",\"constrain\":\"domain\"},\"yaxis\":{\"anchor\":\"x\",\"domain\":[0.0,1.0],\"autorange\":\"reversed\",\"constrain\":\"domain\"},\"coloraxis\":{\"colorscale\":[[0.0,\"rgb(5,48,97)\"],[0.1,\"rgb(33,102,172)\"],[0.2,\"rgb(67,147,195)\"],[0.3,\"rgb(146,197,222)\"],[0.4,\"rgb(209,229,240)\"],[0.5,\"rgb(247,247,247)\"],[0.6,\"rgb(253,219,199)\"],[0.7,\"rgb(244,165,130)\"],[0.8,\"rgb(214,96,77)\"],[0.9,\"rgb(178,24,43)\"],[1.0,\"rgb(103,0,31)\"]]},\"margin\":{\"t\":60}},                        {\"responsive\": true}                    ).then(function(){\n",
       "                            \n",
       "var gd = document.getElementById('4ca87b6c-fad4-47d8-8af8-de1a29c00fd5');\n",
       "var x = new MutationObserver(function (mutations, observer) {{\n",
       "        var display = window.getComputedStyle(gd).display;\n",
       "        if (!display || display === 'none') {{\n",
       "            console.log([gd, 'removed!']);\n",
       "            Plotly.purge(gd);\n",
       "            observer.disconnect();\n",
       "        }}\n",
       "}});\n",
       "\n",
       "// Listen for the removal of the full notebook cells\n",
       "var notebookContainer = gd.closest('#notebook-container');\n",
       "if (notebookContainer) {{\n",
       "    x.observe(notebookContainer, {childList: true});\n",
       "}}\n",
       "\n",
       "// Listen for the clearing of the current output cell\n",
       "var outputEl = gd.closest('.output');\n",
       "if (outputEl) {{\n",
       "    x.observe(outputEl, {childList: true});\n",
       "}}\n",
       "\n",
       "                        })                };                });            </script>        </div>"
      ]
     },
     "metadata": {},
     "output_type": "display_data"
    }
   ],
   "source": [
    "fig_2 = px.imshow(spotify_correlation.corr(method='spearman', numeric_only=False), color_continuous_scale='RdBu_r')\n",
    "fig_2.show()"
   ]
  },
  {
   "cell_type": "markdown",
   "id": "7f2adf42",
   "metadata": {},
   "source": [
    "#### Między czynnikami takimi jak taneczność, energetyczność, dźwięczność itd, a popularnością piosenek nie zauważyliśmy znaczącej korelacji na podstawie współczynników Pearsona i Spearmana"
   ]
  },
  {
   "cell_type": "markdown",
   "id": "7ab8cc5c",
   "metadata": {},
   "source": [
    "# Czy jakieś gatunki muzyczne są bardziej preferowane przez słuchaczy (czy mają większą sumę wartości 'popularity')?"
   ]
  },
  {
   "cell_type": "markdown",
   "id": "ac055101",
   "metadata": {},
   "source": [
    "#### Czy dany gatunek muzyczny wyróżniał się pod względem sumy popularności?"
   ]
  },
  {
   "cell_type": "code",
   "execution_count": 16,
   "id": "1d18767c",
   "metadata": {},
   "outputs": [],
   "source": [
    "# pogrupowanie wartości dla gatunku muzycznego i spoliczenie sumy popularności dla każdego z gatunków \n",
    "#- czy są jakieś wartości odstające? "
   ]
  },
  {
   "cell_type": "code",
   "execution_count": 17,
   "id": "497ad3ec",
   "metadata": {},
   "outputs": [
    {
     "data": {
      "text/plain": [
       "<AxesSubplot: ylabel='Popularity'>"
      ]
     },
     "execution_count": 17,
     "metadata": {},
     "output_type": "execute_result"
    },
    {
     "data": {
      "image/png": "[encoded data removed]",
      "text/plain": [
       "<Figure size 640x480 with 1 Axes>"
      ]
     },
     "metadata": {},
     "output_type": "display_data"
    }
   ],
   "source": [
    "popularity_for_genre = global_only.groupby('Genre')['Popularity'].sum().plot(kind='pie')\n",
    "popularity_for_genre"
   ]
  },
  {
   "cell_type": "markdown",
   "id": "e51ed897",
   "metadata": {},
   "source": [
    "##### na tym wykresie widać, ze najbardziej popularne gatunki muzyczne na świecie to: dance pop, latin i pop "
   ]
  },
  {
   "cell_type": "markdown",
   "id": "e4e77895",
   "metadata": {},
   "source": [
    "#### teraz to samo na podstawie kolumny 'new_genre' zamiast 'genre'"
   ]
  },
  {
   "cell_type": "code",
   "execution_count": 18,
   "id": "ed92b8c5",
   "metadata": {},
   "outputs": [
    {
     "data": {
      "text/plain": [
       "<AxesSubplot: xlabel='Genre_new'>"
      ]
     },
     "execution_count": 18,
     "metadata": {},
     "output_type": "execute_result"
    },
    {
     "data": {
      "image/png": "[encoded data removed]",
      "text/plain": [
       "<Figure size 640x480 with 1 Axes>"
      ]
     },
     "metadata": {},
     "output_type": "display_data"
    }
   ],
   "source": [
    "popularity_for_genre_new = global_only.groupby('Genre_new')['Popularity'].sum().plot(kind='bar')\n",
    "popularity_for_genre_new"
   ]
  },
  {
   "cell_type": "markdown",
   "id": "f5d7011a",
   "metadata": {},
   "source": [
    "##### Po zminiejszeniu ilości gatunków ('genre_new) widać, że najpopularniejsze gatunki muzyczne to: \n",
    "1. pop\n",
    "2. rap\n",
    "3. hip hop\n",
    "4. latin\n",
    "5. dance/electronic (prawie na równi jest r&b/soul)"
   ]
  },
  {
   "cell_type": "code",
   "execution_count": null,
   "id": "191b56fb",
   "metadata": {},
   "outputs": [],
   "source": []
  },
  {
   "cell_type": "code",
   "execution_count": null,
   "id": "047b2f8f",
   "metadata": {},
   "outputs": [],
   "source": []
  },
  {
   "cell_type": "code",
   "execution_count": null,
   "id": "33f6779e",
   "metadata": {},
   "outputs": [],
   "source": []
  },
  {
   "cell_type": "code",
   "execution_count": null,
   "id": "6ec19844",
   "metadata": {},
   "outputs": [],
   "source": []
  }
 ],
 "metadata": {
  "kernelspec": {
   "display_name": "Python 3 (ipykernel)",
   "language": "python",
   "name": "python3"
  },
  "language_info": {
   "codemirror_mode": {
    "name": "ipython",
    "version": 3
   },
   "file_extension": ".py",
   "mimetype": "text/x-python",
   "name": "python",
   "nbconvert_exporter": "python",
   "pygments_lexer": "ipython3",
   "version": "3.9.13"
  }
 },
 "nbformat": 4,
 "nbformat_minor": 5
}
